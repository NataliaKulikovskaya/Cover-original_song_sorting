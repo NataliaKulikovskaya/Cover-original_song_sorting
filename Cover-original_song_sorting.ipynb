{
  "cells": [
    {
      "cell_type": "markdown",
      "id": "c6895940-49ae-4e3e-9daf-98de1b675fac",
      "metadata": {
        "id": "c6895940-49ae-4e3e-9daf-98de1b675fac"
      },
      "source": [
        "# Проект: Обнаружение каверов музыкальных треков\n",
        "\n",
        "\n",
        "Обнаружение треков каверов - важная продуктовая задача, которая может значительно улучшить качество рекомендаций музыкального сервиса и повысить счастье наших пользователей. Если мы умеем с высокой точностью классифицировать каверы и связывать их между собой, то можно предложить пользователю новые возможности для управления потоком треков. Например:\n",
        "\n",
        "- по желанию пользователя можем полностью исключить каверы из рекомендаций;\n",
        "- показать все каверы на любимый трек пользователя;\n",
        "- контролировать долю каверов в ленте пользователя.\n",
        "\n",
        "В этом хакатоне вам предлагается разработать решение, которое:\n",
        "\n",
        "- может классифицировать треки по признаку кавер-некавер;\n",
        "- связывать (группировать) каверы и исходный трек;\n",
        "- находит исходный трек в цепочке каверов.\n",
        "\n",
        "Совсем не обязательно, чтобы ваше решение умело делать все три функции. Будет уже здорово, если вы сможете придумать решение хотя бы для одной задачи.\n",
        "\n",
        "Для решения этой задачи вы можете использовать любые открытые источники данных и собирать необходимую вам информацию, соблюдая правила использования сервисов, которые эту информацию предоставляют."
      ]
    },
    {
      "cell_type": "markdown",
      "id": "977081a0-5851-4428-81a1-63193832dd9c",
      "metadata": {
        "id": "977081a0-5851-4428-81a1-63193832dd9c"
      },
      "source": [
        "## Описание данных\n",
        "\n",
        "Мы предоставляем вам данные, на которых вы можете тестировать ваши решения.\n",
        "\n",
        "Ссылка https://disk.yandex.ru/d/w2ViWajlqRz9Hw , пароль Music2110\n",
        "\n",
        "### Разметка каверов\n",
        "\n",
        "Файл covers.json содержит разметку каверов, сделанную редакторами сервиса:\n",
        "\n",
        "- track_id - уникальный идентификатор трека;\n",
        "- track_remake_type - метка, присвоенная редакторами. Может принимать значения ORIGINAL и COVER;\n",
        "- original_track_id - уникальный идентификатор исходного трека.\n",
        "\n",
        "<aside>\n",
        "💡 Обратите внимание, что не для всех каверов известны идентификаторы исходных треков!!!\n",
        "\n",
        "</aside>\n",
        "\n",
        "### Метаинформация\n",
        "\n",
        "- track_id - уникальный идентификатор трека;\n",
        "- dttm - первая дата появления информации о треке;\n",
        "- title - название трека;\n",
        "- language - язык исполнения;\n",
        "- isrc - международный уникальный идентификатор трека;\n",
        "- genres - жанры;\n",
        "- duration - длительность трека;\n",
        "\n",
        "### Текст песен\n",
        "\n",
        "- track_id - уникальный идентификатор трека;\n",
        "- lyricId - уникальный идентификатор текста;\n",
        "- text - текст трека."
      ]
    },
    {
      "cell_type": "markdown",
      "source": [
        "Наш проект нацелен на разработку системы, способной выявлять кавер-версии музыкальных треков. Эта задача имеет важное значение для усовершенствования рекомендательных систем в музыкальном сервисе и, следовательно, для увеличения удовлетворенности наших пользователей. Правильное определение кавер-версий и их связывание с оригинальными треками предоставляет новые возможности для управления музыкальным контентом, такие как:\n",
        "Пользователи могут исключать кавер-версии из персональных рекомендаций, если они этого желают.\n",
        "Возможность предоставить полный список кавер-версий для любимых треков пользователей.\n",
        "Пользователи смогут контролировать количество кавер-версий в своем потоке музыкальных рекомендаций."
      ],
      "metadata": {
        "id": "nG5aORE83cmE"
      },
      "id": "nG5aORE83cmE"
    },
    {
      "cell_type": "markdown",
      "source": [
        "Мы привели решение задачи, однако для полной его реализации требуется собрать максимальное число текстов песен так, чтобы в данных были связки COVER-ORIGINAL, что поможет получать более точные результаты."
      ],
      "metadata": {
        "id": "65SThSnj4cDG"
      },
      "id": "65SThSnj4cDG"
    },
    {
      "cell_type": "markdown",
      "source": [
        "Был произведен анализ исходных данных. По результатам чего мы определили, что некоторые столбцы могут быть использованы в целях машинного обучения. Кроме того, было решено что нужно дополнить данные информацией об исполнителе и дате релиза трека. С наше й точки зрения ключевой информацией является тексты песен, которые в значительной степени пропущены в исходных данных. Для создания более эффективной модели рекомендуем собрать больше данных с использованием API. Тексты песен были лемматизированы и векторизованы. Были обучены модели для численных признаков RandomForestClassifier(),DecisionTreeClassifier(), LogisticRegression() и CatBoostClassifier () и для лемматизированных текстов песни на моделях RandomForestClassifier(),DecisionTreeClassifier() качество которых проверяли использованием метрик F1-score."
      ],
      "metadata": {
        "id": "07QwR3Nc4usN"
      },
      "id": "07QwR3Nc4usN"
    },
    {
      "cell_type": "markdown",
      "source": [
        "# Концепция исследования\n"
      ],
      "metadata": {
        "id": "mBNu8CXe5lf0"
      },
      "id": "mBNu8CXe5lf0"
    },
    {
      "cell_type": "markdown",
      "source": [
        "Мы предлагаем это решение как пример. Для обучения более эффективной модели требуется последующий сбор данных с помощью API, на что трабуется затратить время. Мы предлагаем пользоваться musixmatch API.\n",
        "\n",
        "Именно поэтому мы предлагаем заказчику \"технологию\" на полностью обработанных данных, чтобы продемонстрировать возможности нашего решения в наиболее полном виде.\n",
        "Время работы закодированных ячеек слишком велико и во избежание трат лишних ресурсов обоих сторон было принято решение выводить рельтат работы данных ячеек в виде нового датасета с добавленным признаком (результатом работы ячейки)\n",
        "\n",
        "При желании заказчик может раскодировать данные ячейки и запустить их"
      ],
      "metadata": {
        "id": "KI55VGVb5u5Z"
      },
      "id": "KI55VGVb5u5Z"
    },
    {
      "cell_type": "markdown",
      "id": "cbab1c96-02dd-444e-ae88-8d0d545937e6",
      "metadata": {
        "id": "cbab1c96-02dd-444e-ae88-8d0d545937e6"
      },
      "source": [
        "## Загрузка необходимых для работы библиотек"
      ]
    },
    {
      "cell_type": "code",
      "execution_count": null,
      "id": "8fc40b33-acae-449c-875f-3a930cac29b7",
      "metadata": {
        "colab": {
          "base_uri": "https://localhost:8080/"
        },
        "id": "8fc40b33-acae-449c-875f-3a930cac29b7",
        "outputId": "e589bdf0-ae56-4ff4-f494-c9d271e784a3"
      },
      "outputs": [
        {
          "name": "stdout",
          "output_type": "stream",
          "text": [
            "Requirement already satisfied: package_name in /Applications/Anaconda3/anaconda3/lib/python3.9/site-packages (0.1)\n",
            "Requirement already satisfied: langdetect in /Applications/Anaconda3/anaconda3/lib/python3.9/site-packages (1.0.9)\n",
            "Requirement already satisfied: six in /Applications/Anaconda3/anaconda3/lib/python3.9/site-packages (from langdetect) (1.16.0)\n",
            "Requirement already satisfied: pip in /Applications/Anaconda3/anaconda3/lib/python3.9/site-packages (23.3.1)\n"
          ]
        }
      ],
      "source": [
        "# Загрузка библиотеки\n",
        "\n",
        "!pip install package_name\n",
        "!pip install -Uq spacy\n",
        "!pip install langdetect\n",
        "!pip install --upgrade pip"
      ]
    },
    {
      "cell_type": "code",
      "execution_count": null,
      "id": "e03adc60-92aa-40c7-a97d-c758f9fe033d",
      "metadata": {
        "id": "e03adc60-92aa-40c7-a97d-c758f9fe033d",
        "outputId": "ea784715-4848-47e4-ffed-d69350499332"
      },
      "outputs": [
        {
          "name": "stdout",
          "output_type": "stream",
          "text": [
            "Requirement already satisfied: numpy==1.23.5 in /Applications/Anaconda3/anaconda3/lib/python3.9/site-packages (1.23.5)\n"
          ]
        }
      ],
      "source": [
        "!pip install numpy==1.23.5"
      ]
    },
    {
      "cell_type": "code",
      "execution_count": null,
      "id": "cad957a7-3a35-412b-8c45-466bc27ac1e0",
      "metadata": {
        "id": "cad957a7-3a35-412b-8c45-466bc27ac1e0"
      },
      "outputs": [],
      "source": [
        "# Установка библиотек\n",
        "import json\n",
        "import pandas as pd\n",
        "import numpy as np\n",
        "import nltk\n",
        "import re\n",
        "import spacy\n",
        "from datetime import datetime\n",
        "import matplotlib.pyplot as plt\n",
        "from time import time\n",
        "from tqdm import tqdm\n",
        "\n",
        "from langdetect.lang_detect_exception import LangDetectException\n",
        "from langdetect import detect\n",
        "from scipy.stats import chi2_contingency\n",
        "from nltk.stem import WordNetLemmatizer\n",
        "from nltk.corpus import stopwords as nltk_stopwords"
      ]
    },
    {
      "cell_type": "code",
      "execution_count": null,
      "id": "990927d2-57e8-4121-876d-ce7725e79b3c",
      "metadata": {
        "id": "990927d2-57e8-4121-876d-ce7725e79b3c"
      },
      "outputs": [],
      "source": [
        "import nltk\n",
        "import re\n",
        "from nltk.stem import WordNetLemmatizer\n",
        "from nltk.corpus import stopwords as nltk_stopwords\n",
        "from sklearn.feature_extraction.text import  TfidfVectorizer"
      ]
    },
    {
      "cell_type": "code",
      "execution_count": null,
      "id": "713598eb-18c3-43b0-a257-25ea0530b36a",
      "metadata": {
        "id": "713598eb-18c3-43b0-a257-25ea0530b36a"
      },
      "outputs": [],
      "source": [
        "from sklearn.model_selection import train_test_split\n",
        "from sklearn.preprocessing import LabelEncoder\n",
        "from sklearn.compose import make_column_transformer\n",
        "from sklearn.preprocessing import StandardScaler"
      ]
    },
    {
      "cell_type": "code",
      "execution_count": null,
      "id": "dd49f667-c671-4964-b055-58c2d621c0a6",
      "metadata": {
        "id": "dd49f667-c671-4964-b055-58c2d621c0a6"
      },
      "outputs": [],
      "source": [
        "from sklearn.linear_model import LogisticRegression\n",
        "from sklearn.tree import DecisionTreeClassifier\n",
        "from sklearn.ensemble import RandomForestClassifier"
      ]
    },
    {
      "cell_type": "code",
      "execution_count": null,
      "id": "9db05642-5e78-46f8-9afb-4a54087a1f7c",
      "metadata": {
        "id": "9db05642-5e78-46f8-9afb-4a54087a1f7c"
      },
      "outputs": [],
      "source": [
        "from sklearn.model_selection import cross_val_score\n",
        "from sklearn.metrics import f1_score"
      ]
    },
    {
      "cell_type": "code",
      "execution_count": null,
      "id": "ea0e63e5-f327-4812-b3cb-35c9089159d7",
      "metadata": {
        "id": "ea0e63e5-f327-4812-b3cb-35c9089159d7",
        "outputId": "64c58ec2-ba15-44c5-f945-73e129bc5f90"
      },
      "outputs": [
        {
          "name": "stdout",
          "output_type": "stream",
          "text": [
            "Requirement already satisfied: catboost in /Applications/Anaconda3/anaconda3/lib/python3.9/site-packages (0.26)\n",
            "Requirement already satisfied: graphviz in /Applications/Anaconda3/anaconda3/lib/python3.9/site-packages (from catboost) (0.20.1)\n",
            "Requirement already satisfied: matplotlib in /Applications/Anaconda3/anaconda3/lib/python3.9/site-packages (from catboost) (3.7.3)\n",
            "Requirement already satisfied: numpy>=1.16.0 in /Applications/Anaconda3/anaconda3/lib/python3.9/site-packages (from catboost) (1.23.5)\n",
            "Requirement already satisfied: pandas>=0.24.0 in /Applications/Anaconda3/anaconda3/lib/python3.9/site-packages (from catboost) (2.0.3)\n",
            "Requirement already satisfied: scipy in /Applications/Anaconda3/anaconda3/lib/python3.9/site-packages (from catboost) (1.11.3)\n",
            "Requirement already satisfied: plotly in /Applications/Anaconda3/anaconda3/lib/python3.9/site-packages (from catboost) (5.18.0)\n",
            "Requirement already satisfied: six in /Applications/Anaconda3/anaconda3/lib/python3.9/site-packages (from catboost) (1.16.0)\n",
            "Requirement already satisfied: python-dateutil>=2.8.2 in /Applications/Anaconda3/anaconda3/lib/python3.9/site-packages (from pandas>=0.24.0->catboost) (2.8.2)\n",
            "Requirement already satisfied: pytz>=2020.1 in /Applications/Anaconda3/anaconda3/lib/python3.9/site-packages (from pandas>=0.24.0->catboost) (2023.3.post1)\n",
            "Requirement already satisfied: tzdata>=2022.1 in /Applications/Anaconda3/anaconda3/lib/python3.9/site-packages (from pandas>=0.24.0->catboost) (2023.3)\n",
            "Requirement already satisfied: contourpy>=1.0.1 in /Applications/Anaconda3/anaconda3/lib/python3.9/site-packages (from matplotlib->catboost) (1.1.1)\n",
            "Requirement already satisfied: cycler>=0.10 in /Applications/Anaconda3/anaconda3/lib/python3.9/site-packages (from matplotlib->catboost) (0.12.1)\n",
            "Requirement already satisfied: fonttools>=4.22.0 in /Applications/Anaconda3/anaconda3/lib/python3.9/site-packages (from matplotlib->catboost) (4.43.1)\n",
            "Requirement already satisfied: kiwisolver>=1.0.1 in /Applications/Anaconda3/anaconda3/lib/python3.9/site-packages (from matplotlib->catboost) (1.4.5)\n",
            "Requirement already satisfied: packaging>=20.0 in /Applications/Anaconda3/anaconda3/lib/python3.9/site-packages (from matplotlib->catboost) (23.2)\n",
            "Requirement already satisfied: pillow>=6.2.0 in /Applications/Anaconda3/anaconda3/lib/python3.9/site-packages (from matplotlib->catboost) (10.0.1)\n",
            "Requirement already satisfied: pyparsing>=2.3.1 in /Applications/Anaconda3/anaconda3/lib/python3.9/site-packages (from matplotlib->catboost) (3.1.1)\n",
            "Requirement already satisfied: importlib-resources>=3.2.0 in /Applications/Anaconda3/anaconda3/lib/python3.9/site-packages (from matplotlib->catboost) (6.1.0)\n",
            "Requirement already satisfied: tenacity>=6.2.0 in /Applications/Anaconda3/anaconda3/lib/python3.9/site-packages (from plotly->catboost) (8.2.3)\n",
            "Requirement already satisfied: zipp>=3.1.0 in /Applications/Anaconda3/anaconda3/lib/python3.9/site-packages (from importlib-resources>=3.2.0->matplotlib->catboost) (3.17.0)\n"
          ]
        }
      ],
      "source": [
        "!pip install catboost\n",
        "from catboost import CatBoostClassifier"
      ]
    },
    {
      "cell_type": "code",
      "execution_count": null,
      "id": "v9phEej4TZzX",
      "metadata": {
        "colab": {
          "base_uri": "https://localhost:8080/"
        },
        "id": "v9phEej4TZzX",
        "outputId": "8f10b673-7fca-4a4f-e34e-58f01c83e16d"
      },
      "outputs": [
        {
          "data": {
            "text/plain": [
              "\"\\nfrom google.colab import drive\\ndrive.mount('/content/drive')\\n\""
            ]
          },
          "execution_count": 9,
          "metadata": {},
          "output_type": "execute_result"
        }
      ],
      "source": [
        "'''\n",
        "from google.colab import drive\n",
        "drive.mount('/content/drive')\n",
        "'''"
      ]
    },
    {
      "cell_type": "code",
      "execution_count": null,
      "id": "lB2PDCTElx8S",
      "metadata": {
        "colab": {
          "base_uri": "https://localhost:8080/"
        },
        "id": "lB2PDCTElx8S",
        "outputId": "5efd0306-29e3-4051-b19a-a64fdea5d1e5"
      },
      "outputs": [
        {
          "name": "stdout",
          "output_type": "stream",
          "text": [
            "Requirement already satisfied: transformers in /Applications/Anaconda3/anaconda3/lib/python3.9/site-packages (4.34.1)\n",
            "Requirement already satisfied: torch in /Applications/Anaconda3/anaconda3/lib/python3.9/site-packages (2.1.0)\n",
            "Requirement already satisfied: pandas in /Applications/Anaconda3/anaconda3/lib/python3.9/site-packages (2.0.3)\n",
            "Requirement already satisfied: filelock in /Applications/Anaconda3/anaconda3/lib/python3.9/site-packages (from transformers) (3.13.0)\n",
            "Requirement already satisfied: huggingface-hub<1.0,>=0.16.4 in /Applications/Anaconda3/anaconda3/lib/python3.9/site-packages (from transformers) (0.17.3)\n",
            "Requirement already satisfied: numpy>=1.17 in /Applications/Anaconda3/anaconda3/lib/python3.9/site-packages (from transformers) (1.23.5)\n",
            "Requirement already satisfied: packaging>=20.0 in /Applications/Anaconda3/anaconda3/lib/python3.9/site-packages (from transformers) (23.2)\n",
            "Requirement already satisfied: pyyaml>=5.1 in /Applications/Anaconda3/anaconda3/lib/python3.9/site-packages (from transformers) (6.0.1)\n",
            "Requirement already satisfied: regex!=2019.12.17 in /Applications/Anaconda3/anaconda3/lib/python3.9/site-packages (from transformers) (2023.10.3)\n",
            "Requirement already satisfied: requests in /Applications/Anaconda3/anaconda3/lib/python3.9/site-packages (from transformers) (2.31.0)\n",
            "Requirement already satisfied: tokenizers<0.15,>=0.14 in /Applications/Anaconda3/anaconda3/lib/python3.9/site-packages (from transformers) (0.14.1)\n",
            "Requirement already satisfied: safetensors>=0.3.1 in /Applications/Anaconda3/anaconda3/lib/python3.9/site-packages (from transformers) (0.4.0)\n",
            "Requirement already satisfied: tqdm>=4.27 in /Applications/Anaconda3/anaconda3/lib/python3.9/site-packages (from transformers) (4.66.1)\n",
            "Requirement already satisfied: typing-extensions in /Applications/Anaconda3/anaconda3/lib/python3.9/site-packages (from torch) (4.8.0)\n",
            "Requirement already satisfied: sympy in /Applications/Anaconda3/anaconda3/lib/python3.9/site-packages (from torch) (1.12)\n",
            "Requirement already satisfied: networkx in /Applications/Anaconda3/anaconda3/lib/python3.9/site-packages (from torch) (3.2)\n",
            "Requirement already satisfied: jinja2 in /Users/anastasiaklubkova/.local/lib/python3.9/site-packages (from torch) (3.1.2)\n",
            "Requirement already satisfied: fsspec in /Applications/Anaconda3/anaconda3/lib/python3.9/site-packages (from torch) (2023.10.0)\n",
            "Requirement already satisfied: python-dateutil>=2.8.2 in /Applications/Anaconda3/anaconda3/lib/python3.9/site-packages (from pandas) (2.8.2)\n",
            "Requirement already satisfied: pytz>=2020.1 in /Applications/Anaconda3/anaconda3/lib/python3.9/site-packages (from pandas) (2023.3.post1)\n",
            "Requirement already satisfied: tzdata>=2022.1 in /Applications/Anaconda3/anaconda3/lib/python3.9/site-packages (from pandas) (2023.3)\n",
            "Requirement already satisfied: six>=1.5 in /Applications/Anaconda3/anaconda3/lib/python3.9/site-packages (from python-dateutil>=2.8.2->pandas) (1.16.0)\n",
            "Requirement already satisfied: MarkupSafe>=2.0 in /Applications/Anaconda3/anaconda3/lib/python3.9/site-packages (from jinja2->torch) (2.1.3)\n",
            "Requirement already satisfied: charset-normalizer<4,>=2 in /Applications/Anaconda3/anaconda3/lib/python3.9/site-packages (from requests->transformers) (2.1.1)\n",
            "Requirement already satisfied: idna<4,>=2.5 in /Applications/Anaconda3/anaconda3/lib/python3.9/site-packages (from requests->transformers) (3.4)\n",
            "Requirement already satisfied: urllib3<3,>=1.21.1 in /Applications/Anaconda3/anaconda3/lib/python3.9/site-packages (from requests->transformers) (2.0.7)\n",
            "Requirement already satisfied: certifi>=2017.4.17 in /Applications/Anaconda3/anaconda3/lib/python3.9/site-packages (from requests->transformers) (2023.7.22)\n",
            "Requirement already satisfied: mpmath>=0.19 in /Applications/Anaconda3/anaconda3/lib/python3.9/site-packages (from sympy->torch) (1.3.0)\n"
          ]
        }
      ],
      "source": [
        "!pip install transformers torch pandas"
      ]
    },
    {
      "cell_type": "code",
      "execution_count": null,
      "id": "f5ecbe29-0082-4dbb-a4fa-cf28522f284e",
      "metadata": {
        "id": "f5ecbe29-0082-4dbb-a4fa-cf28522f284e"
      },
      "outputs": [],
      "source": [
        "SEED = 12345"
      ]
    },
    {
      "cell_type": "markdown",
      "id": "il1pFOluRzLk",
      "metadata": {
        "id": "il1pFOluRzLk"
      },
      "source": [
        "## Загрузка данных"
      ]
    },
    {
      "cell_type": "code",
      "execution_count": null,
      "id": "c9f37174-a5fa-4de5-ae22-4bcc753abe32",
      "metadata": {
        "id": "c9f37174-a5fa-4de5-ae22-4bcc753abe32"
      },
      "outputs": [],
      "source": [
        "# Функция для распаковки файла json\n",
        "\n",
        "def load_data_from_json(json_file_path):\n",
        "    data = []\n",
        "    with open(json_file_path, 'r') as file:\n",
        "        for line in file:\n",
        "            data.append(json.loads(line))\n",
        "    return pd.DataFrame(data)"
      ]
    },
    {
      "cell_type": "markdown",
      "id": "388f0575-edbb-4b81-ba70-0e7b36c40084",
      "metadata": {
        "id": "388f0575-edbb-4b81-ba70-0e7b36c40084"
      },
      "source": [
        "Применим функцию load_data_from_json чтобы выгрузить предоставленные заказчиком файлы."
      ]
    },
    {
      "cell_type": "code",
      "execution_count": null,
      "id": "54d17be4-4566-4dfa-aad2-2d9dc2f8387b",
      "metadata": {
        "id": "54d17be4-4566-4dfa-aad2-2d9dc2f8387b"
      },
      "outputs": [],
      "source": [
        "# Загрузим данные с помощью функции load_data_from_json\n",
        "\n",
        "cover_data = load_data_from_json('/Users/anastasiaklubkova/Downloads/covers.json')\n",
        "lyrics_data = load_data_from_json('/Users/anastasiaklubkova/Downloads/lyrics.json')\n",
        "meta_data = load_data_from_json('/Users/anastasiaklubkova/Downloads/meta.json')"
      ]
    },
    {
      "cell_type": "markdown",
      "id": "a8634f79-f053-482e-9cc2-bf4ddc0ac50e",
      "metadata": {
        "id": "a8634f79-f053-482e-9cc2-bf4ddc0ac50e"
      },
      "source": [
        "# Знакомство с данными"
      ]
    },
    {
      "cell_type": "markdown",
      "id": "iQE50FjoW-LV",
      "metadata": {
        "id": "iQE50FjoW-LV"
      },
      "source": [
        "**cover_data**"
      ]
    },
    {
      "cell_type": "code",
      "execution_count": null,
      "id": "b06ef9ac-75b4-4fcc-a78d-8d1a8b011b8f",
      "metadata": {
        "colab": {
          "base_uri": "https://localhost:8080/"
        },
        "id": "b06ef9ac-75b4-4fcc-a78d-8d1a8b011b8f",
        "outputId": "b62ede46-d89f-4fa3-bd84-faa115d8241a"
      },
      "outputs": [
        {
          "name": "stdout",
          "output_type": "stream",
          "text": [
            "<class 'pandas.core.frame.DataFrame'>\n",
            "RangeIndex: 71597 entries, 0 to 71596\n",
            "Data columns (total 3 columns):\n",
            " #   Column             Non-Null Count  Dtype \n",
            "---  ------             --------------  ----- \n",
            " 0   original_track_id  4821 non-null   object\n",
            " 1   track_id           71597 non-null  object\n",
            " 2   track_remake_type  71597 non-null  object\n",
            "dtypes: object(3)\n",
            "memory usage: 1.6+ MB\n"
          ]
        }
      ],
      "source": [
        "cover_data.info()"
      ]
    },
    {
      "cell_type": "code",
      "execution_count": null,
      "id": "7b6136d0-dac7-4f35-b48e-6707a9347487",
      "metadata": {
        "id": "7b6136d0-dac7-4f35-b48e-6707a9347487",
        "outputId": "c83e17b5-60b3-4661-8d68-43bee10d6217"
      },
      "outputs": [
        {
          "data": {
            "text/html": [
              "<div>\n",
              "<style scoped>\n",
              "    .dataframe tbody tr th:only-of-type {\n",
              "        vertical-align: middle;\n",
              "    }\n",
              "\n",
              "    .dataframe tbody tr th {\n",
              "        vertical-align: top;\n",
              "    }\n",
              "\n",
              "    .dataframe thead th {\n",
              "        text-align: right;\n",
              "    }\n",
              "</style>\n",
              "<table border=\"1\" class=\"dataframe\">\n",
              "  <thead>\n",
              "    <tr style=\"text-align: right;\">\n",
              "      <th></th>\n",
              "      <th>original_track_id</th>\n",
              "      <th>track_id</th>\n",
              "      <th>track_remake_type</th>\n",
              "    </tr>\n",
              "  </thead>\n",
              "  <tbody>\n",
              "    <tr>\n",
              "      <th>0</th>\n",
              "      <td>eeb69a3cb92300456b6a5f4162093851</td>\n",
              "      <td>eeb69a3cb92300456b6a5f4162093851</td>\n",
              "      <td>ORIGINAL</td>\n",
              "    </tr>\n",
              "    <tr>\n",
              "      <th>1</th>\n",
              "      <td>fe7ee8fc1959cc7214fa21c4840dff0a</td>\n",
              "      <td>fe7ee8fc1959cc7214fa21c4840dff0a</td>\n",
              "      <td>ORIGINAL</td>\n",
              "    </tr>\n",
              "    <tr>\n",
              "      <th>2</th>\n",
              "      <td>cd89fef7ffdd490db800357f47722b20</td>\n",
              "      <td>cd89fef7ffdd490db800357f47722b20</td>\n",
              "      <td>ORIGINAL</td>\n",
              "    </tr>\n",
              "    <tr>\n",
              "      <th>3</th>\n",
              "      <td>995665640dc319973d3173a74a03860c</td>\n",
              "      <td>995665640dc319973d3173a74a03860c</td>\n",
              "      <td>ORIGINAL</td>\n",
              "    </tr>\n",
              "    <tr>\n",
              "      <th>4</th>\n",
              "      <td>None</td>\n",
              "      <td>d6288499d0083cc34e60a077b7c4b3e1</td>\n",
              "      <td>COVER</td>\n",
              "    </tr>\n",
              "  </tbody>\n",
              "</table>\n",
              "</div>"
            ],
            "text/plain": [
              "                  original_track_id                          track_id  \\\n",
              "0  eeb69a3cb92300456b6a5f4162093851  eeb69a3cb92300456b6a5f4162093851   \n",
              "1  fe7ee8fc1959cc7214fa21c4840dff0a  fe7ee8fc1959cc7214fa21c4840dff0a   \n",
              "2  cd89fef7ffdd490db800357f47722b20  cd89fef7ffdd490db800357f47722b20   \n",
              "3  995665640dc319973d3173a74a03860c  995665640dc319973d3173a74a03860c   \n",
              "4                              None  d6288499d0083cc34e60a077b7c4b3e1   \n",
              "\n",
              "  track_remake_type  \n",
              "0          ORIGINAL  \n",
              "1          ORIGINAL  \n",
              "2          ORIGINAL  \n",
              "3          ORIGINAL  \n",
              "4             COVER  "
            ]
          },
          "execution_count": 15,
          "metadata": {},
          "output_type": "execute_result"
        }
      ],
      "source": [
        "cover_data.head()"
      ]
    },
    {
      "cell_type": "markdown",
      "id": "o9mC-f7gXCc3",
      "metadata": {
        "id": "o9mC-f7gXCc3"
      },
      "source": [
        "**lyrics_data**"
      ]
    },
    {
      "cell_type": "code",
      "execution_count": null,
      "id": "9266c64e-eacc-4fe4-bde2-e2fd21a6ab2c",
      "metadata": {
        "id": "9266c64e-eacc-4fe4-bde2-e2fd21a6ab2c",
        "outputId": "e5238068-b70e-4be5-cd07-40e6c4628683"
      },
      "outputs": [
        {
          "name": "stdout",
          "output_type": "stream",
          "text": [
            "<class 'pandas.core.frame.DataFrame'>\n",
            "RangeIndex: 11414 entries, 0 to 11413\n",
            "Data columns (total 3 columns):\n",
            " #   Column    Non-Null Count  Dtype \n",
            "---  ------    --------------  ----- \n",
            " 0   lyricId   11414 non-null  object\n",
            " 1   text      11414 non-null  object\n",
            " 2   track_id  11414 non-null  object\n",
            "dtypes: object(3)\n",
            "memory usage: 267.6+ KB\n"
          ]
        }
      ],
      "source": [
        "lyrics_data.info()"
      ]
    },
    {
      "cell_type": "code",
      "execution_count": null,
      "id": "0524cb45-511b-4105-bbcf-f31b7134afed",
      "metadata": {
        "id": "0524cb45-511b-4105-bbcf-f31b7134afed",
        "outputId": "b76d563e-a96c-4e46-aa2d-2b94c0d16b0d"
      },
      "outputs": [
        {
          "data": {
            "text/html": [
              "<div>\n",
              "<style scoped>\n",
              "    .dataframe tbody tr th:only-of-type {\n",
              "        vertical-align: middle;\n",
              "    }\n",
              "\n",
              "    .dataframe tbody tr th {\n",
              "        vertical-align: top;\n",
              "    }\n",
              "\n",
              "    .dataframe thead th {\n",
              "        text-align: right;\n",
              "    }\n",
              "</style>\n",
              "<table border=\"1\" class=\"dataframe\">\n",
              "  <thead>\n",
              "    <tr style=\"text-align: right;\">\n",
              "      <th></th>\n",
              "      <th>lyricId</th>\n",
              "      <th>text</th>\n",
              "      <th>track_id</th>\n",
              "    </tr>\n",
              "  </thead>\n",
              "  <tbody>\n",
              "    <tr>\n",
              "      <th>0</th>\n",
              "      <td>a951f9504e89759e9d23039b7b17ec14</td>\n",
              "      <td>Живу сейчас обломами, обломками не той любви\\n...</td>\n",
              "      <td>1c4b1230f937e4c548ff732523214dcd</td>\n",
              "    </tr>\n",
              "    <tr>\n",
              "      <th>1</th>\n",
              "      <td>0c749bc3f01eb8e6cf986fa14ccfc585</td>\n",
              "      <td>Tell me your fable\\nA fable\\nTell me your fabl...</td>\n",
              "      <td>0faea89b0d7d6235b5b74def72511bd8</td>\n",
              "    </tr>\n",
              "    <tr>\n",
              "      <th>2</th>\n",
              "      <td>e2c8830fbc86e5964478243099eec23a</td>\n",
              "      <td>You're ashamed about all your fears and doubts...</td>\n",
              "      <td>9c6dc41d5ccd9968d07f055da5d8f741</td>\n",
              "    </tr>\n",
              "    <tr>\n",
              "      <th>3</th>\n",
              "      <td>e2c8830fbc86e5964478243099eec23a</td>\n",
              "      <td>You're ashamed about all your fears and doubts...</td>\n",
              "      <td>bfd04a73e9cffdf0e282c92219a86ea1</td>\n",
              "    </tr>\n",
              "    <tr>\n",
              "      <th>4</th>\n",
              "      <td>7624653ca8522ba93470843c74961b7d</td>\n",
              "      <td>You showed him all the best of you,\\nBut I'm a...</td>\n",
              "      <td>8d70930d09cd239c948408d1317d8659</td>\n",
              "    </tr>\n",
              "  </tbody>\n",
              "</table>\n",
              "</div>"
            ],
            "text/plain": [
              "                            lyricId  \\\n",
              "0  a951f9504e89759e9d23039b7b17ec14   \n",
              "1  0c749bc3f01eb8e6cf986fa14ccfc585   \n",
              "2  e2c8830fbc86e5964478243099eec23a   \n",
              "3  e2c8830fbc86e5964478243099eec23a   \n",
              "4  7624653ca8522ba93470843c74961b7d   \n",
              "\n",
              "                                                text  \\\n",
              "0  Живу сейчас обломами, обломками не той любви\\n...   \n",
              "1  Tell me your fable\\nA fable\\nTell me your fabl...   \n",
              "2  You're ashamed about all your fears and doubts...   \n",
              "3  You're ashamed about all your fears and doubts...   \n",
              "4  You showed him all the best of you,\\nBut I'm a...   \n",
              "\n",
              "                           track_id  \n",
              "0  1c4b1230f937e4c548ff732523214dcd  \n",
              "1  0faea89b0d7d6235b5b74def72511bd8  \n",
              "2  9c6dc41d5ccd9968d07f055da5d8f741  \n",
              "3  bfd04a73e9cffdf0e282c92219a86ea1  \n",
              "4  8d70930d09cd239c948408d1317d8659  "
            ]
          },
          "execution_count": 17,
          "metadata": {},
          "output_type": "execute_result"
        }
      ],
      "source": [
        "lyrics_data.head()"
      ]
    },
    {
      "cell_type": "markdown",
      "id": "yZsJnQj2XFxj",
      "metadata": {
        "id": "yZsJnQj2XFxj"
      },
      "source": [
        "**meta_data**"
      ]
    },
    {
      "cell_type": "code",
      "execution_count": null,
      "id": "c881033a-be55-4ee6-8133-9b458859dae6",
      "metadata": {
        "id": "c881033a-be55-4ee6-8133-9b458859dae6",
        "outputId": "b3636386-4469-4f55-8c6d-271570cb817f"
      },
      "outputs": [
        {
          "name": "stdout",
          "output_type": "stream",
          "text": [
            "<class 'pandas.core.frame.DataFrame'>\n",
            "RangeIndex: 71769 entries, 0 to 71768\n",
            "Data columns (total 7 columns):\n",
            " #   Column    Non-Null Count  Dtype  \n",
            "---  ------    --------------  -----  \n",
            " 0   track_id  71768 non-null  object \n",
            " 1   dttm      71768 non-null  float64\n",
            " 2   title     71768 non-null  object \n",
            " 3   language  21969 non-null  object \n",
            " 4   isrc      71455 non-null  object \n",
            " 5   genres    71768 non-null  object \n",
            " 6   duration  71768 non-null  float64\n",
            "dtypes: float64(2), object(5)\n",
            "memory usage: 3.8+ MB\n"
          ]
        }
      ],
      "source": [
        "meta_data.info()"
      ]
    },
    {
      "cell_type": "code",
      "execution_count": null,
      "id": "ca1fa0b7-cc76-4bc6-9306-16184de5735f",
      "metadata": {
        "id": "ca1fa0b7-cc76-4bc6-9306-16184de5735f",
        "outputId": "d80b9db3-d5f4-410f-f470-481f78689121"
      },
      "outputs": [
        {
          "data": {
            "text/html": [
              "<div>\n",
              "<style scoped>\n",
              "    .dataframe tbody tr th:only-of-type {\n",
              "        vertical-align: middle;\n",
              "    }\n",
              "\n",
              "    .dataframe tbody tr th {\n",
              "        vertical-align: top;\n",
              "    }\n",
              "\n",
              "    .dataframe thead th {\n",
              "        text-align: right;\n",
              "    }\n",
              "</style>\n",
              "<table border=\"1\" class=\"dataframe\">\n",
              "  <thead>\n",
              "    <tr style=\"text-align: right;\">\n",
              "      <th></th>\n",
              "      <th>track_id</th>\n",
              "      <th>dttm</th>\n",
              "      <th>title</th>\n",
              "      <th>language</th>\n",
              "      <th>isrc</th>\n",
              "      <th>genres</th>\n",
              "      <th>duration</th>\n",
              "    </tr>\n",
              "  </thead>\n",
              "  <tbody>\n",
              "    <tr>\n",
              "      <th>0</th>\n",
              "      <td>c3b9d6a354ca008aa4518329aaa21380</td>\n",
              "      <td>1.639688e+12</td>\n",
              "      <td>Happy New Year</td>\n",
              "      <td>EN</td>\n",
              "      <td>RUB422103970</td>\n",
              "      <td>[DANCE]</td>\n",
              "      <td>161120.0</td>\n",
              "    </tr>\n",
              "    <tr>\n",
              "      <th>1</th>\n",
              "      <td>c57e3d13bbbf5322584a7e92e6f1f7ff</td>\n",
              "      <td>1.637762e+12</td>\n",
              "      <td>Bad Habits</td>\n",
              "      <td>EN</td>\n",
              "      <td>QZN882178276</td>\n",
              "      <td>[ELECTRONICS]</td>\n",
              "      <td>362260.0</td>\n",
              "    </tr>\n",
              "    <tr>\n",
              "      <th>2</th>\n",
              "      <td>955f2aafe8717908c140bf122ba4172d</td>\n",
              "      <td>1.637768e+12</td>\n",
              "      <td>Por Esa Loca Vanidad</td>\n",
              "      <td>None</td>\n",
              "      <td>QZNJZ2122549</td>\n",
              "      <td>[FOLK, LATINFOLK]</td>\n",
              "      <td>260000.0</td>\n",
              "    </tr>\n",
              "    <tr>\n",
              "      <th>3</th>\n",
              "      <td>fae5a077c9956045955dde02143bd8ff</td>\n",
              "      <td>1.637768e+12</td>\n",
              "      <td>Mil Lagrimas</td>\n",
              "      <td>None</td>\n",
              "      <td>QZNJZ2166033</td>\n",
              "      <td>[FOLK, LATINFOLK]</td>\n",
              "      <td>190000.0</td>\n",
              "    </tr>\n",
              "    <tr>\n",
              "      <th>4</th>\n",
              "      <td>6bede082154d34fc18d9a6744bc95bf5</td>\n",
              "      <td>1.637768e+12</td>\n",
              "      <td>Sexo Humo y Alcohol</td>\n",
              "      <td>None</td>\n",
              "      <td>QZNJZ2122551</td>\n",
              "      <td>[FOLK, LATINFOLK]</td>\n",
              "      <td>203000.0</td>\n",
              "    </tr>\n",
              "  </tbody>\n",
              "</table>\n",
              "</div>"
            ],
            "text/plain": [
              "                           track_id          dttm                 title  \\\n",
              "0  c3b9d6a354ca008aa4518329aaa21380  1.639688e+12        Happy New Year   \n",
              "1  c57e3d13bbbf5322584a7e92e6f1f7ff  1.637762e+12            Bad Habits   \n",
              "2  955f2aafe8717908c140bf122ba4172d  1.637768e+12  Por Esa Loca Vanidad   \n",
              "3  fae5a077c9956045955dde02143bd8ff  1.637768e+12          Mil Lagrimas   \n",
              "4  6bede082154d34fc18d9a6744bc95bf5  1.637768e+12   Sexo Humo y Alcohol   \n",
              "\n",
              "  language          isrc             genres  duration  \n",
              "0       EN  RUB422103970            [DANCE]  161120.0  \n",
              "1       EN  QZN882178276      [ELECTRONICS]  362260.0  \n",
              "2     None  QZNJZ2122549  [FOLK, LATINFOLK]  260000.0  \n",
              "3     None  QZNJZ2166033  [FOLK, LATINFOLK]  190000.0  \n",
              "4     None  QZNJZ2122551  [FOLK, LATINFOLK]  203000.0  "
            ]
          },
          "execution_count": 19,
          "metadata": {},
          "output_type": "execute_result"
        }
      ],
      "source": [
        "meta_data.head()"
      ]
    },
    {
      "cell_type": "markdown",
      "id": "UzSFatN8XIlV",
      "metadata": {
        "id": "UzSFatN8XIlV"
      },
      "source": [
        "## Подсчет пропусков в исходных данных"
      ]
    },
    {
      "cell_type": "code",
      "execution_count": null,
      "id": "c9737a9f-3b8c-4977-9523-5ea5a9b0ed7c",
      "metadata": {
        "id": "c9737a9f-3b8c-4977-9523-5ea5a9b0ed7c",
        "outputId": "cd943d8e-ae54-4c92-d3d5-e29ff9229f6f"
      },
      "outputs": [
        {
          "data": {
            "text/plain": [
              "original_track_id    66776\n",
              "track_id                 0\n",
              "track_remake_type        0\n",
              "dtype: int64"
            ]
          },
          "execution_count": 20,
          "metadata": {},
          "output_type": "execute_result"
        }
      ],
      "source": [
        "cover_data.isna().sum()"
      ]
    },
    {
      "cell_type": "code",
      "execution_count": null,
      "id": "a0e9dae2-6706-4558-a339-ac42db618cc1",
      "metadata": {
        "id": "a0e9dae2-6706-4558-a339-ac42db618cc1",
        "outputId": "2e110de9-dd9d-4de9-bd58-2afc9ca9e431"
      },
      "outputs": [
        {
          "data": {
            "text/plain": [
              "lyricId     0\n",
              "text        0\n",
              "track_id    0\n",
              "dtype: int64"
            ]
          },
          "execution_count": 21,
          "metadata": {},
          "output_type": "execute_result"
        }
      ],
      "source": [
        "lyrics_data.isna().sum()"
      ]
    },
    {
      "cell_type": "code",
      "execution_count": null,
      "id": "3e1c3c22-2782-4c2f-968a-3abf81f7e8e7",
      "metadata": {
        "id": "3e1c3c22-2782-4c2f-968a-3abf81f7e8e7",
        "outputId": "6b219dc4-6796-457d-dcf5-790241c54bfd"
      },
      "outputs": [
        {
          "data": {
            "text/plain": [
              "track_id        1\n",
              "dttm            1\n",
              "title           1\n",
              "language    49800\n",
              "isrc          314\n",
              "genres          1\n",
              "duration        1\n",
              "dtype: int64"
            ]
          },
          "execution_count": 22,
          "metadata": {},
          "output_type": "execute_result"
        }
      ],
      "source": [
        "meta_data.isna().sum()"
      ]
    },
    {
      "cell_type": "markdown",
      "id": "vfqIjNWdoiXZ",
      "metadata": {
        "id": "vfqIjNWdoiXZ"
      },
      "source": [
        "## Промежуточный вывод"
      ]
    },
    {
      "cell_type": "markdown",
      "id": "ChCfGtrzskKp",
      "metadata": {
        "id": "ChCfGtrzskKp"
      },
      "source": []
    },
    {
      "cell_type": "markdown",
      "id": "Wgf4yqRyudEJ",
      "metadata": {
        "id": "Wgf4yqRyudEJ"
      },
      "source": [
        "# Объединение датасетов"
      ]
    },
    {
      "cell_type": "markdown",
      "id": "RkvTX5g3uyit",
      "metadata": {
        "id": "RkvTX5g3uyit"
      },
      "source": [
        "Обоснование:"
      ]
    },
    {
      "cell_type": "code",
      "execution_count": null,
      "id": "Q3wji7KYub3m",
      "metadata": {
        "colab": {
          "base_uri": "https://localhost:8080/",
          "height": 649
        },
        "id": "Q3wji7KYub3m",
        "outputId": "5b8d3264-18ff-494e-eb7a-f0f236a2677f"
      },
      "outputs": [
        {
          "data": {
            "text/html": [
              "<div>\n",
              "<style scoped>\n",
              "    .dataframe tbody tr th:only-of-type {\n",
              "        vertical-align: middle;\n",
              "    }\n",
              "\n",
              "    .dataframe tbody tr th {\n",
              "        vertical-align: top;\n",
              "    }\n",
              "\n",
              "    .dataframe thead th {\n",
              "        text-align: right;\n",
              "    }\n",
              "</style>\n",
              "<table border=\"1\" class=\"dataframe\">\n",
              "  <thead>\n",
              "    <tr style=\"text-align: right;\">\n",
              "      <th></th>\n",
              "      <th>original_track_id</th>\n",
              "      <th>track_id</th>\n",
              "      <th>track_remake_type</th>\n",
              "      <th>lyricId</th>\n",
              "      <th>text</th>\n",
              "    </tr>\n",
              "  </thead>\n",
              "  <tbody>\n",
              "    <tr>\n",
              "      <th>0</th>\n",
              "      <td>1c4b1230f937e4c548ff732523214dcd</td>\n",
              "      <td>1c4b1230f937e4c548ff732523214dcd</td>\n",
              "      <td>ORIGINAL</td>\n",
              "      <td>a951f9504e89759e9d23039b7b17ec14</td>\n",
              "      <td>Живу сейчас обломами, обломками не той любви\\n...</td>\n",
              "    </tr>\n",
              "    <tr>\n",
              "      <th>1</th>\n",
              "      <td>None</td>\n",
              "      <td>0faea89b0d7d6235b5b74def72511bd8</td>\n",
              "      <td>COVER</td>\n",
              "      <td>0c749bc3f01eb8e6cf986fa14ccfc585</td>\n",
              "      <td>Tell me your fable\\nA fable\\nTell me your fabl...</td>\n",
              "    </tr>\n",
              "    <tr>\n",
              "      <th>2</th>\n",
              "      <td>9c6dc41d5ccd9968d07f055da5d8f741</td>\n",
              "      <td>9c6dc41d5ccd9968d07f055da5d8f741</td>\n",
              "      <td>ORIGINAL</td>\n",
              "      <td>e2c8830fbc86e5964478243099eec23a</td>\n",
              "      <td>You're ashamed about all your fears and doubts...</td>\n",
              "    </tr>\n",
              "    <tr>\n",
              "      <th>3</th>\n",
              "      <td>bfd04a73e9cffdf0e282c92219a86ea1</td>\n",
              "      <td>bfd04a73e9cffdf0e282c92219a86ea1</td>\n",
              "      <td>ORIGINAL</td>\n",
              "      <td>e2c8830fbc86e5964478243099eec23a</td>\n",
              "      <td>You're ashamed about all your fears and doubts...</td>\n",
              "    </tr>\n",
              "    <tr>\n",
              "      <th>4</th>\n",
              "      <td>8d70930d09cd239c948408d1317d8659</td>\n",
              "      <td>8d70930d09cd239c948408d1317d8659</td>\n",
              "      <td>ORIGINAL</td>\n",
              "      <td>7624653ca8522ba93470843c74961b7d</td>\n",
              "      <td>You showed him all the best of you,\\nBut I'm a...</td>\n",
              "    </tr>\n",
              "  </tbody>\n",
              "</table>\n",
              "</div>"
            ],
            "text/plain": [
              "                  original_track_id                          track_id  \\\n",
              "0  1c4b1230f937e4c548ff732523214dcd  1c4b1230f937e4c548ff732523214dcd   \n",
              "1                              None  0faea89b0d7d6235b5b74def72511bd8   \n",
              "2  9c6dc41d5ccd9968d07f055da5d8f741  9c6dc41d5ccd9968d07f055da5d8f741   \n",
              "3  bfd04a73e9cffdf0e282c92219a86ea1  bfd04a73e9cffdf0e282c92219a86ea1   \n",
              "4  8d70930d09cd239c948408d1317d8659  8d70930d09cd239c948408d1317d8659   \n",
              "\n",
              "  track_remake_type                           lyricId  \\\n",
              "0          ORIGINAL  a951f9504e89759e9d23039b7b17ec14   \n",
              "1             COVER  0c749bc3f01eb8e6cf986fa14ccfc585   \n",
              "2          ORIGINAL  e2c8830fbc86e5964478243099eec23a   \n",
              "3          ORIGINAL  e2c8830fbc86e5964478243099eec23a   \n",
              "4          ORIGINAL  7624653ca8522ba93470843c74961b7d   \n",
              "\n",
              "                                                text  \n",
              "0  Живу сейчас обломами, обломками не той любви\\n...  \n",
              "1  Tell me your fable\\nA fable\\nTell me your fabl...  \n",
              "2  You're ashamed about all your fears and doubts...  \n",
              "3  You're ashamed about all your fears and doubts...  \n",
              "4  You showed him all the best of you,\\nBut I'm a...  "
            ]
          },
          "execution_count": 23,
          "metadata": {},
          "output_type": "execute_result"
        }
      ],
      "source": [
        "merged = pd.merge(cover_data, lyrics_data, on='track_id', how='right')\n",
        "merged.head()"
      ]
    },
    {
      "cell_type": "code",
      "execution_count": null,
      "id": "aBQB0iq-vP4W",
      "metadata": {
        "colab": {
          "base_uri": "https://localhost:8080/",
          "height": 649
        },
        "id": "aBQB0iq-vP4W",
        "outputId": "0014ea54-14bb-4f72-eb70-9a408aee7bf1"
      },
      "outputs": [
        {
          "data": {
            "text/html": [
              "<div>\n",
              "<style scoped>\n",
              "    .dataframe tbody tr th:only-of-type {\n",
              "        vertical-align: middle;\n",
              "    }\n",
              "\n",
              "    .dataframe tbody tr th {\n",
              "        vertical-align: top;\n",
              "    }\n",
              "\n",
              "    .dataframe thead th {\n",
              "        text-align: right;\n",
              "    }\n",
              "</style>\n",
              "<table border=\"1\" class=\"dataframe\">\n",
              "  <thead>\n",
              "    <tr style=\"text-align: right;\">\n",
              "      <th></th>\n",
              "      <th>original_track_id</th>\n",
              "      <th>track_id</th>\n",
              "      <th>track_remake_type</th>\n",
              "      <th>lyricId</th>\n",
              "      <th>text</th>\n",
              "      <th>dttm</th>\n",
              "      <th>title</th>\n",
              "      <th>language</th>\n",
              "      <th>isrc</th>\n",
              "      <th>genres</th>\n",
              "      <th>duration</th>\n",
              "    </tr>\n",
              "  </thead>\n",
              "  <tbody>\n",
              "    <tr>\n",
              "      <th>0</th>\n",
              "      <td>1c4b1230f937e4c548ff732523214dcd</td>\n",
              "      <td>1c4b1230f937e4c548ff732523214dcd</td>\n",
              "      <td>ORIGINAL</td>\n",
              "      <td>a951f9504e89759e9d23039b7b17ec14</td>\n",
              "      <td>Живу сейчас обломами, обломками не той любви\\n...</td>\n",
              "      <td>1.537929e+12</td>\n",
              "      <td>Сарафан</td>\n",
              "      <td>None</td>\n",
              "      <td>AEA0D1860569</td>\n",
              "      <td>[FOREIGNBARD, BARD]</td>\n",
              "      <td>140000.0</td>\n",
              "    </tr>\n",
              "    <tr>\n",
              "      <th>1</th>\n",
              "      <td>None</td>\n",
              "      <td>0faea89b0d7d6235b5b74def72511bd8</td>\n",
              "      <td>COVER</td>\n",
              "      <td>0c749bc3f01eb8e6cf986fa14ccfc585</td>\n",
              "      <td>Tell me your fable\\nA fable\\nTell me your fabl...</td>\n",
              "      <td>1.628083e+12</td>\n",
              "      <td>Children</td>\n",
              "      <td>None</td>\n",
              "      <td>QZS672199805</td>\n",
              "      <td>[ELECTRONICS]</td>\n",
              "      <td>214590.0</td>\n",
              "    </tr>\n",
              "    <tr>\n",
              "      <th>2</th>\n",
              "      <td>9c6dc41d5ccd9968d07f055da5d8f741</td>\n",
              "      <td>9c6dc41d5ccd9968d07f055da5d8f741</td>\n",
              "      <td>ORIGINAL</td>\n",
              "      <td>e2c8830fbc86e5964478243099eec23a</td>\n",
              "      <td>You're ashamed about all your fears and doubts...</td>\n",
              "      <td>1.274332e+12</td>\n",
              "      <td>Briane</td>\n",
              "      <td>None</td>\n",
              "      <td>USUM71006645</td>\n",
              "      <td>[ROCK, ALLROCK]</td>\n",
              "      <td>317910.0</td>\n",
              "    </tr>\n",
              "    <tr>\n",
              "      <th>3</th>\n",
              "      <td>bfd04a73e9cffdf0e282c92219a86ea1</td>\n",
              "      <td>bfd04a73e9cffdf0e282c92219a86ea1</td>\n",
              "      <td>ORIGINAL</td>\n",
              "      <td>e2c8830fbc86e5964478243099eec23a</td>\n",
              "      <td>You're ashamed about all your fears and doubts...</td>\n",
              "      <td>1.411474e+12</td>\n",
              "      <td>Briane</td>\n",
              "      <td>None</td>\n",
              "      <td>USM951100211</td>\n",
              "      <td>[ROCK, ALLROCK]</td>\n",
              "      <td>317860.0</td>\n",
              "    </tr>\n",
              "    <tr>\n",
              "      <th>4</th>\n",
              "      <td>8d70930d09cd239c948408d1317d8659</td>\n",
              "      <td>8d70930d09cd239c948408d1317d8659</td>\n",
              "      <td>ORIGINAL</td>\n",
              "      <td>7624653ca8522ba93470843c74961b7d</td>\n",
              "      <td>You showed him all the best of you,\\nBut I'm a...</td>\n",
              "      <td>1.274332e+12</td>\n",
              "      <td>Broken Angel</td>\n",
              "      <td>None</td>\n",
              "      <td>USUM71006638</td>\n",
              "      <td>[ROCK, ALLROCK]</td>\n",
              "      <td>321280.0</td>\n",
              "    </tr>\n",
              "  </tbody>\n",
              "</table>\n",
              "</div>"
            ],
            "text/plain": [
              "                  original_track_id                          track_id  \\\n",
              "0  1c4b1230f937e4c548ff732523214dcd  1c4b1230f937e4c548ff732523214dcd   \n",
              "1                              None  0faea89b0d7d6235b5b74def72511bd8   \n",
              "2  9c6dc41d5ccd9968d07f055da5d8f741  9c6dc41d5ccd9968d07f055da5d8f741   \n",
              "3  bfd04a73e9cffdf0e282c92219a86ea1  bfd04a73e9cffdf0e282c92219a86ea1   \n",
              "4  8d70930d09cd239c948408d1317d8659  8d70930d09cd239c948408d1317d8659   \n",
              "\n",
              "  track_remake_type                           lyricId  \\\n",
              "0          ORIGINAL  a951f9504e89759e9d23039b7b17ec14   \n",
              "1             COVER  0c749bc3f01eb8e6cf986fa14ccfc585   \n",
              "2          ORIGINAL  e2c8830fbc86e5964478243099eec23a   \n",
              "3          ORIGINAL  e2c8830fbc86e5964478243099eec23a   \n",
              "4          ORIGINAL  7624653ca8522ba93470843c74961b7d   \n",
              "\n",
              "                                                text          dttm  \\\n",
              "0  Живу сейчас обломами, обломками не той любви\\n...  1.537929e+12   \n",
              "1  Tell me your fable\\nA fable\\nTell me your fabl...  1.628083e+12   \n",
              "2  You're ashamed about all your fears and doubts...  1.274332e+12   \n",
              "3  You're ashamed about all your fears and doubts...  1.411474e+12   \n",
              "4  You showed him all the best of you,\\nBut I'm a...  1.274332e+12   \n",
              "\n",
              "          title language          isrc               genres  duration  \n",
              "0       Сарафан     None  AEA0D1860569  [FOREIGNBARD, BARD]  140000.0  \n",
              "1      Children     None  QZS672199805        [ELECTRONICS]  214590.0  \n",
              "2        Briane     None  USUM71006645      [ROCK, ALLROCK]  317910.0  \n",
              "3        Briane     None  USM951100211      [ROCK, ALLROCK]  317860.0  \n",
              "4  Broken Angel     None  USUM71006638      [ROCK, ALLROCK]  321280.0  "
            ]
          },
          "execution_count": 24,
          "metadata": {},
          "output_type": "execute_result"
        }
      ],
      "source": [
        "merged_data = pd.merge(merged, meta_data, on='track_id', how='left')\n",
        "merged_data.head()"
      ]
    },
    {
      "cell_type": "code",
      "execution_count": null,
      "id": "a6yw30RLvTyS",
      "metadata": {
        "colab": {
          "base_uri": "https://localhost:8080/"
        },
        "id": "a6yw30RLvTyS",
        "outputId": "2e358e6c-0aec-4a23-d8c2-5aaab380d185"
      },
      "outputs": [
        {
          "data": {
            "text/plain": [
              "(11414, 11)"
            ]
          },
          "execution_count": 25,
          "metadata": {},
          "output_type": "execute_result"
        }
      ],
      "source": [
        "merged_data.shape"
      ]
    },
    {
      "cell_type": "code",
      "execution_count": null,
      "id": "zGtnQgqOvoBf",
      "metadata": {
        "colab": {
          "base_uri": "https://localhost:8080/"
        },
        "id": "zGtnQgqOvoBf",
        "outputId": "a6dec8ee-d968-4d62-e2c0-ed3e42636ad4"
      },
      "outputs": [
        {
          "name": "stdout",
          "output_type": "stream",
          "text": [
            "<class 'pandas.core.frame.DataFrame'>\n",
            "RangeIndex: 11414 entries, 0 to 11413\n",
            "Data columns (total 11 columns):\n",
            " #   Column             Non-Null Count  Dtype  \n",
            "---  ------             --------------  -----  \n",
            " 0   original_track_id  3599 non-null   object \n",
            " 1   track_id           11414 non-null  object \n",
            " 2   track_remake_type  11097 non-null  object \n",
            " 3   lyricId            11414 non-null  object \n",
            " 4   text               11414 non-null  object \n",
            " 5   dttm               11414 non-null  float64\n",
            " 6   title              11414 non-null  object \n",
            " 7   language           7335 non-null   object \n",
            " 8   isrc               11326 non-null  object \n",
            " 9   genres             11414 non-null  object \n",
            " 10  duration           11414 non-null  float64\n",
            "dtypes: float64(2), object(9)\n",
            "memory usage: 981.0+ KB\n"
          ]
        }
      ],
      "source": [
        "#изучим полученные данные\n",
        "merged_data.info()"
      ]
    },
    {
      "cell_type": "code",
      "execution_count": null,
      "id": "kCvuOn_5vxSZ",
      "metadata": {
        "colab": {
          "base_uri": "https://localhost:8080/",
          "height": 649
        },
        "id": "kCvuOn_5vxSZ",
        "outputId": "468932d1-fa0f-4a58-db57-c5f86d409a30"
      },
      "outputs": [
        {
          "data": {
            "text/html": [
              "<div>\n",
              "<style scoped>\n",
              "    .dataframe tbody tr th:only-of-type {\n",
              "        vertical-align: middle;\n",
              "    }\n",
              "\n",
              "    .dataframe tbody tr th {\n",
              "        vertical-align: top;\n",
              "    }\n",
              "\n",
              "    .dataframe thead th {\n",
              "        text-align: right;\n",
              "    }\n",
              "</style>\n",
              "<table border=\"1\" class=\"dataframe\">\n",
              "  <thead>\n",
              "    <tr style=\"text-align: right;\">\n",
              "      <th></th>\n",
              "      <th>original_track_id</th>\n",
              "      <th>track_id</th>\n",
              "      <th>track_remake_type</th>\n",
              "      <th>lyricId</th>\n",
              "      <th>text</th>\n",
              "      <th>dttm</th>\n",
              "      <th>title</th>\n",
              "      <th>language</th>\n",
              "      <th>isrc</th>\n",
              "      <th>genres</th>\n",
              "      <th>duration</th>\n",
              "    </tr>\n",
              "  </thead>\n",
              "  <tbody>\n",
              "    <tr>\n",
              "      <th>0</th>\n",
              "      <td>1c4b1230f937e4c548ff732523214dcd</td>\n",
              "      <td>1c4b1230f937e4c548ff732523214dcd</td>\n",
              "      <td>ORIGINAL</td>\n",
              "      <td>a951f9504e89759e9d23039b7b17ec14</td>\n",
              "      <td>Живу сейчас обломами, обломками не той любви\\n...</td>\n",
              "      <td>1.537929e+12</td>\n",
              "      <td>Сарафан</td>\n",
              "      <td>None</td>\n",
              "      <td>AEA0D1860569</td>\n",
              "      <td>[FOREIGNBARD, BARD]</td>\n",
              "      <td>140000.0</td>\n",
              "    </tr>\n",
              "    <tr>\n",
              "      <th>1</th>\n",
              "      <td>None</td>\n",
              "      <td>0faea89b0d7d6235b5b74def72511bd8</td>\n",
              "      <td>COVER</td>\n",
              "      <td>0c749bc3f01eb8e6cf986fa14ccfc585</td>\n",
              "      <td>Tell me your fable\\nA fable\\nTell me your fabl...</td>\n",
              "      <td>1.628083e+12</td>\n",
              "      <td>Children</td>\n",
              "      <td>None</td>\n",
              "      <td>QZS672199805</td>\n",
              "      <td>[ELECTRONICS]</td>\n",
              "      <td>214590.0</td>\n",
              "    </tr>\n",
              "    <tr>\n",
              "      <th>2</th>\n",
              "      <td>9c6dc41d5ccd9968d07f055da5d8f741</td>\n",
              "      <td>9c6dc41d5ccd9968d07f055da5d8f741</td>\n",
              "      <td>ORIGINAL</td>\n",
              "      <td>e2c8830fbc86e5964478243099eec23a</td>\n",
              "      <td>You're ashamed about all your fears and doubts...</td>\n",
              "      <td>1.274332e+12</td>\n",
              "      <td>Briane</td>\n",
              "      <td>None</td>\n",
              "      <td>USUM71006645</td>\n",
              "      <td>[ROCK, ALLROCK]</td>\n",
              "      <td>317910.0</td>\n",
              "    </tr>\n",
              "    <tr>\n",
              "      <th>3</th>\n",
              "      <td>bfd04a73e9cffdf0e282c92219a86ea1</td>\n",
              "      <td>bfd04a73e9cffdf0e282c92219a86ea1</td>\n",
              "      <td>ORIGINAL</td>\n",
              "      <td>e2c8830fbc86e5964478243099eec23a</td>\n",
              "      <td>You're ashamed about all your fears and doubts...</td>\n",
              "      <td>1.411474e+12</td>\n",
              "      <td>Briane</td>\n",
              "      <td>None</td>\n",
              "      <td>USM951100211</td>\n",
              "      <td>[ROCK, ALLROCK]</td>\n",
              "      <td>317860.0</td>\n",
              "    </tr>\n",
              "    <tr>\n",
              "      <th>4</th>\n",
              "      <td>8d70930d09cd239c948408d1317d8659</td>\n",
              "      <td>8d70930d09cd239c948408d1317d8659</td>\n",
              "      <td>ORIGINAL</td>\n",
              "      <td>7624653ca8522ba93470843c74961b7d</td>\n",
              "      <td>You showed him all the best of you,\\nBut I'm a...</td>\n",
              "      <td>1.274332e+12</td>\n",
              "      <td>Broken Angel</td>\n",
              "      <td>None</td>\n",
              "      <td>USUM71006638</td>\n",
              "      <td>[ROCK, ALLROCK]</td>\n",
              "      <td>321280.0</td>\n",
              "    </tr>\n",
              "  </tbody>\n",
              "</table>\n",
              "</div>"
            ],
            "text/plain": [
              "                  original_track_id                          track_id  \\\n",
              "0  1c4b1230f937e4c548ff732523214dcd  1c4b1230f937e4c548ff732523214dcd   \n",
              "1                              None  0faea89b0d7d6235b5b74def72511bd8   \n",
              "2  9c6dc41d5ccd9968d07f055da5d8f741  9c6dc41d5ccd9968d07f055da5d8f741   \n",
              "3  bfd04a73e9cffdf0e282c92219a86ea1  bfd04a73e9cffdf0e282c92219a86ea1   \n",
              "4  8d70930d09cd239c948408d1317d8659  8d70930d09cd239c948408d1317d8659   \n",
              "\n",
              "  track_remake_type                           lyricId  \\\n",
              "0          ORIGINAL  a951f9504e89759e9d23039b7b17ec14   \n",
              "1             COVER  0c749bc3f01eb8e6cf986fa14ccfc585   \n",
              "2          ORIGINAL  e2c8830fbc86e5964478243099eec23a   \n",
              "3          ORIGINAL  e2c8830fbc86e5964478243099eec23a   \n",
              "4          ORIGINAL  7624653ca8522ba93470843c74961b7d   \n",
              "\n",
              "                                                text          dttm  \\\n",
              "0  Живу сейчас обломами, обломками не той любви\\n...  1.537929e+12   \n",
              "1  Tell me your fable\\nA fable\\nTell me your fabl...  1.628083e+12   \n",
              "2  You're ashamed about all your fears and doubts...  1.274332e+12   \n",
              "3  You're ashamed about all your fears and doubts...  1.411474e+12   \n",
              "4  You showed him all the best of you,\\nBut I'm a...  1.274332e+12   \n",
              "\n",
              "          title language          isrc               genres  duration  \n",
              "0       Сарафан     None  AEA0D1860569  [FOREIGNBARD, BARD]  140000.0  \n",
              "1      Children     None  QZS672199805        [ELECTRONICS]  214590.0  \n",
              "2        Briane     None  USUM71006645      [ROCK, ALLROCK]  317910.0  \n",
              "3        Briane     None  USM951100211      [ROCK, ALLROCK]  317860.0  \n",
              "4  Broken Angel     None  USUM71006638      [ROCK, ALLROCK]  321280.0  "
            ]
          },
          "execution_count": 27,
          "metadata": {},
          "output_type": "execute_result"
        }
      ],
      "source": [
        "merged_data.head()"
      ]
    },
    {
      "cell_type": "code",
      "execution_count": null,
      "id": "DCAqzBzLv-oz",
      "metadata": {
        "colab": {
          "base_uri": "https://localhost:8080/"
        },
        "id": "DCAqzBzLv-oz",
        "outputId": "06b97889-a4db-4354-e4fb-593585bc4f24"
      },
      "outputs": [
        {
          "data": {
            "text/plain": [
              "original_track_id    7815\n",
              "track_id                0\n",
              "track_remake_type     317\n",
              "lyricId                 0\n",
              "text                    0\n",
              "dttm                    0\n",
              "title                   0\n",
              "language             4079\n",
              "isrc                   88\n",
              "genres                  0\n",
              "duration                0\n",
              "dtype: int64"
            ]
          },
          "execution_count": 28,
          "metadata": {},
          "output_type": "execute_result"
        }
      ],
      "source": [
        "merged_data.isna().sum()"
      ]
    },
    {
      "cell_type": "markdown",
      "id": "75wexAE9sp2I",
      "metadata": {
        "id": "75wexAE9sp2I"
      },
      "source": [
        "# Общая предобработка данных"
      ]
    },
    {
      "cell_type": "markdown",
      "id": "i3uvivxSqoPc",
      "metadata": {
        "id": "i3uvivxSqoPc"
      },
      "source": [
        "## Изменение стиля датасета"
      ]
    },
    {
      "cell_type": "code",
      "execution_count": null,
      "id": "cd3B8VXCzvGD",
      "metadata": {
        "id": "cd3B8VXCzvGD"
      },
      "outputs": [],
      "source": [
        "# прежде чем вносить изменения сохраним данные в новой таблице, чтобы иметь возможность вернуться\n",
        "merged = merged_data"
      ]
    },
    {
      "cell_type": "code",
      "execution_count": null,
      "id": "qxAlxB6EydxV",
      "metadata": {
        "id": "qxAlxB6EydxV"
      },
      "outputs": [],
      "source": [
        "# следует изменить название одной из колонок\n",
        "merged ['lyricId'] = merged['lyricId'].str.lower()\n",
        "merged['lyricId'] =merged['lyricId'].str.replace(' ', '_')\n",
        "\n",
        "\n",
        "merged=merged.rename(columns={\n",
        "    'lyricId': 'lyric_id',\n",
        "})"
      ]
    },
    {
      "cell_type": "code",
      "execution_count": null,
      "id": "xykKwVEkzHWx",
      "metadata": {
        "id": "xykKwVEkzHWx"
      },
      "outputs": [],
      "source": [
        "# распакуем список жанров для корректного отображения и более удобной работы последством короткой функции\n",
        "merged['genres'] = merged['genres'].apply(lambda x: ', '.join(x) if isinstance(x, list) else x)"
      ]
    },
    {
      "cell_type": "markdown",
      "id": "3j6ob2d5uRBS",
      "metadata": {
        "id": "3j6ob2d5uRBS"
      },
      "source": [
        "## Изменения формата даты"
      ]
    },
    {
      "cell_type": "code",
      "execution_count": null,
      "id": "1h79IfUQy7K1",
      "metadata": {
        "id": "1h79IfUQy7K1"
      },
      "outputs": [],
      "source": [
        "# переведем формат даты unix в человеко читаемый формат\n",
        "def data_t(ddd):\n",
        "    ddd = ddd/1000\n",
        "    ddd = pd.to_datetime(datetime.utcfromtimestamp(ddd).strftime('%Y-%m-%d %H:%M:%S'))\n",
        "    return ddd"
      ]
    },
    {
      "cell_type": "code",
      "execution_count": null,
      "id": "Xh2gc2Hy1E3r",
      "metadata": {
        "id": "Xh2gc2Hy1E3r"
      },
      "outputs": [],
      "source": [
        "# применим функцию, чтобы добавить новую колонку\n",
        "merged['data_time'] = merged['dttm'].apply(data_t)"
      ]
    },
    {
      "cell_type": "code",
      "execution_count": null,
      "id": "ju8iym_D7a2_",
      "metadata": {
        "id": "ju8iym_D7a2_"
      },
      "outputs": [],
      "source": [
        "# данные о времени в старом формате следует удалить\n",
        "merged = merged.drop('dttm', axis = 1)"
      ]
    },
    {
      "cell_type": "markdown",
      "id": "gwrNIIJywj6m",
      "metadata": {
        "id": "gwrNIIJywj6m"
      },
      "source": [
        "# Исследовательский анализ данных"
      ]
    },
    {
      "cell_type": "markdown",
      "id": "fc810b71-2b89-4c2c-bf9a-4dd41cd9d189",
      "metadata": {
        "id": "fc810b71-2b89-4c2c-bf9a-4dd41cd9d189"
      },
      "source": [
        "## Рассмотрим зависимости в признаках на основании наличия пропусков в данных"
      ]
    },
    {
      "cell_type": "code",
      "execution_count": null,
      "id": "07ef6217-9ebf-43f0-af80-dda9f0eda969",
      "metadata": {
        "colab": {
          "base_uri": "https://localhost:8080/",
          "height": 73
        },
        "id": "07ef6217-9ebf-43f0-af80-dda9f0eda969",
        "outputId": "d39d1efe-9c58-4554-8e11-bdc83c77fedd"
      },
      "outputs": [
        {
          "data": {
            "text/html": [
              "<div>\n",
              "<style scoped>\n",
              "    .dataframe tbody tr th:only-of-type {\n",
              "        vertical-align: middle;\n",
              "    }\n",
              "\n",
              "    .dataframe tbody tr th {\n",
              "        vertical-align: top;\n",
              "    }\n",
              "\n",
              "    .dataframe thead th {\n",
              "        text-align: right;\n",
              "    }\n",
              "</style>\n",
              "<table border=\"1\" class=\"dataframe\">\n",
              "  <thead>\n",
              "    <tr style=\"text-align: right;\">\n",
              "      <th></th>\n",
              "      <th>original_track_id</th>\n",
              "      <th>track_id</th>\n",
              "      <th>track_remake_type</th>\n",
              "      <th>lyric_id</th>\n",
              "      <th>text</th>\n",
              "      <th>title</th>\n",
              "      <th>language</th>\n",
              "      <th>isrc</th>\n",
              "      <th>genres</th>\n",
              "      <th>duration</th>\n",
              "      <th>data_time</th>\n",
              "    </tr>\n",
              "  </thead>\n",
              "  <tbody>\n",
              "  </tbody>\n",
              "</table>\n",
              "</div>"
            ],
            "text/plain": [
              "Empty DataFrame\n",
              "Columns: [original_track_id, track_id, track_remake_type, lyric_id, text, title, language, isrc, genres, duration, data_time]\n",
              "Index: []"
            ]
          },
          "execution_count": 35,
          "metadata": {},
          "output_type": "execute_result"
        }
      ],
      "source": [
        "# Выбираем строки в DataFrame 'merged', где 'track_remake_type' равно 'ORIGINAL'\n",
        "# и значение в столбце 'original_track_id' отсутствует\n",
        "\n",
        "merged.loc[(merged['track_remake_type'] == 'ORIGINAL') & (merged['original_track_id'].isna())]"
      ]
    },
    {
      "cell_type": "markdown",
      "id": "33aab9ab-195c-4550-8ac6-ab17ff9ae659",
      "metadata": {
        "id": "33aab9ab-195c-4550-8ac6-ab17ff9ae659"
      },
      "source": [
        "Значит, у оригиналов всегда указан их id"
      ]
    },
    {
      "cell_type": "code",
      "execution_count": null,
      "id": "3c1626fb-e5fe-4e40-847e-3a8f46c1291f",
      "metadata": {
        "colab": {
          "base_uri": "https://localhost:8080/",
          "height": 932
        },
        "id": "3c1626fb-e5fe-4e40-847e-3a8f46c1291f",
        "outputId": "23eab19b-ea29-4c79-ed84-80a27e00903c"
      },
      "outputs": [
        {
          "data": {
            "text/html": [
              "<div>\n",
              "<style scoped>\n",
              "    .dataframe tbody tr th:only-of-type {\n",
              "        vertical-align: middle;\n",
              "    }\n",
              "\n",
              "    .dataframe tbody tr th {\n",
              "        vertical-align: top;\n",
              "    }\n",
              "\n",
              "    .dataframe thead th {\n",
              "        text-align: right;\n",
              "    }\n",
              "</style>\n",
              "<table border=\"1\" class=\"dataframe\">\n",
              "  <thead>\n",
              "    <tr style=\"text-align: right;\">\n",
              "      <th></th>\n",
              "      <th>original_track_id</th>\n",
              "      <th>track_id</th>\n",
              "      <th>track_remake_type</th>\n",
              "      <th>lyric_id</th>\n",
              "      <th>text</th>\n",
              "      <th>title</th>\n",
              "      <th>language</th>\n",
              "      <th>isrc</th>\n",
              "      <th>genres</th>\n",
              "      <th>duration</th>\n",
              "      <th>data_time</th>\n",
              "    </tr>\n",
              "  </thead>\n",
              "  <tbody>\n",
              "    <tr>\n",
              "      <th>34</th>\n",
              "      <td>b1ad56e98ad6d380134498a4c5ca907e</td>\n",
              "      <td>0de3fe3c1a9417977533689397ed6a29</td>\n",
              "      <td>COVER</td>\n",
              "      <td>73e023a4ed709681b5794cd6f231af99</td>\n",
              "      <td>I'm falling in love\\nFalling in love (I'm fall...</td>\n",
              "      <td>Falling In Love</td>\n",
              "      <td>EN</td>\n",
              "      <td>GBKCF1800703</td>\n",
              "      <td>DANCE</td>\n",
              "      <td>218170.0</td>\n",
              "      <td>2019-02-18 14:50:08</td>\n",
              "    </tr>\n",
              "    <tr>\n",
              "      <th>106</th>\n",
              "      <td>1e8ca836c962598551882e689265c1c5</td>\n",
              "      <td>59fbc1e7e005843d19242659bdde0c2b</td>\n",
              "      <td>COVER</td>\n",
              "      <td>e6690a395eef5d5a5bdfebd84abbfa27</td>\n",
              "      <td>Off, off, off, off, off with your head\\nDance,...</td>\n",
              "      <td>Heads Will Roll</td>\n",
              "      <td>EN</td>\n",
              "      <td>QZMHK2067314</td>\n",
              "      <td>DANCE</td>\n",
              "      <td>140050.0</td>\n",
              "      <td>2023-09-02 21:00:00</td>\n",
              "    </tr>\n",
              "    <tr>\n",
              "      <th>145</th>\n",
              "      <td>eeb69a3cb92300456b6a5f4162093851</td>\n",
              "      <td>e58d2c71ff16648513a9c727281fb474</td>\n",
              "      <td>COVER</td>\n",
              "      <td>3efff45e3508e1a7fcd5a97bbb1de8f5</td>\n",
              "      <td>Left a good job in the city\\nWorkin' for the m...</td>\n",
              "      <td>Proud Mary</td>\n",
              "      <td>EN</td>\n",
              "      <td>FR6V80083191</td>\n",
              "      <td>ALLROCK, RNR</td>\n",
              "      <td>155350.0</td>\n",
              "      <td>2013-11-16 06:24:08</td>\n",
              "    </tr>\n",
              "    <tr>\n",
              "      <th>158</th>\n",
              "      <td>0fcb82fec458a0993f848200548eaaa0</td>\n",
              "      <td>41e0775c05a394e25575d5cc9f104ab6</td>\n",
              "      <td>COVER</td>\n",
              "      <td>2ced0f070258bb1a1a706f30cc34a1a9</td>\n",
              "      <td>When the night has come\\nAnd the land is dark\\...</td>\n",
              "      <td>Stand by Me</td>\n",
              "      <td>EN</td>\n",
              "      <td>USM952100002</td>\n",
              "      <td>ROCK, ALLROCK</td>\n",
              "      <td>199010.0</td>\n",
              "      <td>2021-01-14 21:00:00</td>\n",
              "    </tr>\n",
              "    <tr>\n",
              "      <th>204</th>\n",
              "      <td>7b6ab973140fe54a1dc409ba3d977fff</td>\n",
              "      <td>29537139dc0d2f9ec26692835caf7809</td>\n",
              "      <td>COVER</td>\n",
              "      <td>ac48237413fad46856abe86488d27053</td>\n",
              "      <td>Begging, begging you-ou-ou\\nPut your loving ha...</td>\n",
              "      <td>Beggin'</td>\n",
              "      <td>EN</td>\n",
              "      <td>QM42K2122682</td>\n",
              "      <td>DANCE</td>\n",
              "      <td>148030.0</td>\n",
              "      <td>2021-01-27 21:00:00</td>\n",
              "    </tr>\n",
              "    <tr>\n",
              "      <th>...</th>\n",
              "      <td>...</td>\n",
              "      <td>...</td>\n",
              "      <td>...</td>\n",
              "      <td>...</td>\n",
              "      <td>...</td>\n",
              "      <td>...</td>\n",
              "      <td>...</td>\n",
              "      <td>...</td>\n",
              "      <td>...</td>\n",
              "      <td>...</td>\n",
              "      <td>...</td>\n",
              "    </tr>\n",
              "    <tr>\n",
              "      <th>11383</th>\n",
              "      <td>cfcd208495d565ef66e7dff9f98764da</td>\n",
              "      <td>99f2e01db6dcffbc31fc35e5c8b2ba1d</td>\n",
              "      <td>COVER</td>\n",
              "      <td>66c925506b1cc4a88ad2f78d690a671d</td>\n",
              "      <td>Another head hangs lowly\\nChild is slowly take...</td>\n",
              "      <td>Zombie</td>\n",
              "      <td>EN</td>\n",
              "      <td>QM42K2057010</td>\n",
              "      <td>ELECTRONICS</td>\n",
              "      <td>160000.0</td>\n",
              "      <td>2020-05-14 21:00:00</td>\n",
              "    </tr>\n",
              "    <tr>\n",
              "      <th>11384</th>\n",
              "      <td>ad1b9fe17c16ab73b2a52920fdb1a220</td>\n",
              "      <td>e5b3468f9f56adb8f0d08d99b151b8aa</td>\n",
              "      <td>COVER</td>\n",
              "      <td>529113fe14a4d11bb5a9e7d950564945</td>\n",
              "      <td>Well, sometimes I go out by myself\\nAnd I look...</td>\n",
              "      <td>Valerie</td>\n",
              "      <td>EN</td>\n",
              "      <td>ARF411900151</td>\n",
              "      <td>ELECTRONICS, LOUNGE</td>\n",
              "      <td>222320.0</td>\n",
              "      <td>2019-03-07 21:00:00</td>\n",
              "    </tr>\n",
              "    <tr>\n",
              "      <th>11408</th>\n",
              "      <td>9050384cce6c221c39d6e25d02561612</td>\n",
              "      <td>53bf57b9e4d3eed991f57a603a41c9d4</td>\n",
              "      <td>COVER</td>\n",
              "      <td>da374afb1d2d6fbc85b40e68d22d2ab1</td>\n",
              "      <td>As he came into the window\\nIt was the sound o...</td>\n",
              "      <td>Smooth Criminal</td>\n",
              "      <td>EN</td>\n",
              "      <td>USQX91200007</td>\n",
              "      <td>POP</td>\n",
              "      <td>214640.0</td>\n",
              "      <td>2020-01-08 00:46:09</td>\n",
              "    </tr>\n",
              "    <tr>\n",
              "      <th>11411</th>\n",
              "      <td>eeb69a3cb92300456b6a5f4162093851</td>\n",
              "      <td>d5c149b59a800a6f9f61adda6d3e1b1d</td>\n",
              "      <td>COVER</td>\n",
              "      <td>22bae9d3185254ea34072c692a2cd63d</td>\n",
              "      <td>Left a good job in the city\\nWorking for the m...</td>\n",
              "      <td>Proud Mary</td>\n",
              "      <td>None</td>\n",
              "      <td>UK6ZW1403686</td>\n",
              "      <td>DANCE</td>\n",
              "      <td>213660.0</td>\n",
              "      <td>2019-07-21 21:00:00</td>\n",
              "    </tr>\n",
              "    <tr>\n",
              "      <th>11412</th>\n",
              "      <td>eeb69a3cb92300456b6a5f4162093851</td>\n",
              "      <td>d5c149b59a800a6f9f61adda6d3e1b1d</td>\n",
              "      <td>COVER</td>\n",
              "      <td>0979b4049635e1c0fc161573f75ab23a</td>\n",
              "      <td>Left a good job in the city\\nWorking for the m...</td>\n",
              "      <td>Proud Mary</td>\n",
              "      <td>None</td>\n",
              "      <td>UK6ZW1403686</td>\n",
              "      <td>DANCE</td>\n",
              "      <td>213660.0</td>\n",
              "      <td>2019-07-21 21:00:00</td>\n",
              "    </tr>\n",
              "  </tbody>\n",
              "</table>\n",
              "<p>374 rows × 11 columns</p>\n",
              "</div>"
            ],
            "text/plain": [
              "                      original_track_id                          track_id  \\\n",
              "34     b1ad56e98ad6d380134498a4c5ca907e  0de3fe3c1a9417977533689397ed6a29   \n",
              "106    1e8ca836c962598551882e689265c1c5  59fbc1e7e005843d19242659bdde0c2b   \n",
              "145    eeb69a3cb92300456b6a5f4162093851  e58d2c71ff16648513a9c727281fb474   \n",
              "158    0fcb82fec458a0993f848200548eaaa0  41e0775c05a394e25575d5cc9f104ab6   \n",
              "204    7b6ab973140fe54a1dc409ba3d977fff  29537139dc0d2f9ec26692835caf7809   \n",
              "...                                 ...                               ...   \n",
              "11383  cfcd208495d565ef66e7dff9f98764da  99f2e01db6dcffbc31fc35e5c8b2ba1d   \n",
              "11384  ad1b9fe17c16ab73b2a52920fdb1a220  e5b3468f9f56adb8f0d08d99b151b8aa   \n",
              "11408  9050384cce6c221c39d6e25d02561612  53bf57b9e4d3eed991f57a603a41c9d4   \n",
              "11411  eeb69a3cb92300456b6a5f4162093851  d5c149b59a800a6f9f61adda6d3e1b1d   \n",
              "11412  eeb69a3cb92300456b6a5f4162093851  d5c149b59a800a6f9f61adda6d3e1b1d   \n",
              "\n",
              "      track_remake_type                          lyric_id  \\\n",
              "34                COVER  73e023a4ed709681b5794cd6f231af99   \n",
              "106               COVER  e6690a395eef5d5a5bdfebd84abbfa27   \n",
              "145               COVER  3efff45e3508e1a7fcd5a97bbb1de8f5   \n",
              "158               COVER  2ced0f070258bb1a1a706f30cc34a1a9   \n",
              "204               COVER  ac48237413fad46856abe86488d27053   \n",
              "...                 ...                               ...   \n",
              "11383             COVER  66c925506b1cc4a88ad2f78d690a671d   \n",
              "11384             COVER  529113fe14a4d11bb5a9e7d950564945   \n",
              "11408             COVER  da374afb1d2d6fbc85b40e68d22d2ab1   \n",
              "11411             COVER  22bae9d3185254ea34072c692a2cd63d   \n",
              "11412             COVER  0979b4049635e1c0fc161573f75ab23a   \n",
              "\n",
              "                                                    text            title  \\\n",
              "34     I'm falling in love\\nFalling in love (I'm fall...  Falling In Love   \n",
              "106    Off, off, off, off, off with your head\\nDance,...  Heads Will Roll   \n",
              "145    Left a good job in the city\\nWorkin' for the m...       Proud Mary   \n",
              "158    When the night has come\\nAnd the land is dark\\...      Stand by Me   \n",
              "204    Begging, begging you-ou-ou\\nPut your loving ha...          Beggin'   \n",
              "...                                                  ...              ...   \n",
              "11383  Another head hangs lowly\\nChild is slowly take...           Zombie   \n",
              "11384  Well, sometimes I go out by myself\\nAnd I look...          Valerie   \n",
              "11408  As he came into the window\\nIt was the sound o...  Smooth Criminal   \n",
              "11411  Left a good job in the city\\nWorking for the m...       Proud Mary   \n",
              "11412  Left a good job in the city\\nWorking for the m...       Proud Mary   \n",
              "\n",
              "      language          isrc               genres  duration  \\\n",
              "34          EN  GBKCF1800703                DANCE  218170.0   \n",
              "106         EN  QZMHK2067314                DANCE  140050.0   \n",
              "145         EN  FR6V80083191         ALLROCK, RNR  155350.0   \n",
              "158         EN  USM952100002        ROCK, ALLROCK  199010.0   \n",
              "204         EN  QM42K2122682                DANCE  148030.0   \n",
              "...        ...           ...                  ...       ...   \n",
              "11383       EN  QM42K2057010          ELECTRONICS  160000.0   \n",
              "11384       EN  ARF411900151  ELECTRONICS, LOUNGE  222320.0   \n",
              "11408       EN  USQX91200007                  POP  214640.0   \n",
              "11411     None  UK6ZW1403686                DANCE  213660.0   \n",
              "11412     None  UK6ZW1403686                DANCE  213660.0   \n",
              "\n",
              "                data_time  \n",
              "34    2019-02-18 14:50:08  \n",
              "106   2023-09-02 21:00:00  \n",
              "145   2013-11-16 06:24:08  \n",
              "158   2021-01-14 21:00:00  \n",
              "204   2021-01-27 21:00:00  \n",
              "...                   ...  \n",
              "11383 2020-05-14 21:00:00  \n",
              "11384 2019-03-07 21:00:00  \n",
              "11408 2020-01-08 00:46:09  \n",
              "11411 2019-07-21 21:00:00  \n",
              "11412 2019-07-21 21:00:00  \n",
              "\n",
              "[374 rows x 11 columns]"
            ]
          },
          "execution_count": 36,
          "metadata": {},
          "output_type": "execute_result"
        }
      ],
      "source": [
        "# Выбираем строки из DataFrame merged, где 'track_remake_type' равно 'COVER'\n",
        "# и значение в столбце 'original_track_id' не отсутствует\n",
        "\n",
        "merged.loc[(merged['track_remake_type'] == 'COVER') & (merged['original_track_id'].notnull())]"
      ]
    },
    {
      "cell_type": "code",
      "execution_count": null,
      "id": "55762fc9-34aa-40da-a2f6-462818a6bf28",
      "metadata": {
        "colab": {
          "base_uri": "https://localhost:8080/",
          "height": 847
        },
        "id": "55762fc9-34aa-40da-a2f6-462818a6bf28",
        "outputId": "c0680632-d425-4bf6-b856-a658ec6ba00d"
      },
      "outputs": [
        {
          "data": {
            "text/html": [
              "<div>\n",
              "<style scoped>\n",
              "    .dataframe tbody tr th:only-of-type {\n",
              "        vertical-align: middle;\n",
              "    }\n",
              "\n",
              "    .dataframe tbody tr th {\n",
              "        vertical-align: top;\n",
              "    }\n",
              "\n",
              "    .dataframe thead th {\n",
              "        text-align: right;\n",
              "    }\n",
              "</style>\n",
              "<table border=\"1\" class=\"dataframe\">\n",
              "  <thead>\n",
              "    <tr style=\"text-align: right;\">\n",
              "      <th></th>\n",
              "      <th>original_track_id</th>\n",
              "      <th>track_id</th>\n",
              "      <th>track_remake_type</th>\n",
              "      <th>lyric_id</th>\n",
              "      <th>text</th>\n",
              "      <th>title</th>\n",
              "      <th>language</th>\n",
              "      <th>isrc</th>\n",
              "      <th>genres</th>\n",
              "      <th>duration</th>\n",
              "      <th>data_time</th>\n",
              "    </tr>\n",
              "  </thead>\n",
              "  <tbody>\n",
              "    <tr>\n",
              "      <th>0</th>\n",
              "      <td>1c4b1230f937e4c548ff732523214dcd</td>\n",
              "      <td>1c4b1230f937e4c548ff732523214dcd</td>\n",
              "      <td>ORIGINAL</td>\n",
              "      <td>a951f9504e89759e9d23039b7b17ec14</td>\n",
              "      <td>Живу сейчас обломами, обломками не той любви\\n...</td>\n",
              "      <td>Сарафан</td>\n",
              "      <td>None</td>\n",
              "      <td>AEA0D1860569</td>\n",
              "      <td>FOREIGNBARD, BARD</td>\n",
              "      <td>140000.0</td>\n",
              "      <td>2018-09-26 02:24:21</td>\n",
              "    </tr>\n",
              "    <tr>\n",
              "      <th>2</th>\n",
              "      <td>9c6dc41d5ccd9968d07f055da5d8f741</td>\n",
              "      <td>9c6dc41d5ccd9968d07f055da5d8f741</td>\n",
              "      <td>ORIGINAL</td>\n",
              "      <td>e2c8830fbc86e5964478243099eec23a</td>\n",
              "      <td>You're ashamed about all your fears and doubts...</td>\n",
              "      <td>Briane</td>\n",
              "      <td>None</td>\n",
              "      <td>USUM71006645</td>\n",
              "      <td>ROCK, ALLROCK</td>\n",
              "      <td>317910.0</td>\n",
              "      <td>2010-05-20 05:00:14</td>\n",
              "    </tr>\n",
              "    <tr>\n",
              "      <th>3</th>\n",
              "      <td>bfd04a73e9cffdf0e282c92219a86ea1</td>\n",
              "      <td>bfd04a73e9cffdf0e282c92219a86ea1</td>\n",
              "      <td>ORIGINAL</td>\n",
              "      <td>e2c8830fbc86e5964478243099eec23a</td>\n",
              "      <td>You're ashamed about all your fears and doubts...</td>\n",
              "      <td>Briane</td>\n",
              "      <td>None</td>\n",
              "      <td>USM951100211</td>\n",
              "      <td>ROCK, ALLROCK</td>\n",
              "      <td>317860.0</td>\n",
              "      <td>2014-09-23 12:07:56</td>\n",
              "    </tr>\n",
              "    <tr>\n",
              "      <th>4</th>\n",
              "      <td>8d70930d09cd239c948408d1317d8659</td>\n",
              "      <td>8d70930d09cd239c948408d1317d8659</td>\n",
              "      <td>ORIGINAL</td>\n",
              "      <td>7624653ca8522ba93470843c74961b7d</td>\n",
              "      <td>You showed him all the best of you,\\nBut I'm a...</td>\n",
              "      <td>Broken Angel</td>\n",
              "      <td>None</td>\n",
              "      <td>USUM71006638</td>\n",
              "      <td>ROCK, ALLROCK</td>\n",
              "      <td>321280.0</td>\n",
              "      <td>2010-05-20 05:00:14</td>\n",
              "    </tr>\n",
              "    <tr>\n",
              "      <th>5</th>\n",
              "      <td>b12ecdeac6ac42e1ecac96f9f15b1159</td>\n",
              "      <td>b12ecdeac6ac42e1ecac96f9f15b1159</td>\n",
              "      <td>ORIGINAL</td>\n",
              "      <td>7624653ca8522ba93470843c74961b7d</td>\n",
              "      <td>You showed him all the best of you,\\nBut I'm a...</td>\n",
              "      <td>Broken Angel</td>\n",
              "      <td>None</td>\n",
              "      <td>USM951100203</td>\n",
              "      <td>ROCK, ALLROCK</td>\n",
              "      <td>321220.0</td>\n",
              "      <td>2014-09-23 12:07:56</td>\n",
              "    </tr>\n",
              "    <tr>\n",
              "      <th>...</th>\n",
              "      <td>...</td>\n",
              "      <td>...</td>\n",
              "      <td>...</td>\n",
              "      <td>...</td>\n",
              "      <td>...</td>\n",
              "      <td>...</td>\n",
              "      <td>...</td>\n",
              "      <td>...</td>\n",
              "      <td>...</td>\n",
              "      <td>...</td>\n",
              "      <td>...</td>\n",
              "    </tr>\n",
              "    <tr>\n",
              "      <th>11400</th>\n",
              "      <td>e2a5956e7497813618bb9c9dcd64fbde</td>\n",
              "      <td>e2a5956e7497813618bb9c9dcd64fbde</td>\n",
              "      <td>ORIGINAL</td>\n",
              "      <td>7f36280ff30405be5513f6fa851d2284</td>\n",
              "      <td>Вот мой маяк\\nВозможно ты когда-нибудь\\nЗахоче...</td>\n",
              "      <td>Маяк</td>\n",
              "      <td>None</td>\n",
              "      <td>RUB422000894</td>\n",
              "      <td>POP, RUSPOP</td>\n",
              "      <td>271250.0</td>\n",
              "      <td>2020-05-14 21:00:00</td>\n",
              "    </tr>\n",
              "    <tr>\n",
              "      <th>11402</th>\n",
              "      <td>a31a7f10762e7982b07b2fe478f7326a</td>\n",
              "      <td>a31a7f10762e7982b07b2fe478f7326a</td>\n",
              "      <td>ORIGINAL</td>\n",
              "      <td>bb4fe55a6e010d0f689ecef9978c399c</td>\n",
              "      <td>Ты что-то хочешь узнать (о-оу, yeah)\\nЗнаю, чт...</td>\n",
              "      <td>X.O</td>\n",
              "      <td>RU</td>\n",
              "      <td>FR59R2079011</td>\n",
              "      <td>POP, RUSPOP</td>\n",
              "      <td>172470.0</td>\n",
              "      <td>2020-05-20 21:00:00</td>\n",
              "    </tr>\n",
              "    <tr>\n",
              "      <th>11405</th>\n",
              "      <td>f43de1d6042c7528b99f37bfbe860276</td>\n",
              "      <td>f43de1d6042c7528b99f37bfbe860276</td>\n",
              "      <td>ORIGINAL</td>\n",
              "      <td>4056a28ffed89d38eb0dc94a8b6b556d</td>\n",
              "      <td>Ой, девчонки, хана\\nОй, влюбилась в пацана\\nОй...</td>\n",
              "      <td>Влюбилась в пацана</td>\n",
              "      <td>None</td>\n",
              "      <td>RUA1D2015958</td>\n",
              "      <td>RUSRAP, RAP</td>\n",
              "      <td>144220.0</td>\n",
              "      <td>2020-05-10 21:00:00</td>\n",
              "    </tr>\n",
              "    <tr>\n",
              "      <th>11410</th>\n",
              "      <td>b3cbb82e4ef67e75b1e47054a681db86</td>\n",
              "      <td>b3cbb82e4ef67e75b1e47054a681db86</td>\n",
              "      <td>ORIGINAL</td>\n",
              "      <td>b82bd468c888ae17d2e976c8cf3b9d4c</td>\n",
              "      <td>I will make my way\\nI'm trying to survive anot...</td>\n",
              "      <td>My Way</td>\n",
              "      <td>EN</td>\n",
              "      <td>ITL012100021</td>\n",
              "      <td>POP</td>\n",
              "      <td>201790.0</td>\n",
              "      <td>2021-05-06 21:00:00</td>\n",
              "    </tr>\n",
              "    <tr>\n",
              "      <th>11413</th>\n",
              "      <td>c860754a50dac664d847bca85e6897f4</td>\n",
              "      <td>c860754a50dac664d847bca85e6897f4</td>\n",
              "      <td>ORIGINAL</td>\n",
              "      <td>4c07f8d17222f821114790241f816431</td>\n",
              "      <td>Этой ночью чьё-то сердце от любви горит\\nВсё в...</td>\n",
              "      <td>ночь</td>\n",
              "      <td>RU</td>\n",
              "      <td>FR59R2161423</td>\n",
              "      <td>POP, RUSPOP</td>\n",
              "      <td>149330.0</td>\n",
              "      <td>2021-04-22 21:00:00</td>\n",
              "    </tr>\n",
              "  </tbody>\n",
              "</table>\n",
              "<p>3225 rows × 11 columns</p>\n",
              "</div>"
            ],
            "text/plain": [
              "                      original_track_id                          track_id  \\\n",
              "0      1c4b1230f937e4c548ff732523214dcd  1c4b1230f937e4c548ff732523214dcd   \n",
              "2      9c6dc41d5ccd9968d07f055da5d8f741  9c6dc41d5ccd9968d07f055da5d8f741   \n",
              "3      bfd04a73e9cffdf0e282c92219a86ea1  bfd04a73e9cffdf0e282c92219a86ea1   \n",
              "4      8d70930d09cd239c948408d1317d8659  8d70930d09cd239c948408d1317d8659   \n",
              "5      b12ecdeac6ac42e1ecac96f9f15b1159  b12ecdeac6ac42e1ecac96f9f15b1159   \n",
              "...                                 ...                               ...   \n",
              "11400  e2a5956e7497813618bb9c9dcd64fbde  e2a5956e7497813618bb9c9dcd64fbde   \n",
              "11402  a31a7f10762e7982b07b2fe478f7326a  a31a7f10762e7982b07b2fe478f7326a   \n",
              "11405  f43de1d6042c7528b99f37bfbe860276  f43de1d6042c7528b99f37bfbe860276   \n",
              "11410  b3cbb82e4ef67e75b1e47054a681db86  b3cbb82e4ef67e75b1e47054a681db86   \n",
              "11413  c860754a50dac664d847bca85e6897f4  c860754a50dac664d847bca85e6897f4   \n",
              "\n",
              "      track_remake_type                          lyric_id  \\\n",
              "0              ORIGINAL  a951f9504e89759e9d23039b7b17ec14   \n",
              "2              ORIGINAL  e2c8830fbc86e5964478243099eec23a   \n",
              "3              ORIGINAL  e2c8830fbc86e5964478243099eec23a   \n",
              "4              ORIGINAL  7624653ca8522ba93470843c74961b7d   \n",
              "5              ORIGINAL  7624653ca8522ba93470843c74961b7d   \n",
              "...                 ...                               ...   \n",
              "11400          ORIGINAL  7f36280ff30405be5513f6fa851d2284   \n",
              "11402          ORIGINAL  bb4fe55a6e010d0f689ecef9978c399c   \n",
              "11405          ORIGINAL  4056a28ffed89d38eb0dc94a8b6b556d   \n",
              "11410          ORIGINAL  b82bd468c888ae17d2e976c8cf3b9d4c   \n",
              "11413          ORIGINAL  4c07f8d17222f821114790241f816431   \n",
              "\n",
              "                                                    text               title  \\\n",
              "0      Живу сейчас обломами, обломками не той любви\\n...             Сарафан   \n",
              "2      You're ashamed about all your fears and doubts...              Briane   \n",
              "3      You're ashamed about all your fears and doubts...              Briane   \n",
              "4      You showed him all the best of you,\\nBut I'm a...        Broken Angel   \n",
              "5      You showed him all the best of you,\\nBut I'm a...        Broken Angel   \n",
              "...                                                  ...                 ...   \n",
              "11400  Вот мой маяк\\nВозможно ты когда-нибудь\\nЗахоче...                Маяк   \n",
              "11402  Ты что-то хочешь узнать (о-оу, yeah)\\nЗнаю, чт...                 X.O   \n",
              "11405  Ой, девчонки, хана\\nОй, влюбилась в пацана\\nОй...  Влюбилась в пацана   \n",
              "11410  I will make my way\\nI'm trying to survive anot...              My Way   \n",
              "11413  Этой ночью чьё-то сердце от любви горит\\nВсё в...                ночь   \n",
              "\n",
              "      language          isrc             genres  duration           data_time  \n",
              "0         None  AEA0D1860569  FOREIGNBARD, BARD  140000.0 2018-09-26 02:24:21  \n",
              "2         None  USUM71006645      ROCK, ALLROCK  317910.0 2010-05-20 05:00:14  \n",
              "3         None  USM951100211      ROCK, ALLROCK  317860.0 2014-09-23 12:07:56  \n",
              "4         None  USUM71006638      ROCK, ALLROCK  321280.0 2010-05-20 05:00:14  \n",
              "5         None  USM951100203      ROCK, ALLROCK  321220.0 2014-09-23 12:07:56  \n",
              "...        ...           ...                ...       ...                 ...  \n",
              "11400     None  RUB422000894        POP, RUSPOP  271250.0 2020-05-14 21:00:00  \n",
              "11402       RU  FR59R2079011        POP, RUSPOP  172470.0 2020-05-20 21:00:00  \n",
              "11405     None  RUA1D2015958        RUSRAP, RAP  144220.0 2020-05-10 21:00:00  \n",
              "11410       EN  ITL012100021                POP  201790.0 2021-05-06 21:00:00  \n",
              "11413       RU  FR59R2161423        POP, RUSPOP  149330.0 2021-04-22 21:00:00  \n",
              "\n",
              "[3225 rows x 11 columns]"
            ]
          },
          "execution_count": 37,
          "metadata": {},
          "output_type": "execute_result"
        }
      ],
      "source": [
        "# Выборка данных из DataFrame merged, где 'track_remake_type' равно 'ORIGINAL'\n",
        "# и при этом 'original_track_id' не равно null (то есть имеется ссылка на оригинальный трек)\n",
        "\n",
        "merged.loc[(merged['track_remake_type'] == 'ORIGINAL') & (merged['original_track_id'].notnull())]"
      ]
    },
    {
      "cell_type": "code",
      "execution_count": null,
      "id": "0158aab2-07f5-4b45-b5b6-9dbf6b061c88",
      "metadata": {
        "colab": {
          "base_uri": "https://localhost:8080/",
          "height": 949
        },
        "id": "0158aab2-07f5-4b45-b5b6-9dbf6b061c88",
        "outputId": "420f2b16-7baf-4c6e-a41d-88a4cb64d307"
      },
      "outputs": [
        {
          "data": {
            "text/html": [
              "<div>\n",
              "<style scoped>\n",
              "    .dataframe tbody tr th:only-of-type {\n",
              "        vertical-align: middle;\n",
              "    }\n",
              "\n",
              "    .dataframe tbody tr th {\n",
              "        vertical-align: top;\n",
              "    }\n",
              "\n",
              "    .dataframe thead th {\n",
              "        text-align: right;\n",
              "    }\n",
              "</style>\n",
              "<table border=\"1\" class=\"dataframe\">\n",
              "  <thead>\n",
              "    <tr style=\"text-align: right;\">\n",
              "      <th></th>\n",
              "      <th>original_track_id</th>\n",
              "      <th>track_id</th>\n",
              "      <th>track_remake_type</th>\n",
              "      <th>lyric_id</th>\n",
              "      <th>text</th>\n",
              "      <th>title</th>\n",
              "      <th>language</th>\n",
              "      <th>isrc</th>\n",
              "      <th>genres</th>\n",
              "      <th>duration</th>\n",
              "      <th>data_time</th>\n",
              "    </tr>\n",
              "  </thead>\n",
              "  <tbody>\n",
              "    <tr>\n",
              "      <th>1</th>\n",
              "      <td>None</td>\n",
              "      <td>0faea89b0d7d6235b5b74def72511bd8</td>\n",
              "      <td>COVER</td>\n",
              "      <td>0c749bc3f01eb8e6cf986fa14ccfc585</td>\n",
              "      <td>Tell me your fable\\nA fable\\nTell me your fabl...</td>\n",
              "      <td>Children</td>\n",
              "      <td>None</td>\n",
              "      <td>QZS672199805</td>\n",
              "      <td>ELECTRONICS</td>\n",
              "      <td>214590.0</td>\n",
              "      <td>2021-08-04 13:08:25</td>\n",
              "    </tr>\n",
              "    <tr>\n",
              "      <th>9</th>\n",
              "      <td>None</td>\n",
              "      <td>682f310c802690104b3a633b6557bac2</td>\n",
              "      <td>COVER</td>\n",
              "      <td>b6b9656527783d76fcfa0fad73625f36</td>\n",
              "      <td>Justo ayer me di cuenta\\nQue solo es cuestión ...</td>\n",
              "      <td>Pensar en nada</td>\n",
              "      <td>ES</td>\n",
              "      <td>QZ22B2005336</td>\n",
              "      <td>ROCK, ALLROCK</td>\n",
              "      <td>242400.0</td>\n",
              "      <td>2022-11-01 21:00:00</td>\n",
              "    </tr>\n",
              "    <tr>\n",
              "      <th>10</th>\n",
              "      <td>None</td>\n",
              "      <td>c5add93b387a42a87ab65bfbdd245355</td>\n",
              "      <td>COVER</td>\n",
              "      <td>516de218b47796afef83576390283f29</td>\n",
              "      <td>All you ladies pop your pussy like this\\nShake...</td>\n",
              "      <td>Do It</td>\n",
              "      <td>EN</td>\n",
              "      <td>DEE861901191</td>\n",
              "      <td>DANCE</td>\n",
              "      <td>210090.0</td>\n",
              "      <td>2019-04-18 21:00:00</td>\n",
              "    </tr>\n",
              "    <tr>\n",
              "      <th>11</th>\n",
              "      <td>None</td>\n",
              "      <td>666a7b93e92b9cddfc0357880c465624</td>\n",
              "      <td>COVER</td>\n",
              "      <td>1966d4629143ab1553bb96ab8eb4bd26</td>\n",
              "      <td>Te levo pro cinema, sei até contar poema\\nFaço...</td>\n",
              "      <td>Simples e Romântico</td>\n",
              "      <td>PT</td>\n",
              "      <td>BRSME1800980</td>\n",
              "      <td>CHILDREN</td>\n",
              "      <td>206970.0</td>\n",
              "      <td>2018-09-25 21:00:00</td>\n",
              "    </tr>\n",
              "    <tr>\n",
              "      <th>12</th>\n",
              "      <td>None</td>\n",
              "      <td>4efd2d014a33d041b5de19a225cb0996</td>\n",
              "      <td>COVER</td>\n",
              "      <td>6970c86079779614b8cee28f4a4e391e</td>\n",
              "      <td>Creatures kissing in the rain\\nShapeless in th...</td>\n",
              "      <td>The Hanging Garden</td>\n",
              "      <td>EN</td>\n",
              "      <td>GBDHC1804406</td>\n",
              "      <td>CLASSICMETAL, METAL</td>\n",
              "      <td>351830.0</td>\n",
              "      <td>2018-10-25 21:00:00</td>\n",
              "    </tr>\n",
              "    <tr>\n",
              "      <th>...</th>\n",
              "      <td>...</td>\n",
              "      <td>...</td>\n",
              "      <td>...</td>\n",
              "      <td>...</td>\n",
              "      <td>...</td>\n",
              "      <td>...</td>\n",
              "      <td>...</td>\n",
              "      <td>...</td>\n",
              "      <td>...</td>\n",
              "      <td>...</td>\n",
              "      <td>...</td>\n",
              "    </tr>\n",
              "    <tr>\n",
              "      <th>11403</th>\n",
              "      <td>None</td>\n",
              "      <td>ff825a62958a8697bd12dbda0449813d</td>\n",
              "      <td>COVER</td>\n",
              "      <td>dc4c84bd4b4e09b670a39877209e9f01</td>\n",
              "      <td>Ah ah ah ah\\nNo\\n\\nEntre tanta gente yo te vi ...</td>\n",
              "      <td>Cristina</td>\n",
              "      <td>None</td>\n",
              "      <td>QZHZ32041037</td>\n",
              "      <td>POP</td>\n",
              "      <td>204550.0</td>\n",
              "      <td>2020-05-08 01:48:54</td>\n",
              "    </tr>\n",
              "    <tr>\n",
              "      <th>11404</th>\n",
              "      <td>None</td>\n",
              "      <td>622fa7c6e60934e00e5e596c7696f425</td>\n",
              "      <td>COVER</td>\n",
              "      <td>6c3c69325ed18c773eaedc28053cce14</td>\n",
              "      <td>7 a.m un día más inicio\\nA los que haceres y a...</td>\n",
              "      <td>Cuándo Empezaré A Vivir - Enredados</td>\n",
              "      <td>ES</td>\n",
              "      <td>ART0G1809203</td>\n",
              "      <td>FOLK, LATINFOLK</td>\n",
              "      <td>151210.0</td>\n",
              "      <td>2020-05-12 19:39:51</td>\n",
              "    </tr>\n",
              "    <tr>\n",
              "      <th>11406</th>\n",
              "      <td>None</td>\n",
              "      <td>140e08488c485a58a92d7c8c95424ef5</td>\n",
              "      <td>COVER</td>\n",
              "      <td>4c49cc036f517b768309c92e0c98af36</td>\n",
              "      <td>Oh baby, baby, how was I supposed to know?\\nTh...</td>\n",
              "      <td>...Baby One More Time</td>\n",
              "      <td>EN</td>\n",
              "      <td>DEWO71700218</td>\n",
              "      <td>ALTERNATIVE</td>\n",
              "      <td>149670.0</td>\n",
              "      <td>2021-05-04 21:00:00</td>\n",
              "    </tr>\n",
              "    <tr>\n",
              "      <th>11407</th>\n",
              "      <td>None</td>\n",
              "      <td>3f0fecda6e2efaad479039b03718c466</td>\n",
              "      <td>COVER</td>\n",
              "      <td>efb5a1ec42ab0bec2a1b84748ccf6b6e</td>\n",
              "      <td>Quizá se le olvido (Isa y Ka)\\nQue los besos m...</td>\n",
              "      <td>Ay Mi Dios</td>\n",
              "      <td>None</td>\n",
              "      <td>US7VG2180782</td>\n",
              "      <td>REGGAE, REGGAETON</td>\n",
              "      <td>255290.0</td>\n",
              "      <td>2021-02-27 21:52:42</td>\n",
              "    </tr>\n",
              "    <tr>\n",
              "      <th>11409</th>\n",
              "      <td>None</td>\n",
              "      <td>b734225e54122798535b40666e6e361e</td>\n",
              "      <td>COVER</td>\n",
              "      <td>90522f12df92da5d585f8f6ec9bb34b5</td>\n",
              "      <td>All my little plans and schemes\\nLost like som...</td>\n",
              "      <td>Real Love</td>\n",
              "      <td>None</td>\n",
              "      <td>US7VG2133350</td>\n",
              "      <td>POP</td>\n",
              "      <td>276130.0</td>\n",
              "      <td>2021-03-17 10:18:44</td>\n",
              "    </tr>\n",
              "  </tbody>\n",
              "</table>\n",
              "<p>7498 rows × 11 columns</p>\n",
              "</div>"
            ],
            "text/plain": [
              "      original_track_id                          track_id track_remake_type  \\\n",
              "1                  None  0faea89b0d7d6235b5b74def72511bd8             COVER   \n",
              "9                  None  682f310c802690104b3a633b6557bac2             COVER   \n",
              "10                 None  c5add93b387a42a87ab65bfbdd245355             COVER   \n",
              "11                 None  666a7b93e92b9cddfc0357880c465624             COVER   \n",
              "12                 None  4efd2d014a33d041b5de19a225cb0996             COVER   \n",
              "...                 ...                               ...               ...   \n",
              "11403              None  ff825a62958a8697bd12dbda0449813d             COVER   \n",
              "11404              None  622fa7c6e60934e00e5e596c7696f425             COVER   \n",
              "11406              None  140e08488c485a58a92d7c8c95424ef5             COVER   \n",
              "11407              None  3f0fecda6e2efaad479039b03718c466             COVER   \n",
              "11409              None  b734225e54122798535b40666e6e361e             COVER   \n",
              "\n",
              "                               lyric_id  \\\n",
              "1      0c749bc3f01eb8e6cf986fa14ccfc585   \n",
              "9      b6b9656527783d76fcfa0fad73625f36   \n",
              "10     516de218b47796afef83576390283f29   \n",
              "11     1966d4629143ab1553bb96ab8eb4bd26   \n",
              "12     6970c86079779614b8cee28f4a4e391e   \n",
              "...                                 ...   \n",
              "11403  dc4c84bd4b4e09b670a39877209e9f01   \n",
              "11404  6c3c69325ed18c773eaedc28053cce14   \n",
              "11406  4c49cc036f517b768309c92e0c98af36   \n",
              "11407  efb5a1ec42ab0bec2a1b84748ccf6b6e   \n",
              "11409  90522f12df92da5d585f8f6ec9bb34b5   \n",
              "\n",
              "                                                    text  \\\n",
              "1      Tell me your fable\\nA fable\\nTell me your fabl...   \n",
              "9      Justo ayer me di cuenta\\nQue solo es cuestión ...   \n",
              "10     All you ladies pop your pussy like this\\nShake...   \n",
              "11     Te levo pro cinema, sei até contar poema\\nFaço...   \n",
              "12     Creatures kissing in the rain\\nShapeless in th...   \n",
              "...                                                  ...   \n",
              "11403  Ah ah ah ah\\nNo\\n\\nEntre tanta gente yo te vi ...   \n",
              "11404  7 a.m un día más inicio\\nA los que haceres y a...   \n",
              "11406  Oh baby, baby, how was I supposed to know?\\nTh...   \n",
              "11407  Quizá se le olvido (Isa y Ka)\\nQue los besos m...   \n",
              "11409  All my little plans and schemes\\nLost like som...   \n",
              "\n",
              "                                     title language          isrc  \\\n",
              "1                                 Children     None  QZS672199805   \n",
              "9                           Pensar en nada       ES  QZ22B2005336   \n",
              "10                                   Do It       EN  DEE861901191   \n",
              "11                     Simples e Romântico       PT  BRSME1800980   \n",
              "12                      The Hanging Garden       EN  GBDHC1804406   \n",
              "...                                    ...      ...           ...   \n",
              "11403                             Cristina     None  QZHZ32041037   \n",
              "11404  Cuándo Empezaré A Vivir - Enredados       ES  ART0G1809203   \n",
              "11406                ...Baby One More Time       EN  DEWO71700218   \n",
              "11407                           Ay Mi Dios     None  US7VG2180782   \n",
              "11409                            Real Love     None  US7VG2133350   \n",
              "\n",
              "                    genres  duration           data_time  \n",
              "1              ELECTRONICS  214590.0 2021-08-04 13:08:25  \n",
              "9            ROCK, ALLROCK  242400.0 2022-11-01 21:00:00  \n",
              "10                   DANCE  210090.0 2019-04-18 21:00:00  \n",
              "11                CHILDREN  206970.0 2018-09-25 21:00:00  \n",
              "12     CLASSICMETAL, METAL  351830.0 2018-10-25 21:00:00  \n",
              "...                    ...       ...                 ...  \n",
              "11403                  POP  204550.0 2020-05-08 01:48:54  \n",
              "11404      FOLK, LATINFOLK  151210.0 2020-05-12 19:39:51  \n",
              "11406          ALTERNATIVE  149670.0 2021-05-04 21:00:00  \n",
              "11407    REGGAE, REGGAETON  255290.0 2021-02-27 21:52:42  \n",
              "11409                  POP  276130.0 2021-03-17 10:18:44  \n",
              "\n",
              "[7498 rows x 11 columns]"
            ]
          },
          "execution_count": 38,
          "metadata": {},
          "output_type": "execute_result"
        }
      ],
      "source": [
        "# Выборка данных из DataFrame, где значение в столбце 'track_remake_type' равно 'COVER'\n",
        "# и значение в столбце 'original_track_id' отсутствует\n",
        "\n",
        "merged.loc[(merged['track_remake_type'] == 'COVER') & (merged['original_track_id'].isna())]"
      ]
    },
    {
      "cell_type": "code",
      "execution_count": null,
      "id": "e5d9d5d4-6033-4437-9255-2fc7bf3c6972",
      "metadata": {
        "colab": {
          "base_uri": "https://localhost:8080/"
        },
        "id": "e5d9d5d4-6033-4437-9255-2fc7bf3c6972",
        "outputId": "5ce8be40-4370-4007-e8d2-aa63a98d5eb8"
      },
      "outputs": [
        {
          "data": {
            "text/plain": [
              "track_remake_type\n",
              "COVER       7872\n",
              "ORIGINAL    3225\n",
              "Name: count, dtype: int64"
            ]
          },
          "execution_count": 39,
          "metadata": {},
          "output_type": "execute_result"
        }
      ],
      "source": [
        "# Рассмотрим соотношение 'COVER' и 'ORIGINAL' в столбце 'track_remake_type'\n",
        "\n",
        "merged['track_remake_type'].value_counts()"
      ]
    },
    {
      "cell_type": "markdown",
      "id": "C0Gs7pf92cO4",
      "metadata": {
        "id": "C0Gs7pf92cO4"
      },
      "source": [
        "## Рассмотрим зависимости в дублях на основании наличия пропусков в данных"
      ]
    },
    {
      "cell_type": "code",
      "execution_count": null,
      "id": "eehvdYg02WF5",
      "metadata": {
        "colab": {
          "base_uri": "https://localhost:8080/"
        },
        "id": "eehvdYg02WF5",
        "outputId": "79c5e127-b6b0-4e88-97e3-f404d0b2cbb1"
      },
      "outputs": [
        {
          "data": {
            "text/plain": [
              "0"
            ]
          },
          "execution_count": 40,
          "metadata": {},
          "output_type": "execute_result"
        }
      ],
      "source": [
        "# проверим наличие полных дубликатов\n",
        "merged.duplicated().sum()"
      ]
    },
    {
      "cell_type": "code",
      "execution_count": null,
      "id": "lvReFwSZ3K-9",
      "metadata": {
        "colab": {
          "base_uri": "https://localhost:8080/"
        },
        "id": "lvReFwSZ3K-9",
        "outputId": "46e464d6-1009-46ac-821a-7e1e6a4117f6"
      },
      "outputs": [
        {
          "data": {
            "text/plain": [
              "1137"
            ]
          },
          "execution_count": 41,
          "metadata": {},
          "output_type": "execute_result"
        }
      ],
      "source": [
        "# Проверим дубликаты в столбце \"track_id\" в таблице merged\n",
        "merged['track_id'].duplicated().sum()"
      ]
    },
    {
      "cell_type": "code",
      "execution_count": null,
      "id": "pwpTbIbZ4HEw",
      "metadata": {
        "colab": {
          "base_uri": "https://localhost:8080/"
        },
        "id": "pwpTbIbZ4HEw",
        "outputId": "e1048171-ca4f-44d2-e5a1-6274f03601f1"
      },
      "outputs": [
        {
          "data": {
            "text/plain": [
              "499"
            ]
          },
          "execution_count": 42,
          "metadata": {},
          "output_type": "execute_result"
        }
      ],
      "source": [
        "# Проверим дубликаты в столбце \"lyric_id\" в таблице merged\n",
        "merged['lyric_id'].duplicated().sum()"
      ]
    },
    {
      "cell_type": "code",
      "execution_count": null,
      "id": "hneqIMFf4HKi",
      "metadata": {
        "colab": {
          "base_uri": "https://localhost:8080/"
        },
        "id": "hneqIMFf4HKi",
        "outputId": "a6acfaf5-f4ef-4242-a515-c9e26324c2e2"
      },
      "outputs": [
        {
          "data": {
            "text/plain": [
              "770"
            ]
          },
          "execution_count": 43,
          "metadata": {},
          "output_type": "execute_result"
        }
      ],
      "source": [
        "# Проверим дубликаты в столбце \"text\" в таблице merged\n",
        "merged['text'].duplicated().sum()"
      ]
    },
    {
      "cell_type": "code",
      "execution_count": null,
      "id": "1BSW9KeU4HQP",
      "metadata": {
        "colab": {
          "base_uri": "https://localhost:8080/"
        },
        "id": "1BSW9KeU4HQP",
        "outputId": "a9e370fe-2210-4c8b-dfc3-2b21f0c8e02f"
      },
      "outputs": [
        {
          "data": {
            "text/plain": [
              "1287"
            ]
          },
          "execution_count": 44,
          "metadata": {},
          "output_type": "execute_result"
        }
      ],
      "source": [
        "# Проверим дубликаты в столбце \"isrc\" в таблице merged\n",
        "merged['isrc'].duplicated().sum()"
      ]
    },
    {
      "cell_type": "code",
      "execution_count": null,
      "id": "7FELxSLY4fP0",
      "metadata": {
        "colab": {
          "base_uri": "https://localhost:8080/",
          "height": 419
        },
        "id": "7FELxSLY4fP0",
        "outputId": "4b525e24-3020-42bf-fbc9-201448d084ea"
      },
      "outputs": [
        {
          "data": {
            "text/html": [
              "<div>\n",
              "<style scoped>\n",
              "    .dataframe tbody tr th:only-of-type {\n",
              "        vertical-align: middle;\n",
              "    }\n",
              "\n",
              "    .dataframe tbody tr th {\n",
              "        vertical-align: top;\n",
              "    }\n",
              "\n",
              "    .dataframe thead th {\n",
              "        text-align: right;\n",
              "    }\n",
              "</style>\n",
              "<table border=\"1\" class=\"dataframe\">\n",
              "  <thead>\n",
              "    <tr style=\"text-align: right;\">\n",
              "      <th></th>\n",
              "      <th>original_track_id</th>\n",
              "      <th>track_id</th>\n",
              "      <th>track_remake_type</th>\n",
              "      <th>lyric_id</th>\n",
              "      <th>text</th>\n",
              "      <th>title</th>\n",
              "      <th>language</th>\n",
              "      <th>isrc</th>\n",
              "      <th>genres</th>\n",
              "      <th>duration</th>\n",
              "      <th>data_time</th>\n",
              "    </tr>\n",
              "  </thead>\n",
              "  <tbody>\n",
              "    <tr>\n",
              "      <th>263</th>\n",
              "      <td>None</td>\n",
              "      <td>ea09c90790b997b6e384d75d424b3ffe</td>\n",
              "      <td>COVER</td>\n",
              "      <td>87966c7b6254c6298e18db41fea1b1a2</td>\n",
              "      <td>You ain't nothin' but a hound dog\\nJust crocki...</td>\n",
              "      <td>Hound Dog</td>\n",
              "      <td>EN</td>\n",
              "      <td>DELM40900205</td>\n",
              "      <td>ALLROCK, RNR</td>\n",
              "      <td>134670.0</td>\n",
              "      <td>2013-09-25 20:00:00</td>\n",
              "    </tr>\n",
              "    <tr>\n",
              "      <th>494</th>\n",
              "      <td>None</td>\n",
              "      <td>dec84e10ae3ecc5c363f495724799322</td>\n",
              "      <td>COVER</td>\n",
              "      <td>74825f6c746beceb4da57cf80d7d6c10</td>\n",
              "      <td>For the longest time we jamming at the party\\n...</td>\n",
              "      <td>Let Me Hold You (Turn Me On)</td>\n",
              "      <td>EN</td>\n",
              "      <td>NLZ541600032</td>\n",
              "      <td>DANCE</td>\n",
              "      <td>162420.0</td>\n",
              "      <td>2016-07-07 14:00:24</td>\n",
              "    </tr>\n",
              "    <tr>\n",
              "      <th>502</th>\n",
              "      <td>NaN</td>\n",
              "      <td>db69f2a265624a834d6e2a1238f6f225</td>\n",
              "      <td>NaN</td>\n",
              "      <td>4d0a6051746a18c918bae3926710cb97</td>\n",
              "      <td>You were the shadow to my light\\nDid you feel ...</td>\n",
              "      <td>Faded</td>\n",
              "      <td>EN</td>\n",
              "      <td>NOG841549010</td>\n",
              "      <td>DANCE, EDMGENRE</td>\n",
              "      <td>212500.0</td>\n",
              "      <td>2016-06-02 21:00:00</td>\n",
              "    </tr>\n",
              "    <tr>\n",
              "      <th>590</th>\n",
              "      <td>NaN</td>\n",
              "      <td>db69f2a265624a834d6e2a1238f6f225</td>\n",
              "      <td>NaN</td>\n",
              "      <td>4a95959841d857516385893009cfe841</td>\n",
              "      <td>You were the shadow to my light\\nDid you feel ...</td>\n",
              "      <td>Faded</td>\n",
              "      <td>EN</td>\n",
              "      <td>NOG841549010</td>\n",
              "      <td>DANCE, EDMGENRE</td>\n",
              "      <td>212500.0</td>\n",
              "      <td>2016-06-02 21:00:00</td>\n",
              "    </tr>\n",
              "    <tr>\n",
              "      <th>616</th>\n",
              "      <td>a367959976d3ca166beb46bdf66eefd0</td>\n",
              "      <td>a367959976d3ca166beb46bdf66eefd0</td>\n",
              "      <td>ORIGINAL</td>\n",
              "      <td>74c0d9fdd29e454653bfa23ec57e2808</td>\n",
              "      <td>All my friends are heathens, take it slow\\nWai...</td>\n",
              "      <td>Heathens</td>\n",
              "      <td>EN</td>\n",
              "      <td>USAT21601930</td>\n",
              "      <td>FILMS, SOUNDTRACK</td>\n",
              "      <td>195910.0</td>\n",
              "      <td>2016-06-16 19:10:44</td>\n",
              "    </tr>\n",
              "    <tr>\n",
              "      <th>...</th>\n",
              "      <td>...</td>\n",
              "      <td>...</td>\n",
              "      <td>...</td>\n",
              "      <td>...</td>\n",
              "      <td>...</td>\n",
              "      <td>...</td>\n",
              "      <td>...</td>\n",
              "      <td>...</td>\n",
              "      <td>...</td>\n",
              "      <td>...</td>\n",
              "      <td>...</td>\n",
              "    </tr>\n",
              "    <tr>\n",
              "      <th>11398</th>\n",
              "      <td>f66bf9c7becdeb7c4ce9c70722a2009c</td>\n",
              "      <td>f66bf9c7becdeb7c4ce9c70722a2009c</td>\n",
              "      <td>ORIGINAL</td>\n",
              "      <td>49df743c7a49ab4b90825282434f2e72</td>\n",
              "      <td>All the crazy shit I did tonight\\nThose will b...</td>\n",
              "      <td>Memories</td>\n",
              "      <td>EN</td>\n",
              "      <td>FRZID0900480</td>\n",
              "      <td>DANCE, EDMGENRE</td>\n",
              "      <td>210850.0</td>\n",
              "      <td>2014-04-15 20:00:00</td>\n",
              "    </tr>\n",
              "    <tr>\n",
              "      <th>11399</th>\n",
              "      <td>76cee823cdb700bb2d24f6db2c34587c</td>\n",
              "      <td>76cee823cdb700bb2d24f6db2c34587c</td>\n",
              "      <td>ORIGINAL</td>\n",
              "      <td>a16a7e2d216c914a505ec01102d57bb4</td>\n",
              "      <td>Now and then I think of when we were together\\...</td>\n",
              "      <td>Somebody That I Used To Know</td>\n",
              "      <td>EN</td>\n",
              "      <td>AUZS21100040</td>\n",
              "      <td>POP</td>\n",
              "      <td>245750.0</td>\n",
              "      <td>2011-12-13 21:37:16</td>\n",
              "    </tr>\n",
              "    <tr>\n",
              "      <th>11408</th>\n",
              "      <td>9050384cce6c221c39d6e25d02561612</td>\n",
              "      <td>53bf57b9e4d3eed991f57a603a41c9d4</td>\n",
              "      <td>COVER</td>\n",
              "      <td>da374afb1d2d6fbc85b40e68d22d2ab1</td>\n",
              "      <td>As he came into the window\\nIt was the sound o...</td>\n",
              "      <td>Smooth Criminal</td>\n",
              "      <td>EN</td>\n",
              "      <td>USQX91200007</td>\n",
              "      <td>POP</td>\n",
              "      <td>214640.0</td>\n",
              "      <td>2020-01-08 00:46:09</td>\n",
              "    </tr>\n",
              "    <tr>\n",
              "      <th>11411</th>\n",
              "      <td>eeb69a3cb92300456b6a5f4162093851</td>\n",
              "      <td>d5c149b59a800a6f9f61adda6d3e1b1d</td>\n",
              "      <td>COVER</td>\n",
              "      <td>22bae9d3185254ea34072c692a2cd63d</td>\n",
              "      <td>Left a good job in the city\\nWorking for the m...</td>\n",
              "      <td>Proud Mary</td>\n",
              "      <td>None</td>\n",
              "      <td>UK6ZW1403686</td>\n",
              "      <td>DANCE</td>\n",
              "      <td>213660.0</td>\n",
              "      <td>2019-07-21 21:00:00</td>\n",
              "    </tr>\n",
              "    <tr>\n",
              "      <th>11412</th>\n",
              "      <td>eeb69a3cb92300456b6a5f4162093851</td>\n",
              "      <td>d5c149b59a800a6f9f61adda6d3e1b1d</td>\n",
              "      <td>COVER</td>\n",
              "      <td>0979b4049635e1c0fc161573f75ab23a</td>\n",
              "      <td>Left a good job in the city\\nWorking for the m...</td>\n",
              "      <td>Proud Mary</td>\n",
              "      <td>None</td>\n",
              "      <td>UK6ZW1403686</td>\n",
              "      <td>DANCE</td>\n",
              "      <td>213660.0</td>\n",
              "      <td>2019-07-21 21:00:00</td>\n",
              "    </tr>\n",
              "  </tbody>\n",
              "</table>\n",
              "<p>1137 rows × 11 columns</p>\n",
              "</div>"
            ],
            "text/plain": [
              "                      original_track_id                          track_id  \\\n",
              "263                                None  ea09c90790b997b6e384d75d424b3ffe   \n",
              "494                                None  dec84e10ae3ecc5c363f495724799322   \n",
              "502                                 NaN  db69f2a265624a834d6e2a1238f6f225   \n",
              "590                                 NaN  db69f2a265624a834d6e2a1238f6f225   \n",
              "616    a367959976d3ca166beb46bdf66eefd0  a367959976d3ca166beb46bdf66eefd0   \n",
              "...                                 ...                               ...   \n",
              "11398  f66bf9c7becdeb7c4ce9c70722a2009c  f66bf9c7becdeb7c4ce9c70722a2009c   \n",
              "11399  76cee823cdb700bb2d24f6db2c34587c  76cee823cdb700bb2d24f6db2c34587c   \n",
              "11408  9050384cce6c221c39d6e25d02561612  53bf57b9e4d3eed991f57a603a41c9d4   \n",
              "11411  eeb69a3cb92300456b6a5f4162093851  d5c149b59a800a6f9f61adda6d3e1b1d   \n",
              "11412  eeb69a3cb92300456b6a5f4162093851  d5c149b59a800a6f9f61adda6d3e1b1d   \n",
              "\n",
              "      track_remake_type                          lyric_id  \\\n",
              "263               COVER  87966c7b6254c6298e18db41fea1b1a2   \n",
              "494               COVER  74825f6c746beceb4da57cf80d7d6c10   \n",
              "502                 NaN  4d0a6051746a18c918bae3926710cb97   \n",
              "590                 NaN  4a95959841d857516385893009cfe841   \n",
              "616            ORIGINAL  74c0d9fdd29e454653bfa23ec57e2808   \n",
              "...                 ...                               ...   \n",
              "11398          ORIGINAL  49df743c7a49ab4b90825282434f2e72   \n",
              "11399          ORIGINAL  a16a7e2d216c914a505ec01102d57bb4   \n",
              "11408             COVER  da374afb1d2d6fbc85b40e68d22d2ab1   \n",
              "11411             COVER  22bae9d3185254ea34072c692a2cd63d   \n",
              "11412             COVER  0979b4049635e1c0fc161573f75ab23a   \n",
              "\n",
              "                                                    text  \\\n",
              "263    You ain't nothin' but a hound dog\\nJust crocki...   \n",
              "494    For the longest time we jamming at the party\\n...   \n",
              "502    You were the shadow to my light\\nDid you feel ...   \n",
              "590    You were the shadow to my light\\nDid you feel ...   \n",
              "616    All my friends are heathens, take it slow\\nWai...   \n",
              "...                                                  ...   \n",
              "11398  All the crazy shit I did tonight\\nThose will b...   \n",
              "11399  Now and then I think of when we were together\\...   \n",
              "11408  As he came into the window\\nIt was the sound o...   \n",
              "11411  Left a good job in the city\\nWorking for the m...   \n",
              "11412  Left a good job in the city\\nWorking for the m...   \n",
              "\n",
              "                              title language          isrc             genres  \\\n",
              "263                       Hound Dog       EN  DELM40900205       ALLROCK, RNR   \n",
              "494    Let Me Hold You (Turn Me On)       EN  NLZ541600032              DANCE   \n",
              "502                           Faded       EN  NOG841549010    DANCE, EDMGENRE   \n",
              "590                           Faded       EN  NOG841549010    DANCE, EDMGENRE   \n",
              "616                        Heathens       EN  USAT21601930  FILMS, SOUNDTRACK   \n",
              "...                             ...      ...           ...                ...   \n",
              "11398                      Memories       EN  FRZID0900480    DANCE, EDMGENRE   \n",
              "11399  Somebody That I Used To Know       EN  AUZS21100040                POP   \n",
              "11408               Smooth Criminal       EN  USQX91200007                POP   \n",
              "11411                    Proud Mary     None  UK6ZW1403686              DANCE   \n",
              "11412                    Proud Mary     None  UK6ZW1403686              DANCE   \n",
              "\n",
              "       duration           data_time  \n",
              "263    134670.0 2013-09-25 20:00:00  \n",
              "494    162420.0 2016-07-07 14:00:24  \n",
              "502    212500.0 2016-06-02 21:00:00  \n",
              "590    212500.0 2016-06-02 21:00:00  \n",
              "616    195910.0 2016-06-16 19:10:44  \n",
              "...         ...                 ...  \n",
              "11398  210850.0 2014-04-15 20:00:00  \n",
              "11399  245750.0 2011-12-13 21:37:16  \n",
              "11408  214640.0 2020-01-08 00:46:09  \n",
              "11411  213660.0 2019-07-21 21:00:00  \n",
              "11412  213660.0 2019-07-21 21:00:00  \n",
              "\n",
              "[1137 rows x 11 columns]"
            ]
          },
          "execution_count": 45,
          "metadata": {},
          "output_type": "execute_result"
        }
      ],
      "source": [
        "# Выборка данных из DataFrame, где значение в столбцах 'track_id' и 'isrc' дублируются\n",
        "merged.loc[(merged['track_id'].duplicated())& (merged['isrc'].duplicated())]"
      ]
    },
    {
      "cell_type": "code",
      "execution_count": null,
      "id": "ASgfNrbN4fcV",
      "metadata": {
        "colab": {
          "base_uri": "https://localhost:8080/",
          "height": 419
        },
        "id": "ASgfNrbN4fcV",
        "outputId": "cbde0d29-0b43-4fcf-dec0-a5a93393c8a5"
      },
      "outputs": [
        {
          "data": {
            "text/html": [
              "<div>\n",
              "<style scoped>\n",
              "    .dataframe tbody tr th:only-of-type {\n",
              "        vertical-align: middle;\n",
              "    }\n",
              "\n",
              "    .dataframe tbody tr th {\n",
              "        vertical-align: top;\n",
              "    }\n",
              "\n",
              "    .dataframe thead th {\n",
              "        text-align: right;\n",
              "    }\n",
              "</style>\n",
              "<table border=\"1\" class=\"dataframe\">\n",
              "  <thead>\n",
              "    <tr style=\"text-align: right;\">\n",
              "      <th></th>\n",
              "      <th>original_track_id</th>\n",
              "      <th>track_id</th>\n",
              "      <th>track_remake_type</th>\n",
              "      <th>lyric_id</th>\n",
              "      <th>text</th>\n",
              "      <th>title</th>\n",
              "      <th>language</th>\n",
              "      <th>isrc</th>\n",
              "      <th>genres</th>\n",
              "      <th>duration</th>\n",
              "      <th>data_time</th>\n",
              "    </tr>\n",
              "  </thead>\n",
              "  <tbody>\n",
              "    <tr>\n",
              "      <th>3</th>\n",
              "      <td>bfd04a73e9cffdf0e282c92219a86ea1</td>\n",
              "      <td>bfd04a73e9cffdf0e282c92219a86ea1</td>\n",
              "      <td>ORIGINAL</td>\n",
              "      <td>e2c8830fbc86e5964478243099eec23a</td>\n",
              "      <td>You're ashamed about all your fears and doubts...</td>\n",
              "      <td>Briane</td>\n",
              "      <td>None</td>\n",
              "      <td>USM951100211</td>\n",
              "      <td>ROCK, ALLROCK</td>\n",
              "      <td>317860.0</td>\n",
              "      <td>2014-09-23 12:07:56</td>\n",
              "    </tr>\n",
              "    <tr>\n",
              "      <th>5</th>\n",
              "      <td>b12ecdeac6ac42e1ecac96f9f15b1159</td>\n",
              "      <td>b12ecdeac6ac42e1ecac96f9f15b1159</td>\n",
              "      <td>ORIGINAL</td>\n",
              "      <td>7624653ca8522ba93470843c74961b7d</td>\n",
              "      <td>You showed him all the best of you,\\nBut I'm a...</td>\n",
              "      <td>Broken Angel</td>\n",
              "      <td>None</td>\n",
              "      <td>USM951100203</td>\n",
              "      <td>ROCK, ALLROCK</td>\n",
              "      <td>321220.0</td>\n",
              "      <td>2014-09-23 12:07:56</td>\n",
              "    </tr>\n",
              "    <tr>\n",
              "      <th>7</th>\n",
              "      <td>4f41809cdbbb3d3dc99491d1273e7519</td>\n",
              "      <td>4f41809cdbbb3d3dc99491d1273e7519</td>\n",
              "      <td>ORIGINAL</td>\n",
              "      <td>aaf5c8771a94127de56c08623393434a</td>\n",
              "      <td>You lost her\\nAnd now you're wishing you could...</td>\n",
              "      <td>More Things to Say</td>\n",
              "      <td>None</td>\n",
              "      <td>USM951100202</td>\n",
              "      <td>ROCK, ALLROCK</td>\n",
              "      <td>240280.0</td>\n",
              "      <td>2014-09-23 12:07:56</td>\n",
              "    </tr>\n",
              "    <tr>\n",
              "      <th>38</th>\n",
              "      <td>dab794931ab35c33a9945be64e276500</td>\n",
              "      <td>dab794931ab35c33a9945be64e276500</td>\n",
              "      <td>ORIGINAL</td>\n",
              "      <td>dec7047a2a7d88d35be16a7e43932af0</td>\n",
              "      <td>Cold bones\\nYeah, that's my love\\nShe glides a...</td>\n",
              "      <td>Where's My Love</td>\n",
              "      <td>EN</td>\n",
              "      <td>CAN111700009</td>\n",
              "      <td>INDIE</td>\n",
              "      <td>202100.0</td>\n",
              "      <td>2022-01-20 21:00:00</td>\n",
              "    </tr>\n",
              "    <tr>\n",
              "      <th>48</th>\n",
              "      <td>None</td>\n",
              "      <td>d8775fe01763046a822f7bc44a685b63</td>\n",
              "      <td>COVER</td>\n",
              "      <td>eef44819d7d1d00f1ad0d04a05eb18a2</td>\n",
              "      <td>Time to breath\\nTake me or it's done\\nI waited...</td>\n",
              "      <td>Halfway To Heaven</td>\n",
              "      <td>EN</td>\n",
              "      <td>DEF910600069</td>\n",
              "      <td>ELECTRONICS, TRANCE</td>\n",
              "      <td>367810.0</td>\n",
              "      <td>2012-08-20 21:58:33</td>\n",
              "    </tr>\n",
              "    <tr>\n",
              "      <th>...</th>\n",
              "      <td>...</td>\n",
              "      <td>...</td>\n",
              "      <td>...</td>\n",
              "      <td>...</td>\n",
              "      <td>...</td>\n",
              "      <td>...</td>\n",
              "      <td>...</td>\n",
              "      <td>...</td>\n",
              "      <td>...</td>\n",
              "      <td>...</td>\n",
              "      <td>...</td>\n",
              "    </tr>\n",
              "    <tr>\n",
              "      <th>11206</th>\n",
              "      <td>None</td>\n",
              "      <td>e1597c922947a31e0101e4ea0bda307c</td>\n",
              "      <td>COVER</td>\n",
              "      <td>1fac0ac9a72b1cd68792604928e6ef8d</td>\n",
              "      <td>No tengo un celular con diamantes\\nDe muchos k...</td>\n",
              "      <td>Tengo Tu Love</td>\n",
              "      <td>None</td>\n",
              "      <td>ES64A1037008</td>\n",
              "      <td>POP</td>\n",
              "      <td>231710.0</td>\n",
              "      <td>2012-08-20 12:04:16</td>\n",
              "    </tr>\n",
              "    <tr>\n",
              "      <th>11209</th>\n",
              "      <td>None</td>\n",
              "      <td>f65b2ebefdaab75f641492ce7004ff4c</td>\n",
              "      <td>COVER</td>\n",
              "      <td>9878a413cbee982a12238049fe1b441d</td>\n",
              "      <td>I know I may be young\\nBut\\nI've got feelings ...</td>\n",
              "      <td>Slave for U</td>\n",
              "      <td>None</td>\n",
              "      <td>QZNJX2136519</td>\n",
              "      <td>POP</td>\n",
              "      <td>219560.0</td>\n",
              "      <td>2021-10-08 18:52:43</td>\n",
              "    </tr>\n",
              "    <tr>\n",
              "      <th>11216</th>\n",
              "      <td>None</td>\n",
              "      <td>9a90b443f87f73688f5387e33dc2fffc</td>\n",
              "      <td>COVER</td>\n",
              "      <td>337bf9765f795924f2c4e8762789d531</td>\n",
              "      <td>For whatever reason\\nI feel like I've been wan...</td>\n",
              "      <td>Boys</td>\n",
              "      <td>None</td>\n",
              "      <td>QZNJX2136516</td>\n",
              "      <td>POP</td>\n",
              "      <td>204840.0</td>\n",
              "      <td>2021-10-08 18:52:43</td>\n",
              "    </tr>\n",
              "    <tr>\n",
              "      <th>11309</th>\n",
              "      <td>None</td>\n",
              "      <td>a315487f8cf61d8bbbf1468546607062</td>\n",
              "      <td>COVER</td>\n",
              "      <td>cea73383d75e62f10c7afb61ffefd8cf</td>\n",
              "      <td>I've been your girlfriend\\nFor quite a while\\n...</td>\n",
              "      <td>Private Party</td>\n",
              "      <td>EN</td>\n",
              "      <td>FR59R1839858</td>\n",
              "      <td>POP</td>\n",
              "      <td>492040.0</td>\n",
              "      <td>2018-07-19 01:07:54</td>\n",
              "    </tr>\n",
              "    <tr>\n",
              "      <th>11313</th>\n",
              "      <td>None</td>\n",
              "      <td>b6e6af2c85c624113116c237727a879d</td>\n",
              "      <td>COVER</td>\n",
              "      <td>c26f4a7c3e57c756d927e897add812fe</td>\n",
              "      <td>You took your time to come back this time\\nThe...</td>\n",
              "      <td>All Cried Out</td>\n",
              "      <td>EN</td>\n",
              "      <td>DEZ900701879</td>\n",
              "      <td>ALTERNATIVE</td>\n",
              "      <td>288900.0</td>\n",
              "      <td>2015-02-07 13:14:28</td>\n",
              "    </tr>\n",
              "  </tbody>\n",
              "</table>\n",
              "<p>499 rows × 11 columns</p>\n",
              "</div>"
            ],
            "text/plain": [
              "                      original_track_id                          track_id  \\\n",
              "3      bfd04a73e9cffdf0e282c92219a86ea1  bfd04a73e9cffdf0e282c92219a86ea1   \n",
              "5      b12ecdeac6ac42e1ecac96f9f15b1159  b12ecdeac6ac42e1ecac96f9f15b1159   \n",
              "7      4f41809cdbbb3d3dc99491d1273e7519  4f41809cdbbb3d3dc99491d1273e7519   \n",
              "38     dab794931ab35c33a9945be64e276500  dab794931ab35c33a9945be64e276500   \n",
              "48                                 None  d8775fe01763046a822f7bc44a685b63   \n",
              "...                                 ...                               ...   \n",
              "11206                              None  e1597c922947a31e0101e4ea0bda307c   \n",
              "11209                              None  f65b2ebefdaab75f641492ce7004ff4c   \n",
              "11216                              None  9a90b443f87f73688f5387e33dc2fffc   \n",
              "11309                              None  a315487f8cf61d8bbbf1468546607062   \n",
              "11313                              None  b6e6af2c85c624113116c237727a879d   \n",
              "\n",
              "      track_remake_type                          lyric_id  \\\n",
              "3              ORIGINAL  e2c8830fbc86e5964478243099eec23a   \n",
              "5              ORIGINAL  7624653ca8522ba93470843c74961b7d   \n",
              "7              ORIGINAL  aaf5c8771a94127de56c08623393434a   \n",
              "38             ORIGINAL  dec7047a2a7d88d35be16a7e43932af0   \n",
              "48                COVER  eef44819d7d1d00f1ad0d04a05eb18a2   \n",
              "...                 ...                               ...   \n",
              "11206             COVER  1fac0ac9a72b1cd68792604928e6ef8d   \n",
              "11209             COVER  9878a413cbee982a12238049fe1b441d   \n",
              "11216             COVER  337bf9765f795924f2c4e8762789d531   \n",
              "11309             COVER  cea73383d75e62f10c7afb61ffefd8cf   \n",
              "11313             COVER  c26f4a7c3e57c756d927e897add812fe   \n",
              "\n",
              "                                                    text               title  \\\n",
              "3      You're ashamed about all your fears and doubts...              Briane   \n",
              "5      You showed him all the best of you,\\nBut I'm a...        Broken Angel   \n",
              "7      You lost her\\nAnd now you're wishing you could...  More Things to Say   \n",
              "38     Cold bones\\nYeah, that's my love\\nShe glides a...     Where's My Love   \n",
              "48     Time to breath\\nTake me or it's done\\nI waited...   Halfway To Heaven   \n",
              "...                                                  ...                 ...   \n",
              "11206  No tengo un celular con diamantes\\nDe muchos k...       Tengo Tu Love   \n",
              "11209  I know I may be young\\nBut\\nI've got feelings ...         Slave for U   \n",
              "11216  For whatever reason\\nI feel like I've been wan...                Boys   \n",
              "11309  I've been your girlfriend\\nFor quite a while\\n...       Private Party   \n",
              "11313  You took your time to come back this time\\nThe...       All Cried Out   \n",
              "\n",
              "      language          isrc               genres  duration  \\\n",
              "3         None  USM951100211        ROCK, ALLROCK  317860.0   \n",
              "5         None  USM951100203        ROCK, ALLROCK  321220.0   \n",
              "7         None  USM951100202        ROCK, ALLROCK  240280.0   \n",
              "38          EN  CAN111700009                INDIE  202100.0   \n",
              "48          EN  DEF910600069  ELECTRONICS, TRANCE  367810.0   \n",
              "...        ...           ...                  ...       ...   \n",
              "11206     None  ES64A1037008                  POP  231710.0   \n",
              "11209     None  QZNJX2136519                  POP  219560.0   \n",
              "11216     None  QZNJX2136516                  POP  204840.0   \n",
              "11309       EN  FR59R1839858                  POP  492040.0   \n",
              "11313       EN  DEZ900701879          ALTERNATIVE  288900.0   \n",
              "\n",
              "                data_time  \n",
              "3     2014-09-23 12:07:56  \n",
              "5     2014-09-23 12:07:56  \n",
              "7     2014-09-23 12:07:56  \n",
              "38    2022-01-20 21:00:00  \n",
              "48    2012-08-20 21:58:33  \n",
              "...                   ...  \n",
              "11206 2012-08-20 12:04:16  \n",
              "11209 2021-10-08 18:52:43  \n",
              "11216 2021-10-08 18:52:43  \n",
              "11309 2018-07-19 01:07:54  \n",
              "11313 2015-02-07 13:14:28  \n",
              "\n",
              "[499 rows x 11 columns]"
            ]
          },
          "execution_count": 46,
          "metadata": {},
          "output_type": "execute_result"
        }
      ],
      "source": [
        "# Выборка данных из DataFrame, где значение в столбцах 'lyric_id' и 'text' дублируются\n",
        "merged.loc[(merged['lyric_id'].duplicated())& (merged['text'].duplicated())]"
      ]
    },
    {
      "cell_type": "markdown",
      "id": "Vx9cB3bU2jgV",
      "metadata": {
        "id": "Vx9cB3bU2jgV"
      },
      "source": [
        "## Промежуточный результат по закономерностям"
      ]
    },
    {
      "cell_type": "markdown",
      "id": "061c1016-d1e6-4902-9bea-3145c668ff15",
      "metadata": {
        "id": "061c1016-d1e6-4902-9bea-3145c668ff15"
      },
      "source": [
        "Таким образом, у нас у 4293 оригиналов есть их же id в id оригинала песни (нет пропусков), а также 528 каверов с известными id оригинала песни и 66776 каверов с неизвестными id оригинала песни."
      ]
    },
    {
      "cell_type": "markdown",
      "id": "sP4BQbCr7AVU",
      "metadata": {
        "id": "sP4BQbCr7AVU"
      },
      "source": [
        "## Исследования распределения данных"
      ]
    },
    {
      "cell_type": "code",
      "execution_count": null,
      "id": "MW9stWwD7FWB",
      "metadata": {
        "colab": {
          "base_uri": "https://localhost:8080/",
          "height": 905
        },
        "id": "MW9stWwD7FWB",
        "outputId": "52d7608d-fc8d-41d5-ea05-740424739731"
      },
      "outputs": [
        {
          "data": {
            "text/plain": [
              "array([[<Axes: title={'center': 'duration'}>,\n",
              "        <Axes: title={'center': 'data_time'}>]], dtype=object)"
            ]
          },
          "execution_count": 47,
          "metadata": {},
          "output_type": "execute_result"
        },
        {
          "data": {
            "image/png": "[encoded data removed]",
            "text/plain": [
              "<Figure size 1200x1000 with 2 Axes>"
            ]
          },
          "metadata": {},
          "output_type": "display_data"
        }
      ],
      "source": [
        "#построим гистограмму для численных признаков датасета\n",
        "merged.hist(figsize = (12, 10))"
      ]
    },
    {
      "cell_type": "code",
      "execution_count": null,
      "id": "z39Ycnad7t91",
      "metadata": {
        "colab": {
          "base_uri": "https://localhost:8080/",
          "height": 297
        },
        "id": "z39Ycnad7t91",
        "outputId": "0fe865db-7d33-441d-ad78-2e9ecdc402f6"
      },
      "outputs": [
        {
          "data": {
            "text/html": [
              "<div>\n",
              "<style scoped>\n",
              "    .dataframe tbody tr th:only-of-type {\n",
              "        vertical-align: middle;\n",
              "    }\n",
              "\n",
              "    .dataframe tbody tr th {\n",
              "        vertical-align: top;\n",
              "    }\n",
              "\n",
              "    .dataframe thead th {\n",
              "        text-align: right;\n",
              "    }\n",
              "</style>\n",
              "<table border=\"1\" class=\"dataframe\">\n",
              "  <thead>\n",
              "    <tr style=\"text-align: right;\">\n",
              "      <th></th>\n",
              "      <th>duration</th>\n",
              "      <th>data_time</th>\n",
              "    </tr>\n",
              "  </thead>\n",
              "  <tbody>\n",
              "    <tr>\n",
              "      <th>count</th>\n",
              "      <td>1.141400e+04</td>\n",
              "      <td>11414</td>\n",
              "    </tr>\n",
              "    <tr>\n",
              "      <th>mean</th>\n",
              "      <td>2.050678e+05</td>\n",
              "      <td>2018-12-03 04:59:26.537585408</td>\n",
              "    </tr>\n",
              "    <tr>\n",
              "      <th>min</th>\n",
              "      <td>0.000000e+00</td>\n",
              "      <td>2009-08-10 17:32:06</td>\n",
              "    </tr>\n",
              "    <tr>\n",
              "      <th>25%</th>\n",
              "      <td>1.615300e+05</td>\n",
              "      <td>2016-06-03 12:54:53.500000</td>\n",
              "    </tr>\n",
              "    <tr>\n",
              "      <th>50%</th>\n",
              "      <td>1.993250e+05</td>\n",
              "      <td>2020-05-07 21:00:00</td>\n",
              "    </tr>\n",
              "    <tr>\n",
              "      <th>75%</th>\n",
              "      <td>2.378050e+05</td>\n",
              "      <td>2021-09-23 21:00:00</td>\n",
              "    </tr>\n",
              "    <tr>\n",
              "      <th>max</th>\n",
              "      <td>1.383760e+06</td>\n",
              "      <td>2023-10-17 21:00:00</td>\n",
              "    </tr>\n",
              "    <tr>\n",
              "      <th>std</th>\n",
              "      <td>6.671250e+04</td>\n",
              "      <td>NaN</td>\n",
              "    </tr>\n",
              "  </tbody>\n",
              "</table>\n",
              "</div>"
            ],
            "text/plain": [
              "           duration                      data_time\n",
              "count  1.141400e+04                          11414\n",
              "mean   2.050678e+05  2018-12-03 04:59:26.537585408\n",
              "min    0.000000e+00            2009-08-10 17:32:06\n",
              "25%    1.615300e+05     2016-06-03 12:54:53.500000\n",
              "50%    1.993250e+05            2020-05-07 21:00:00\n",
              "75%    2.378050e+05            2021-09-23 21:00:00\n",
              "max    1.383760e+06            2023-10-17 21:00:00\n",
              "std    6.671250e+04                            NaN"
            ]
          },
          "execution_count": 48,
          "metadata": {},
          "output_type": "execute_result"
        }
      ],
      "source": [
        "#изучим численные признаки более детально\n",
        "merged.describe()"
      ]
    },
    {
      "cell_type": "code",
      "execution_count": null,
      "id": "1VOSnaf375Uq",
      "metadata": {
        "colab": {
          "base_uri": "https://localhost:8080/"
        },
        "id": "1VOSnaf375Uq",
        "outputId": "bf02d288-4ec5-47b5-f74e-5b72e30eb09a"
      },
      "outputs": [
        {
          "data": {
            "text/plain": [
              "genres\n",
              "POP                               2122\n",
              "POP, RUSPOP                       1156\n",
              "ROCK, ALLROCK                     1051\n",
              "DANCE                              923\n",
              "FOLK, LATINFOLK                    558\n",
              "                                  ... \n",
              "CLASSICMETAL, EPICMETAL, METAL       1\n",
              "POP, DANCE, ELECTRONICS, HOUSE       1\n",
              "POP, JAZZ, VOCALJAZZ                 1\n",
              "POP, ALLROCK, RNR                    1\n",
              "ELECTRONICS, AMBIENTGENRE            1\n",
              "Name: count, Length: 178, dtype: int64"
            ]
          },
          "execution_count": 49,
          "metadata": {},
          "output_type": "execute_result"
        }
      ],
      "source": [
        "# рассмотрим распределение комбинаций жанров\n",
        "merged['genres'].value_counts()"
      ]
    },
    {
      "cell_type": "code",
      "execution_count": null,
      "id": "_9Nn46Jq8BKV",
      "metadata": {
        "colab": {
          "base_uri": "https://localhost:8080/"
        },
        "id": "_9Nn46Jq8BKV",
        "outputId": "bf0f8b8a-b73d-4fe5-c426-792c1efafdf2"
      },
      "outputs": [
        {
          "data": {
            "text/plain": [
              "track_remake_type\n",
              "COVER       7872\n",
              "ORIGINAL    3225\n",
              "Name: count, dtype: int64"
            ]
          },
          "execution_count": 50,
          "metadata": {},
          "output_type": "execute_result"
        }
      ],
      "source": [
        "# рассмотрим баланс целевого признака\n",
        "merged['track_remake_type'].value_counts()"
      ]
    },
    {
      "cell_type": "code",
      "execution_count": null,
      "id": "3yvMFJ4j8W8C",
      "metadata": {
        "colab": {
          "base_uri": "https://localhost:8080/",
          "height": 845
        },
        "id": "3yvMFJ4j8W8C",
        "outputId": "2c669347-a13b-48a0-ca0f-d77d71031c72"
      },
      "outputs": [
        {
          "data": {
            "image/png": "[encoded data removed]",
            "text/plain": [
              "<Figure size 1200x1000 with 1 Axes>"
            ]
          },
          "metadata": {},
          "output_type": "display_data"
        }
      ],
      "source": [
        "# рассмотрим распределение длительности треков поподробнее\n",
        "merged['duration'].plot(kind='box', figsize=(12, 10))\n",
        "#plt.ylim (1, 15000000)\n",
        "plt.show()"
      ]
    },
    {
      "cell_type": "markdown",
      "id": "NvVVllzVxf2b",
      "metadata": {
        "id": "NvVVllzVxf2b"
      },
      "source": [
        "# Предобработка данных"
      ]
    },
    {
      "cell_type": "markdown",
      "id": "BRgd0REQxokv",
      "metadata": {
        "id": "BRgd0REQxokv"
      },
      "source": [
        "## Обработка пропусков"
      ]
    },
    {
      "cell_type": "code",
      "execution_count": null,
      "id": "c6989ed8-2309-434f-a103-62aec623b983",
      "metadata": {
        "id": "c6989ed8-2309-434f-a103-62aec623b983"
      },
      "outputs": [],
      "source": [
        "# прежде чем вносить изменения в данные, следует сохранить данные в новую таблицу\n",
        "mer_d = merged"
      ]
    },
    {
      "cell_type": "code",
      "execution_count": null,
      "id": "9decb8be-5fe2-4e2d-91d8-eb29d4721852",
      "metadata": {
        "colab": {
          "base_uri": "https://localhost:8080/",
          "height": 53
        },
        "id": "9decb8be-5fe2-4e2d-91d8-eb29d4721852",
        "outputId": "b2d92dce-04c4-4757-9899-1038f3b41ea4"
      },
      "outputs": [
        {
          "data": {
            "text/html": [
              "<div>\n",
              "<style scoped>\n",
              "    .dataframe tbody tr th:only-of-type {\n",
              "        vertical-align: middle;\n",
              "    }\n",
              "\n",
              "    .dataframe tbody tr th {\n",
              "        vertical-align: top;\n",
              "    }\n",
              "\n",
              "    .dataframe thead th {\n",
              "        text-align: right;\n",
              "    }\n",
              "</style>\n",
              "<table border=\"1\" class=\"dataframe\">\n",
              "  <thead>\n",
              "    <tr style=\"text-align: right;\">\n",
              "      <th></th>\n",
              "      <th>original_track_id</th>\n",
              "      <th>track_id</th>\n",
              "      <th>track_remake_type</th>\n",
              "      <th>lyric_id</th>\n",
              "      <th>text</th>\n",
              "      <th>title</th>\n",
              "      <th>language</th>\n",
              "      <th>isrc</th>\n",
              "      <th>genres</th>\n",
              "      <th>duration</th>\n",
              "      <th>data_time</th>\n",
              "    </tr>\n",
              "  </thead>\n",
              "  <tbody>\n",
              "  </tbody>\n",
              "</table>\n",
              "</div>"
            ],
            "text/plain": [
              "Empty DataFrame\n",
              "Columns: [original_track_id, track_id, track_remake_type, lyric_id, text, title, language, isrc, genres, duration, data_time]\n",
              "Index: []"
            ]
          },
          "execution_count": 53,
          "metadata": {},
          "output_type": "execute_result"
        }
      ],
      "source": [
        "# Выборка данных из DataFrame mer_d, где 'track_remake_type' равен 'track_id'\n",
        "# и при этом в 'original_track_id' есть пропуск (пропущены ли значения 'ORIGINAL')\n",
        "mer_d.loc[(mer_d['track_id'] == mer_d['original_track_id']) & (mer_d['track_remake_type'].isna())]"
      ]
    },
    {
      "cell_type": "code",
      "execution_count": null,
      "id": "cf97672b-af88-43b2-977b-76f73d8e2b80",
      "metadata": {
        "colab": {
          "base_uri": "https://localhost:8080/",
          "height": 419
        },
        "id": "cf97672b-af88-43b2-977b-76f73d8e2b80",
        "outputId": "fda9917f-ab50-455a-e964-1a0fad14846e"
      },
      "outputs": [
        {
          "data": {
            "text/html": [
              "<div>\n",
              "<style scoped>\n",
              "    .dataframe tbody tr th:only-of-type {\n",
              "        vertical-align: middle;\n",
              "    }\n",
              "\n",
              "    .dataframe tbody tr th {\n",
              "        vertical-align: top;\n",
              "    }\n",
              "\n",
              "    .dataframe thead th {\n",
              "        text-align: right;\n",
              "    }\n",
              "</style>\n",
              "<table border=\"1\" class=\"dataframe\">\n",
              "  <thead>\n",
              "    <tr style=\"text-align: right;\">\n",
              "      <th></th>\n",
              "      <th>original_track_id</th>\n",
              "      <th>track_id</th>\n",
              "      <th>track_remake_type</th>\n",
              "      <th>lyric_id</th>\n",
              "      <th>text</th>\n",
              "      <th>title</th>\n",
              "      <th>language</th>\n",
              "      <th>isrc</th>\n",
              "      <th>genres</th>\n",
              "      <th>duration</th>\n",
              "      <th>data_time</th>\n",
              "    </tr>\n",
              "  </thead>\n",
              "  <tbody>\n",
              "    <tr>\n",
              "      <th>39</th>\n",
              "      <td>NaN</td>\n",
              "      <td>d91be358c3bcbc2213a49c16dad55f38</td>\n",
              "      <td>NaN</td>\n",
              "      <td>97d7de6d5b9e7bc61617671aef50896b</td>\n",
              "      <td>I know you so well, so well\\nDarling, I can do...</td>\n",
              "      <td>Jocelyn Flores</td>\n",
              "      <td>EN</td>\n",
              "      <td>USUYG1156892</td>\n",
              "      <td>RAP</td>\n",
              "      <td>119130.0</td>\n",
              "      <td>2017-08-25 21:00:00</td>\n",
              "    </tr>\n",
              "    <tr>\n",
              "      <th>41</th>\n",
              "      <td>NaN</td>\n",
              "      <td>db69f2a265624a834d6e2a1238f6f225</td>\n",
              "      <td>NaN</td>\n",
              "      <td>f9b540bcf5611a87d7c474d58b4f4bc9</td>\n",
              "      <td>You were the shadow to my light\\nDid you feel ...</td>\n",
              "      <td>Faded</td>\n",
              "      <td>EN</td>\n",
              "      <td>NOG841549010</td>\n",
              "      <td>DANCE, EDMGENRE</td>\n",
              "      <td>212500.0</td>\n",
              "      <td>2016-06-02 21:00:00</td>\n",
              "    </tr>\n",
              "    <tr>\n",
              "      <th>71</th>\n",
              "      <td>NaN</td>\n",
              "      <td>2419bfe6d6c719cb5756ff81e91ca38e</td>\n",
              "      <td>NaN</td>\n",
              "      <td>decc32fab9334d5c0519172d07da8e9b</td>\n",
              "      <td>She's taking her time making up the reasons\\nT...</td>\n",
              "      <td>To the Moon and Back</td>\n",
              "      <td>EN</td>\n",
              "      <td>USSM19700099</td>\n",
              "      <td>POP</td>\n",
              "      <td>341330.0</td>\n",
              "      <td>2014-02-03 20:00:00</td>\n",
              "    </tr>\n",
              "    <tr>\n",
              "      <th>119</th>\n",
              "      <td>NaN</td>\n",
              "      <td>8f259a21dc1f1c38890b82b6c93e8e50</td>\n",
              "      <td>NaN</td>\n",
              "      <td>3a6d40d2708aaf791283548f350ceb08</td>\n",
              "      <td>A scrub is a guy that think he's fine and is\\n...</td>\n",
              "      <td>No Scrubs</td>\n",
              "      <td>EN</td>\n",
              "      <td>USLF20000006</td>\n",
              "      <td>POP, RNB</td>\n",
              "      <td>215340.0</td>\n",
              "      <td>2014-03-13 20:00:00</td>\n",
              "    </tr>\n",
              "    <tr>\n",
              "      <th>125</th>\n",
              "      <td>NaN</td>\n",
              "      <td>d18c14b382c85fbce2251bc154e81c36</td>\n",
              "      <td>NaN</td>\n",
              "      <td>6c2620a3a60724b8c66c69b52a08a58d</td>\n",
              "      <td>Thank you\\nI'll say goodbye soon\\nThough it's ...</td>\n",
              "      <td>Goodbye To A World</td>\n",
              "      <td>EN</td>\n",
              "      <td>USUG11400557</td>\n",
              "      <td>ELECTRONICS</td>\n",
              "      <td>328500.0</td>\n",
              "      <td>2014-08-10 20:00:00</td>\n",
              "    </tr>\n",
              "    <tr>\n",
              "      <th>...</th>\n",
              "      <td>...</td>\n",
              "      <td>...</td>\n",
              "      <td>...</td>\n",
              "      <td>...</td>\n",
              "      <td>...</td>\n",
              "      <td>...</td>\n",
              "      <td>...</td>\n",
              "      <td>...</td>\n",
              "      <td>...</td>\n",
              "      <td>...</td>\n",
              "      <td>...</td>\n",
              "    </tr>\n",
              "    <tr>\n",
              "      <th>10957</th>\n",
              "      <td>NaN</td>\n",
              "      <td>1e8ca836c962598551882e689265c1c5</td>\n",
              "      <td>NaN</td>\n",
              "      <td>1776ca054730a84566c3b68e490caf93</td>\n",
              "      <td>Off with your head\\nDance 'til you're dead\\nHe...</td>\n",
              "      <td>Heads Will Roll</td>\n",
              "      <td>EN</td>\n",
              "      <td>GBUM70900924</td>\n",
              "      <td>ALTERNATIVE</td>\n",
              "      <td>221000.0</td>\n",
              "      <td>2009-09-17 20:00:00</td>\n",
              "    </tr>\n",
              "    <tr>\n",
              "      <th>11003</th>\n",
              "      <td>NaN</td>\n",
              "      <td>1296f487d135fa2808e18accebb6554f</td>\n",
              "      <td>NaN</td>\n",
              "      <td>144248a3cb888ffc4f28c4b3df9f45c1</td>\n",
              "      <td>Your body, your soul\\nFeel the rhythm\\nTake co...</td>\n",
              "      <td>Keep on moving</td>\n",
              "      <td>EN</td>\n",
              "      <td>FR6V80514183</td>\n",
              "      <td>ELECTRONICS</td>\n",
              "      <td>187980.0</td>\n",
              "      <td>2012-08-20 20:16:40</td>\n",
              "    </tr>\n",
              "    <tr>\n",
              "      <th>11126</th>\n",
              "      <td>NaN</td>\n",
              "      <td>939750791eaffaf335490c81f3e19e17</td>\n",
              "      <td>NaN</td>\n",
              "      <td>1c562e5059ec5abb0778211bfaceec83</td>\n",
              "      <td>As I walk through the valley of the shadow of ...</td>\n",
              "      <td>Gangsta's Paradise</td>\n",
              "      <td>EN</td>\n",
              "      <td>USTB10250016</td>\n",
              "      <td>RAP</td>\n",
              "      <td>240970.0</td>\n",
              "      <td>2018-10-17 21:00:00</td>\n",
              "    </tr>\n",
              "    <tr>\n",
              "      <th>11376</th>\n",
              "      <td>NaN</td>\n",
              "      <td>5a1fce1ebb19da07487f3132b261b78e</td>\n",
              "      <td>NaN</td>\n",
              "      <td>6a3fdd4107a56ad1d9d622246b6ba327</td>\n",
              "      <td>Last night, all I think about is you\\nDon't st...</td>\n",
              "      <td>Heat Waves</td>\n",
              "      <td>EN</td>\n",
              "      <td>GBUM72000433</td>\n",
              "      <td>INDIE</td>\n",
              "      <td>238800.0</td>\n",
              "      <td>2020-06-28 21:00:00</td>\n",
              "    </tr>\n",
              "    <tr>\n",
              "      <th>11390</th>\n",
              "      <td>NaN</td>\n",
              "      <td>a33e4b17ce2c355fb3e65ee042509803</td>\n",
              "      <td>NaN</td>\n",
              "      <td>bc9d77c8771c3d81aa848adc339f1fb5</td>\n",
              "      <td>Нас не догонят\\nНас не догонят, нас не догонят...</td>\n",
              "      <td>Нас не догонят</td>\n",
              "      <td>EN</td>\n",
              "      <td>RUA110100045</td>\n",
              "      <td>POP, RUSPOP</td>\n",
              "      <td>261330.0</td>\n",
              "      <td>2009-09-17 20:00:00</td>\n",
              "    </tr>\n",
              "  </tbody>\n",
              "</table>\n",
              "<p>317 rows × 11 columns</p>\n",
              "</div>"
            ],
            "text/plain": [
              "      original_track_id                          track_id track_remake_type  \\\n",
              "39                  NaN  d91be358c3bcbc2213a49c16dad55f38               NaN   \n",
              "41                  NaN  db69f2a265624a834d6e2a1238f6f225               NaN   \n",
              "71                  NaN  2419bfe6d6c719cb5756ff81e91ca38e               NaN   \n",
              "119                 NaN  8f259a21dc1f1c38890b82b6c93e8e50               NaN   \n",
              "125                 NaN  d18c14b382c85fbce2251bc154e81c36               NaN   \n",
              "...                 ...                               ...               ...   \n",
              "10957               NaN  1e8ca836c962598551882e689265c1c5               NaN   \n",
              "11003               NaN  1296f487d135fa2808e18accebb6554f               NaN   \n",
              "11126               NaN  939750791eaffaf335490c81f3e19e17               NaN   \n",
              "11376               NaN  5a1fce1ebb19da07487f3132b261b78e               NaN   \n",
              "11390               NaN  a33e4b17ce2c355fb3e65ee042509803               NaN   \n",
              "\n",
              "                               lyric_id  \\\n",
              "39     97d7de6d5b9e7bc61617671aef50896b   \n",
              "41     f9b540bcf5611a87d7c474d58b4f4bc9   \n",
              "71     decc32fab9334d5c0519172d07da8e9b   \n",
              "119    3a6d40d2708aaf791283548f350ceb08   \n",
              "125    6c2620a3a60724b8c66c69b52a08a58d   \n",
              "...                                 ...   \n",
              "10957  1776ca054730a84566c3b68e490caf93   \n",
              "11003  144248a3cb888ffc4f28c4b3df9f45c1   \n",
              "11126  1c562e5059ec5abb0778211bfaceec83   \n",
              "11376  6a3fdd4107a56ad1d9d622246b6ba327   \n",
              "11390  bc9d77c8771c3d81aa848adc339f1fb5   \n",
              "\n",
              "                                                    text  \\\n",
              "39     I know you so well, so well\\nDarling, I can do...   \n",
              "41     You were the shadow to my light\\nDid you feel ...   \n",
              "71     She's taking her time making up the reasons\\nT...   \n",
              "119    A scrub is a guy that think he's fine and is\\n...   \n",
              "125    Thank you\\nI'll say goodbye soon\\nThough it's ...   \n",
              "...                                                  ...   \n",
              "10957  Off with your head\\nDance 'til you're dead\\nHe...   \n",
              "11003  Your body, your soul\\nFeel the rhythm\\nTake co...   \n",
              "11126  As I walk through the valley of the shadow of ...   \n",
              "11376  Last night, all I think about is you\\nDon't st...   \n",
              "11390  Нас не догонят\\nНас не догонят, нас не догонят...   \n",
              "\n",
              "                      title language          isrc           genres  duration  \\\n",
              "39           Jocelyn Flores       EN  USUYG1156892              RAP  119130.0   \n",
              "41                    Faded       EN  NOG841549010  DANCE, EDMGENRE  212500.0   \n",
              "71     To the Moon and Back       EN  USSM19700099              POP  341330.0   \n",
              "119               No Scrubs       EN  USLF20000006         POP, RNB  215340.0   \n",
              "125      Goodbye To A World       EN  USUG11400557      ELECTRONICS  328500.0   \n",
              "...                     ...      ...           ...              ...       ...   \n",
              "10957       Heads Will Roll       EN  GBUM70900924      ALTERNATIVE  221000.0   \n",
              "11003        Keep on moving       EN  FR6V80514183      ELECTRONICS  187980.0   \n",
              "11126    Gangsta's Paradise       EN  USTB10250016              RAP  240970.0   \n",
              "11376            Heat Waves       EN  GBUM72000433            INDIE  238800.0   \n",
              "11390        Нас не догонят       EN  RUA110100045      POP, RUSPOP  261330.0   \n",
              "\n",
              "                data_time  \n",
              "39    2017-08-25 21:00:00  \n",
              "41    2016-06-02 21:00:00  \n",
              "71    2014-02-03 20:00:00  \n",
              "119   2014-03-13 20:00:00  \n",
              "125   2014-08-10 20:00:00  \n",
              "...                   ...  \n",
              "10957 2009-09-17 20:00:00  \n",
              "11003 2012-08-20 20:16:40  \n",
              "11126 2018-10-17 21:00:00  \n",
              "11376 2020-06-28 21:00:00  \n",
              "11390 2009-09-17 20:00:00  \n",
              "\n",
              "[317 rows x 11 columns]"
            ]
          },
          "execution_count": 54,
          "metadata": {},
          "output_type": "execute_result"
        }
      ],
      "source": [
        "# Выборка данных из DataFrame mer_d, где 'track_remake_type' не равен 'track_id'\n",
        "# и при этом в 'original_track_id' есть пропуск (пропущены ли явные значения 'COVER')\n",
        "mer_d.loc[(mer_d['track_id'] != mer_d['original_track_id']) & (mer_d['track_remake_type'].isna())]"
      ]
    },
    {
      "cell_type": "markdown",
      "id": "hZ43cjc5-lrW",
      "metadata": {
        "id": "hZ43cjc5-lrW"
      },
      "source": [
        "неслучайные пропуски"
      ]
    },
    {
      "cell_type": "code",
      "execution_count": null,
      "id": "eede04bd-5fb6-43c7-a45e-cdafd59b066b",
      "metadata": {
        "id": "eede04bd-5fb6-43c7-a45e-cdafd59b066b"
      },
      "outputs": [],
      "source": [
        "mer_d.track_remake_type.fillna('COVER', inplace = True)"
      ]
    },
    {
      "cell_type": "code",
      "execution_count": null,
      "id": "5TRLReY0I9OY",
      "metadata": {
        "id": "5TRLReY0I9OY"
      },
      "outputs": [],
      "source": [
        "mer_d.to_csv(r'/Users/anastasiaklubkova/Downloads/without_nan.csv',  index=False)"
      ]
    },
    {
      "cell_type": "code",
      "execution_count": null,
      "id": "0f1f9b08-352b-4cf0-a44d-1ec5da626934",
      "metadata": {
        "colab": {
          "base_uri": "https://localhost:8080/"
        },
        "id": "0f1f9b08-352b-4cf0-a44d-1ec5da626934",
        "outputId": "fa03a601-2d3b-41f1-d87b-ed2339c78f68"
      },
      "outputs": [
        {
          "data": {
            "text/plain": [
              "original_track_id    7815\n",
              "track_id                0\n",
              "track_remake_type       0\n",
              "lyric_id                0\n",
              "text                    0\n",
              "title                   0\n",
              "language             4079\n",
              "isrc                   88\n",
              "genres                  0\n",
              "duration                0\n",
              "data_time               0\n",
              "dtype: int64"
            ]
          },
          "execution_count": 57,
          "metadata": {},
          "output_type": "execute_result"
        }
      ],
      "source": [
        "# проверим наличие пропусков в таблице mer_d\n",
        "mer_d.isna().sum()"
      ]
    },
    {
      "cell_type": "markdown",
      "id": "ab9c177d-f172-48e6-b505-dedd5212d6e8",
      "metadata": {
        "id": "ab9c177d-f172-48e6-b505-dedd5212d6e8"
      },
      "source": [
        "Как можно заметить, в столбце 'language' (язык исполнения) присутствует значение пропусков. Попробуем определить язык текста песни (которая исполняется) и заполнить пропуски с помощью библиотеки LangDetectException"
      ]
    },
    {
      "cell_type": "code",
      "execution_count": null,
      "id": "3623bbd0-ab8f-43e0-9a40-35de4543c1e5",
      "metadata": {
        "id": "3623bbd0-ab8f-43e0-9a40-35de4543c1e5"
      },
      "outputs": [],
      "source": [
        "# создадим пустые списки, куда бубут перемещены тексты и индексы текстов, которые библиотека не смогла распознать\n",
        "unknown = []\n",
        "id = []"
      ]
    },
    {
      "cell_type": "code",
      "execution_count": null,
      "id": "7dbb125e-2d3d-4367-ab16-b1f70bb53c3f",
      "metadata": {
        "id": "7dbb125e-2d3d-4367-ab16-b1f70bb53c3f"
      },
      "outputs": [],
      "source": [
        "mer_d['lang'] = 0"
      ]
    },
    {
      "cell_type": "code",
      "execution_count": null,
      "id": "oJk3OQGHC_2s",
      "metadata": {
        "colab": {
          "base_uri": "https://localhost:8080/",
          "height": 204
        },
        "id": "oJk3OQGHC_2s",
        "outputId": "f6106638-eccd-4268-a6d7-cbc967941ab4"
      },
      "outputs": [
        {
          "data": {
            "text/html": [
              "<div>\n",
              "<style scoped>\n",
              "    .dataframe tbody tr th:only-of-type {\n",
              "        vertical-align: middle;\n",
              "    }\n",
              "\n",
              "    .dataframe tbody tr th {\n",
              "        vertical-align: top;\n",
              "    }\n",
              "\n",
              "    .dataframe thead th {\n",
              "        text-align: right;\n",
              "    }\n",
              "</style>\n",
              "<table border=\"1\" class=\"dataframe\">\n",
              "  <thead>\n",
              "    <tr style=\"text-align: right;\">\n",
              "      <th></th>\n",
              "      <th>original_track_id</th>\n",
              "      <th>track_id</th>\n",
              "      <th>track_remake_type</th>\n",
              "      <th>lyric_id</th>\n",
              "      <th>text</th>\n",
              "      <th>title</th>\n",
              "      <th>language</th>\n",
              "      <th>isrc</th>\n",
              "      <th>genres</th>\n",
              "      <th>duration</th>\n",
              "      <th>data_time</th>\n",
              "      <th>lang</th>\n",
              "    </tr>\n",
              "  </thead>\n",
              "  <tbody>\n",
              "    <tr>\n",
              "      <th>0</th>\n",
              "      <td>1c4b1230f937e4c548ff732523214dcd</td>\n",
              "      <td>1c4b1230f937e4c548ff732523214dcd</td>\n",
              "      <td>ORIGINAL</td>\n",
              "      <td>a951f9504e89759e9d23039b7b17ec14</td>\n",
              "      <td>Живу сейчас обломами, обломками не той любви\\n...</td>\n",
              "      <td>Сарафан</td>\n",
              "      <td>None</td>\n",
              "      <td>AEA0D1860569</td>\n",
              "      <td>FOREIGNBARD, BARD</td>\n",
              "      <td>140000.0</td>\n",
              "      <td>2018-09-26 02:24:21</td>\n",
              "      <td>0</td>\n",
              "    </tr>\n",
              "    <tr>\n",
              "      <th>1</th>\n",
              "      <td>None</td>\n",
              "      <td>0faea89b0d7d6235b5b74def72511bd8</td>\n",
              "      <td>COVER</td>\n",
              "      <td>0c749bc3f01eb8e6cf986fa14ccfc585</td>\n",
              "      <td>Tell me your fable\\nA fable\\nTell me your fabl...</td>\n",
              "      <td>Children</td>\n",
              "      <td>None</td>\n",
              "      <td>QZS672199805</td>\n",
              "      <td>ELECTRONICS</td>\n",
              "      <td>214590.0</td>\n",
              "      <td>2021-08-04 13:08:25</td>\n",
              "      <td>0</td>\n",
              "    </tr>\n",
              "    <tr>\n",
              "      <th>2</th>\n",
              "      <td>9c6dc41d5ccd9968d07f055da5d8f741</td>\n",
              "      <td>9c6dc41d5ccd9968d07f055da5d8f741</td>\n",
              "      <td>ORIGINAL</td>\n",
              "      <td>e2c8830fbc86e5964478243099eec23a</td>\n",
              "      <td>You're ashamed about all your fears and doubts...</td>\n",
              "      <td>Briane</td>\n",
              "      <td>None</td>\n",
              "      <td>USUM71006645</td>\n",
              "      <td>ROCK, ALLROCK</td>\n",
              "      <td>317910.0</td>\n",
              "      <td>2010-05-20 05:00:14</td>\n",
              "      <td>0</td>\n",
              "    </tr>\n",
              "    <tr>\n",
              "      <th>3</th>\n",
              "      <td>bfd04a73e9cffdf0e282c92219a86ea1</td>\n",
              "      <td>bfd04a73e9cffdf0e282c92219a86ea1</td>\n",
              "      <td>ORIGINAL</td>\n",
              "      <td>e2c8830fbc86e5964478243099eec23a</td>\n",
              "      <td>You're ashamed about all your fears and doubts...</td>\n",
              "      <td>Briane</td>\n",
              "      <td>None</td>\n",
              "      <td>USM951100211</td>\n",
              "      <td>ROCK, ALLROCK</td>\n",
              "      <td>317860.0</td>\n",
              "      <td>2014-09-23 12:07:56</td>\n",
              "      <td>0</td>\n",
              "    </tr>\n",
              "    <tr>\n",
              "      <th>4</th>\n",
              "      <td>8d70930d09cd239c948408d1317d8659</td>\n",
              "      <td>8d70930d09cd239c948408d1317d8659</td>\n",
              "      <td>ORIGINAL</td>\n",
              "      <td>7624653ca8522ba93470843c74961b7d</td>\n",
              "      <td>You showed him all the best of you,\\nBut I'm a...</td>\n",
              "      <td>Broken Angel</td>\n",
              "      <td>None</td>\n",
              "      <td>USUM71006638</td>\n",
              "      <td>ROCK, ALLROCK</td>\n",
              "      <td>321280.0</td>\n",
              "      <td>2010-05-20 05:00:14</td>\n",
              "      <td>0</td>\n",
              "    </tr>\n",
              "  </tbody>\n",
              "</table>\n",
              "</div>"
            ],
            "text/plain": [
              "                  original_track_id                          track_id  \\\n",
              "0  1c4b1230f937e4c548ff732523214dcd  1c4b1230f937e4c548ff732523214dcd   \n",
              "1                              None  0faea89b0d7d6235b5b74def72511bd8   \n",
              "2  9c6dc41d5ccd9968d07f055da5d8f741  9c6dc41d5ccd9968d07f055da5d8f741   \n",
              "3  bfd04a73e9cffdf0e282c92219a86ea1  bfd04a73e9cffdf0e282c92219a86ea1   \n",
              "4  8d70930d09cd239c948408d1317d8659  8d70930d09cd239c948408d1317d8659   \n",
              "\n",
              "  track_remake_type                          lyric_id  \\\n",
              "0          ORIGINAL  a951f9504e89759e9d23039b7b17ec14   \n",
              "1             COVER  0c749bc3f01eb8e6cf986fa14ccfc585   \n",
              "2          ORIGINAL  e2c8830fbc86e5964478243099eec23a   \n",
              "3          ORIGINAL  e2c8830fbc86e5964478243099eec23a   \n",
              "4          ORIGINAL  7624653ca8522ba93470843c74961b7d   \n",
              "\n",
              "                                                text         title language  \\\n",
              "0  Живу сейчас обломами, обломками не той любви\\n...       Сарафан     None   \n",
              "1  Tell me your fable\\nA fable\\nTell me your fabl...      Children     None   \n",
              "2  You're ashamed about all your fears and doubts...        Briane     None   \n",
              "3  You're ashamed about all your fears and doubts...        Briane     None   \n",
              "4  You showed him all the best of you,\\nBut I'm a...  Broken Angel     None   \n",
              "\n",
              "           isrc             genres  duration           data_time  lang  \n",
              "0  AEA0D1860569  FOREIGNBARD, BARD  140000.0 2018-09-26 02:24:21     0  \n",
              "1  QZS672199805        ELECTRONICS  214590.0 2021-08-04 13:08:25     0  \n",
              "2  USUM71006645      ROCK, ALLROCK  317910.0 2010-05-20 05:00:14     0  \n",
              "3  USM951100211      ROCK, ALLROCK  317860.0 2014-09-23 12:07:56     0  \n",
              "4  USUM71006638      ROCK, ALLROCK  321280.0 2010-05-20 05:00:14     0  "
            ]
          },
          "execution_count": 60,
          "metadata": {},
          "output_type": "execute_result"
        }
      ],
      "source": [
        "mer_d.head()"
      ]
    },
    {
      "cell_type": "code",
      "execution_count": null,
      "id": "bac27726-0633-46cd-9361-aeaa0075dff1",
      "metadata": {
        "colab": {
          "base_uri": "https://localhost:8080/",
          "height": 827
        },
        "id": "bac27726-0633-46cd-9361-aeaa0075dff1",
        "outputId": "53ab08a9-7b11-49e9-c63d-5644068a2b39"
      },
      "outputs": [
        {
          "name": "stderr",
          "output_type": "stream",
          "text": [
            "/var/folders/m0/wj_cjqvj2q1g_gn5y_gpxlch0000gn/T/ipykernel_44059/883331673.py:3: SettingWithCopyWarning: \n",
            "A value is trying to be set on a copy of a slice from a DataFrame\n",
            "\n",
            "See the caveats in the documentation: https://pandas.pydata.org/pandas-docs/stable/user_guide/indexing.html#returning-a-view-versus-a-copy\n",
            "  mer_d['lang'][i] = detect(mer_d['text'][i])\n"
          ]
        },
        {
          "name": "stdout",
          "output_type": "stream",
          "text": [
            "6381\n",
            "7912\n",
            "8423\n",
            "9431\n",
            "['යන්න යනව ද?\\nඅර කාලේ මතක ද?\\n\\nඅල්ලා බන්දා රන්දා බින්දා\\nඋන්දා කොන්දාලාමි සින්ද\\nසැන්දැ කාලෙ මාලිගාවෙ ඉන්නවා සොයා\\n\\nඅල්ලා බන්දා රන්දා බින්දා\\nඋන්දා කොන්දාලාමි සින්දා\\nසැන්දැ කාලෙ මාලිගාවෙ ඉන්නවා සොයා\\n\\nසිරි සංඝබෝධි මාලිගාවෙදී මා\\nදැක ප්රානෙහානි වෙන්ට බැට දෙම්\\nසිරි සංඝබෝධි මාලිගාවෙදී මා\\nදැක ප්රානෙහානි වෙන්ට බැට දෙම්\\n\\nසඳ වගේ පේනා\\nඔයා මට ඕනා\\nලඟින් නැති හෝරා\\nගෙවනු බෑ කිසි දා\\n\\nසඳ වගේ පේනා\\nඔයා මට ඕනා\\nලඟින් නැති හෝරා\\nගෙවනු බෑ කිසි දා\\n\\nකොටුව, කොටුව, කොටුව, පිටකොටුව 138 මම හිටිය\\nඅඩිය, අඩිය, අඩිය තියන්නට බෑ එක යුද්දෙට පොර පිටිය\\nතැලිලා, තැලිලා, පොඩි වෙලා තෙරපිලා කැරකිලා යන මේ රයිඩ් එක\\nවිදල, විදල, පිඹලා ගියත් ඉස්කොලෙට යනකොට 8.30\\n\\nබැලු, බැලු හැම තැනම සිහිනෙන් වගේ\\nසැඟවුණු සේයාවන් ම දෑසේ ඇඳේ\\nසුළඟේ පාවී මගෙ ගී යාවි\\nඇසුනොත් එනවා දෝ සොඳුරියේ මගේ\\n\\nලෝකයෙන් යමු\\nආයෙ ඉපදෙමු\\nකොතන හරි සතුටින් ඉන්න පතා\\nමගේ ජීවිතේ\\nලබන මතු භවේ\\nආයෙමත් රවට්ටන්නට එපා\\n\\nලෝකයෙන් යමු\\nආයෙ ඉපදෙමු\\nකොතන හරි සතුටින් ඉන්න පතා\\nමගේ ජීවිතේ\\nලබන මතු භවේ\\nආයෙමත් රවට්ටන්නට එපා\\n\\nඈ දුටු විට දෙවඟනක් වගේ\\nහදවත කකියනවා හොඳටම මගේ\\nදිලිසෙන නුවන් නිල් මිනි කැට වගේ\\nආකාසෙ තරු මදි ගෙල සරසන්න ඇගේ\\n\\nඇගෙ ඉඟ සුඟ ගත හැකි මගෙ අත මිටින\\nනිසි පුළුලුකුල මගෙ රිය සක ගැටුණ\\nබෝනික්කියක් වගේ ඇසිපිය නොම හෙලන\\nඈ දුටුවම වුණා මගේ හදවත සසල\\n\\nසුදිලාන සෑ ඝන රන් කොතිනේ\\nවඩනා රුති සසිරේන්ද්ර සිලිල සොඳිනේ\\n\\nනම් දෙක ලියලා තැන් තැන් වල අපි අපේ වෙන්න පතලා\\nහිමි විය යුතු දේ අහිමි වෙලා යන විටදී නිහඬ වුණා\\n\\nආසයි පවසන්න\\nආයෙත් ලං වී ඉන්න\\nඒ මියගිය ප්රේමයට පණ එන්න\\n\\nගිම්හානෙ වාගෙ පාළුයි\\nකවුරුත්ම නෑනෙ යාළු\\nඔය හිස් හදේ හි මතුවූ\\nලක් කාරයා මමලු', 'අනන්තයට යන පාර දිගේ\\nඅනන්තයට යන පාර දිගේ\\nඇය එනවා ප්රාර්ථනාවේ\\nඇය එනවා\\n\\nහරිත නිම්නයේ සීතල අතරින්\\nපිනි වැස්සේ\\n\\nඅනන්තයට යන පාර දිගේ\\nඅනන්තයට යන පාර දිගේ\\nඇය එනවා ප්රාර්ථනාවේ\\nඇය එනවා ප්රාර්ථනාවේ\\n\\nමල් පොකුරු අරන් සීතල පිණි වැස්සේ\\nමල් පොකුරු අරන් සීතල පිණි වැස්සේ\\n\\nසීතල නෑනේ අඳුරු රැයේ\\nමා ඇය තුරුලේ\\nඋණුහුම දැනුනේ\\nආදරයේ සිහිලේ\\n\\nමල් පොකුරු අරන් සීතල පිණි වැස්සේ\\nමල් පොකුරු අරන් සීතල පිණි වැස්සේ\\n\\nතරු නිවී ගිහින් නිල්, අහස් තලේ\\nඈ නෙතු දැල්වේ\\nසෙනෙහේ දැනුනේ ජීවිතයේ සිහිනේ\\n\\nමල් පොකුරු අරන් සීතල පිණි වැස්සේ\\n\\nහරිත නිම්නයේ සීතල අතරින්\\nපිනි වැස්සේ\\n\\nඅනන්තයට යන පාර දිගේ\\nඅනන්තයට යන පාර දිගේ\\nඇය එනවා ප්රාර්ථනාවේ\\nඇය එනවා ප්රාර්ථනාවේ\\n\\nමල් පොකුරු අරන් සීතල පිණි වැස්සේ\\nමල් පොකුරු අරන් සීතල පිණි වැස්සේ', 'මා තනිවෙලා නැව්තලේ\\n\\nමා එතෙර ආ දා\\nඈ නැවත ආවා\\nඒ මොහොත සිහි වේ අද වගේ\\n\\nනිල්වන් මුහුදු තීරේ\\nගල්මල් පිපුණු යායේ\\nමා තනිවෙලා නැව්තලේ\\nඈ ඇත ඇගේ යහනතේ\\n\\nමා එතෙර ආ දා\\nඈ නැවත ආවා\\nඒ මොහොත සිහි වේ අද වගේ\\n\\nමා හා තුරුලු වීලා\\nදෑසේ කඳුළු බීලා\\nරහසේ සුසුම් ලෑ හඬ ඇසේ\\n\\nනිල්වන් මුහුදු තීරේ\\nගල්මල් පිපුණු යායේ\\nමා තනිවෙලා නැව්තලේ\\nඈ ඇත ඇගේ යහනතේ\\n\\nරෑ සොඳුරු මොහොතේ\\nමා මිදුණු යාමේ\\nඈ දෙතොල මාගේ දෙකොපුලේ\\n\\nගෑ ඒ සුවඳ විහිදේ\\nමූණේ තවම මාගේ\\nනෑ මා පිසින්නේ නෑ මුව මගේ\\n\\nනිල්වන් මුහුදු තීරේ\\nගල්මල් පිපුණු යායේ\\nමා තනිවෙලා නැව්තලේ\\nඈ ඇත ඇගේ යහනතේ\\n\\nනිල්වන් මුහුදු තීරේ\\nගල්මල් පිපුණු යායේ\\nමා තනිවෙලා නැව්තලේ\\nඈ ඇත ඇගේ යහනතේ\\n\\nමා තනිවෙලා නැව්තලේ\\n\\nමා තනිවෙලා නැව්තලේ', 'තනිවී සිටින්නයි මා අදහස් කලේ\\nඔබමයි සොයා ඇවිදින් එය වෙනස් කලේ\\nපහදා කියූවත් නෑ සවන් යොමු කලේ\\nවේදනා පිරී ලොවක් ඔබයි බිහි කලේ\\n\\nමගෙ පාළු ලෝකයේ තනිවූ මෙමා\\nසක්විති රජුන් හමුවේ නැත හිස නමා\\nසිතුවිලි මගේ හසුරා ගත හැක නමා\\nමට දුක සිතෙන්නේ ඔබ ගැන තමා\\n\\nතනිවී සිටින්නයි මා අදහස් කලේ\\nඔබමයි සොයා ඇවිදින් එය වෙනස් කලේ\\nපහදා කියූවත් නෑ සවන් යොමු කලේ\\nවේදනා පිරී ලොවක් ඔබයි බිහි කලේ\\n\\nඔබෙ චේතනා අගනා මා සිත දනී\\nඅවට ලෝකයේ බැලුම් විස කටු වැනී\\nඒ කටු අපේ දෙහදේ ගැඹුරේ ඇනී\\nගලන දුක් වේදනා රුධිරය වැනී\\n\\nතනිවී සිටින්නයි මා අදහස් කලේ\\nඔබමයි සොයා ඇවිදින් එය වෙනස් කලේ\\nපහදා කියූවත් නෑ සවන් යොමු කලේ\\nවේදනා පිරී ලොවක් ඔබයි බිහි කලේ']\n",
            "[6381, 7912, 8423, 9431]\n"
          ]
        }
      ],
      "source": [
        "for i in range(len(mer_d['text'])):\n",
        "    try:\n",
        "        mer_d['lang'][i] = detect(mer_d['text'][i])\n",
        "    except:\n",
        "        unknown.append(mer_d['text'][i])\n",
        "        id.append(i)\n",
        "        print(i)\n",
        "print(unknown)\n",
        "print(id)"
      ]
    },
    {
      "cell_type": "code",
      "execution_count": null,
      "id": "61d74ec2-74db-423f-a334-e07091a582cf",
      "metadata": {
        "id": "61d74ec2-74db-423f-a334-e07091a582cf",
        "outputId": "5bb7f4e3-3155-4f30-b7bf-4f896b753f88"
      },
      "outputs": [
        {
          "data": {
            "text/html": [
              "<div>\n",
              "<style scoped>\n",
              "    .dataframe tbody tr th:only-of-type {\n",
              "        vertical-align: middle;\n",
              "    }\n",
              "\n",
              "    .dataframe tbody tr th {\n",
              "        vertical-align: top;\n",
              "    }\n",
              "\n",
              "    .dataframe thead th {\n",
              "        text-align: right;\n",
              "    }\n",
              "</style>\n",
              "<table border=\"1\" class=\"dataframe\">\n",
              "  <thead>\n",
              "    <tr style=\"text-align: right;\">\n",
              "      <th></th>\n",
              "      <th>original_track_id</th>\n",
              "      <th>track_id</th>\n",
              "      <th>track_remake_type</th>\n",
              "      <th>lyric_id</th>\n",
              "      <th>text</th>\n",
              "      <th>title</th>\n",
              "      <th>language</th>\n",
              "      <th>isrc</th>\n",
              "      <th>genres</th>\n",
              "      <th>duration</th>\n",
              "      <th>data_time</th>\n",
              "      <th>lang</th>\n",
              "    </tr>\n",
              "  </thead>\n",
              "  <tbody>\n",
              "    <tr>\n",
              "      <th>0</th>\n",
              "      <td>1c4b1230f937e4c548ff732523214dcd</td>\n",
              "      <td>1c4b1230f937e4c548ff732523214dcd</td>\n",
              "      <td>ORIGINAL</td>\n",
              "      <td>a951f9504e89759e9d23039b7b17ec14</td>\n",
              "      <td>Живу сейчас обломами, обломками не той любви\\n...</td>\n",
              "      <td>Сарафан</td>\n",
              "      <td>None</td>\n",
              "      <td>AEA0D1860569</td>\n",
              "      <td>FOREIGNBARD, BARD</td>\n",
              "      <td>140000.0</td>\n",
              "      <td>2018-09-26 02:24:21</td>\n",
              "      <td>ru</td>\n",
              "    </tr>\n",
              "    <tr>\n",
              "      <th>1</th>\n",
              "      <td>None</td>\n",
              "      <td>0faea89b0d7d6235b5b74def72511bd8</td>\n",
              "      <td>COVER</td>\n",
              "      <td>0c749bc3f01eb8e6cf986fa14ccfc585</td>\n",
              "      <td>Tell me your fable\\nA fable\\nTell me your fabl...</td>\n",
              "      <td>Children</td>\n",
              "      <td>None</td>\n",
              "      <td>QZS672199805</td>\n",
              "      <td>ELECTRONICS</td>\n",
              "      <td>214590.0</td>\n",
              "      <td>2021-08-04 13:08:25</td>\n",
              "      <td>en</td>\n",
              "    </tr>\n",
              "    <tr>\n",
              "      <th>2</th>\n",
              "      <td>9c6dc41d5ccd9968d07f055da5d8f741</td>\n",
              "      <td>9c6dc41d5ccd9968d07f055da5d8f741</td>\n",
              "      <td>ORIGINAL</td>\n",
              "      <td>e2c8830fbc86e5964478243099eec23a</td>\n",
              "      <td>You're ashamed about all your fears and doubts...</td>\n",
              "      <td>Briane</td>\n",
              "      <td>None</td>\n",
              "      <td>USUM71006645</td>\n",
              "      <td>ROCK, ALLROCK</td>\n",
              "      <td>317910.0</td>\n",
              "      <td>2010-05-20 05:00:14</td>\n",
              "      <td>en</td>\n",
              "    </tr>\n",
              "    <tr>\n",
              "      <th>3</th>\n",
              "      <td>bfd04a73e9cffdf0e282c92219a86ea1</td>\n",
              "      <td>bfd04a73e9cffdf0e282c92219a86ea1</td>\n",
              "      <td>ORIGINAL</td>\n",
              "      <td>e2c8830fbc86e5964478243099eec23a</td>\n",
              "      <td>You're ashamed about all your fears and doubts...</td>\n",
              "      <td>Briane</td>\n",
              "      <td>None</td>\n",
              "      <td>USM951100211</td>\n",
              "      <td>ROCK, ALLROCK</td>\n",
              "      <td>317860.0</td>\n",
              "      <td>2014-09-23 12:07:56</td>\n",
              "      <td>en</td>\n",
              "    </tr>\n",
              "    <tr>\n",
              "      <th>4</th>\n",
              "      <td>8d70930d09cd239c948408d1317d8659</td>\n",
              "      <td>8d70930d09cd239c948408d1317d8659</td>\n",
              "      <td>ORIGINAL</td>\n",
              "      <td>7624653ca8522ba93470843c74961b7d</td>\n",
              "      <td>You showed him all the best of you,\\nBut I'm a...</td>\n",
              "      <td>Broken Angel</td>\n",
              "      <td>None</td>\n",
              "      <td>USUM71006638</td>\n",
              "      <td>ROCK, ALLROCK</td>\n",
              "      <td>321280.0</td>\n",
              "      <td>2010-05-20 05:00:14</td>\n",
              "      <td>en</td>\n",
              "    </tr>\n",
              "  </tbody>\n",
              "</table>\n",
              "</div>"
            ],
            "text/plain": [
              "                  original_track_id                          track_id  \\\n",
              "0  1c4b1230f937e4c548ff732523214dcd  1c4b1230f937e4c548ff732523214dcd   \n",
              "1                              None  0faea89b0d7d6235b5b74def72511bd8   \n",
              "2  9c6dc41d5ccd9968d07f055da5d8f741  9c6dc41d5ccd9968d07f055da5d8f741   \n",
              "3  bfd04a73e9cffdf0e282c92219a86ea1  bfd04a73e9cffdf0e282c92219a86ea1   \n",
              "4  8d70930d09cd239c948408d1317d8659  8d70930d09cd239c948408d1317d8659   \n",
              "\n",
              "  track_remake_type                          lyric_id  \\\n",
              "0          ORIGINAL  a951f9504e89759e9d23039b7b17ec14   \n",
              "1             COVER  0c749bc3f01eb8e6cf986fa14ccfc585   \n",
              "2          ORIGINAL  e2c8830fbc86e5964478243099eec23a   \n",
              "3          ORIGINAL  e2c8830fbc86e5964478243099eec23a   \n",
              "4          ORIGINAL  7624653ca8522ba93470843c74961b7d   \n",
              "\n",
              "                                                text         title language  \\\n",
              "0  Живу сейчас обломами, обломками не той любви\\n...       Сарафан     None   \n",
              "1  Tell me your fable\\nA fable\\nTell me your fabl...      Children     None   \n",
              "2  You're ashamed about all your fears and doubts...        Briane     None   \n",
              "3  You're ashamed about all your fears and doubts...        Briane     None   \n",
              "4  You showed him all the best of you,\\nBut I'm a...  Broken Angel     None   \n",
              "\n",
              "           isrc             genres  duration           data_time lang  \n",
              "0  AEA0D1860569  FOREIGNBARD, BARD  140000.0 2018-09-26 02:24:21   ru  \n",
              "1  QZS672199805        ELECTRONICS  214590.0 2021-08-04 13:08:25   en  \n",
              "2  USUM71006645      ROCK, ALLROCK  317910.0 2010-05-20 05:00:14   en  \n",
              "3  USM951100211      ROCK, ALLROCK  317860.0 2014-09-23 12:07:56   en  \n",
              "4  USUM71006638      ROCK, ALLROCK  321280.0 2010-05-20 05:00:14   en  "
            ]
          },
          "execution_count": 62,
          "metadata": {},
          "output_type": "execute_result"
        }
      ],
      "source": [
        "mer_d.head()"
      ]
    },
    {
      "cell_type": "code",
      "execution_count": null,
      "id": "1bd00843-0196-4923-8caf-bcc983c56ec7",
      "metadata": {
        "id": "1bd00843-0196-4923-8caf-bcc983c56ec7",
        "outputId": "36bee8ee-80cb-46d8-fcbc-c4f77be5c5dc",
        "scrolled": true
      },
      "outputs": [
        {
          "data": {
            "text/plain": [
              "original_track_id    7815\n",
              "track_id                0\n",
              "track_remake_type       0\n",
              "lyric_id                0\n",
              "text                    0\n",
              "title                   0\n",
              "language             4079\n",
              "isrc                   88\n",
              "genres                  0\n",
              "duration                0\n",
              "data_time               0\n",
              "lang                    0\n",
              "dtype: int64"
            ]
          },
          "execution_count": 63,
          "metadata": {},
          "output_type": "execute_result"
        }
      ],
      "source": [
        "mer_d.isna().sum()"
      ]
    },
    {
      "cell_type": "code",
      "execution_count": null,
      "id": "096a4ff4-b552-4383-ae47-8d0c60164763",
      "metadata": {
        "id": "096a4ff4-b552-4383-ae47-8d0c60164763",
        "outputId": "81d1c63b-ea76-4347-dcbb-0bb130095287"
      },
      "outputs": [
        {
          "data": {
            "text/plain": [
              "array(['ru', 'en', 'es', 'pt', 'id', 'fr', 'it', 'ja', 'pl', 'cs', 'de',\n",
              "       'da', 'pa', 'sw', 'no', 'ro', 'ca', 'hi', 'tl', 'th', 'hr', 'bg',\n",
              "       'et', 'bn', 'ko', 'ar', 'so', 'sv', 'vi', 'tr', 'af', 'sl', 'nl',\n",
              "       'cy', 'uk', 'hu', 'el', 'he', 'ml', 0, 'ta', 'sk', 'sq', 'te',\n",
              "       'zh-cn', 'fa', 'fi'], dtype=object)"
            ]
          },
          "execution_count": 64,
          "metadata": {},
          "output_type": "execute_result"
        }
      ],
      "source": [
        "mer_d['lang'].unique()"
      ]
    },
    {
      "cell_type": "markdown",
      "id": "3094d18f-63e1-4363-8d55-06f6bef46301",
      "metadata": {
        "id": "3094d18f-63e1-4363-8d55-06f6bef46301"
      },
      "source": [
        "Там есть 0, который обозначает вот этот нераспознанный язык. Удалим строки с ним"
      ]
    },
    {
      "cell_type": "code",
      "execution_count": null,
      "id": "3a91576e-fcdb-4652-85d2-d29fda8f5e13",
      "metadata": {
        "id": "3a91576e-fcdb-4652-85d2-d29fda8f5e13"
      },
      "outputs": [],
      "source": [
        "for a in id:\n",
        "    mer_d = mer_d.drop(index=[a])"
      ]
    },
    {
      "cell_type": "code",
      "execution_count": null,
      "id": "05a52674-f2bd-4750-b71b-5e3c801c6f95",
      "metadata": {
        "id": "05a52674-f2bd-4750-b71b-5e3c801c6f95",
        "outputId": "75dc5c10-5b7e-4e80-a11b-609cebf9d75e"
      },
      "outputs": [
        {
          "data": {
            "text/plain": [
              "array(['ru', 'en', 'es', 'pt', 'id', 'fr', 'it', 'ja', 'pl', 'cs', 'de',\n",
              "       'da', 'pa', 'sw', 'no', 'ro', 'ca', 'hi', 'tl', 'th', 'hr', 'bg',\n",
              "       'et', 'bn', 'ko', 'ar', 'so', 'sv', 'vi', 'tr', 'af', 'sl', 'nl',\n",
              "       'cy', 'uk', 'hu', 'el', 'he', 'ml', 'ta', 'sk', 'sq', 'te',\n",
              "       'zh-cn', 'fa', 'fi'], dtype=object)"
            ]
          },
          "execution_count": 66,
          "metadata": {},
          "output_type": "execute_result"
        }
      ],
      "source": [
        "mer_d['lang'].unique()"
      ]
    },
    {
      "cell_type": "code",
      "execution_count": null,
      "id": "9e901135-f64c-42de-96e2-31db919c76cd",
      "metadata": {
        "id": "9e901135-f64c-42de-96e2-31db919c76cd"
      },
      "outputs": [],
      "source": [
        "mer_d['lang'] = mer_d['lang'].str.upper()"
      ]
    },
    {
      "cell_type": "code",
      "execution_count": null,
      "id": "ba643fe8-b10c-45e6-b8e6-d948c5eaf200",
      "metadata": {
        "id": "ba643fe8-b10c-45e6-b8e6-d948c5eaf200",
        "outputId": "c4ce0b26-403b-4028-8035-cd776a6e713b"
      },
      "outputs": [
        {
          "data": {
            "text/plain": [
              "0        RU\n",
              "1        EN\n",
              "2        EN\n",
              "3        EN\n",
              "4        EN\n",
              "         ..\n",
              "11409    EN\n",
              "11410    EN\n",
              "11411    EN\n",
              "11412    EN\n",
              "11413    RU\n",
              "Name: lang, Length: 11410, dtype: object"
            ]
          },
          "execution_count": 68,
          "metadata": {},
          "output_type": "execute_result"
        }
      ],
      "source": [
        "mer_d['lang']"
      ]
    },
    {
      "cell_type": "markdown",
      "id": "3KWbA4zdxz-A",
      "metadata": {
        "id": "3KWbA4zdxz-A"
      },
      "source": [
        "Проверим, совпадают ли значения языка исполнения и языки текстов песен\n",
        "\n"
      ]
    },
    {
      "cell_type": "code",
      "execution_count": null,
      "id": "e6432d8e-39fc-434a-a275-b429e9d8dff4",
      "metadata": {
        "id": "e6432d8e-39fc-434a-a275-b429e9d8dff4",
        "outputId": "9afd1bbe-26ab-4f8d-aeda-44d499e7aa8f"
      },
      "outputs": [
        {
          "data": {
            "text/html": [
              "<div>\n",
              "<style scoped>\n",
              "    .dataframe tbody tr th:only-of-type {\n",
              "        vertical-align: middle;\n",
              "    }\n",
              "\n",
              "    .dataframe tbody tr th {\n",
              "        vertical-align: top;\n",
              "    }\n",
              "\n",
              "    .dataframe thead th {\n",
              "        text-align: right;\n",
              "    }\n",
              "</style>\n",
              "<table border=\"1\" class=\"dataframe\">\n",
              "  <thead>\n",
              "    <tr style=\"text-align: right;\">\n",
              "      <th></th>\n",
              "      <th>original_track_id</th>\n",
              "      <th>track_id</th>\n",
              "      <th>track_remake_type</th>\n",
              "      <th>lyric_id</th>\n",
              "      <th>text</th>\n",
              "      <th>title</th>\n",
              "      <th>language</th>\n",
              "      <th>isrc</th>\n",
              "      <th>genres</th>\n",
              "      <th>duration</th>\n",
              "      <th>data_time</th>\n",
              "      <th>lang</th>\n",
              "    </tr>\n",
              "  </thead>\n",
              "  <tbody>\n",
              "    <tr>\n",
              "      <th>19</th>\n",
              "      <td>None</td>\n",
              "      <td>a1732982eb0f3980c01dc4d1178becbe</td>\n",
              "      <td>COVER</td>\n",
              "      <td>d641878195682b2338b2788769ba3f26</td>\n",
              "      <td>I found a love for me\\nDarling just dive right...</td>\n",
              "      <td>Perfect</td>\n",
              "      <td>ES</td>\n",
              "      <td>QZ22B2007881</td>\n",
              "      <td>POP</td>\n",
              "      <td>99940.0</td>\n",
              "      <td>2019-04-01 17:54:32</td>\n",
              "      <td>EN</td>\n",
              "    </tr>\n",
              "    <tr>\n",
              "      <th>63</th>\n",
              "      <td>None</td>\n",
              "      <td>3ff929b65942590d576ceda8310c54d5</td>\n",
              "      <td>COVER</td>\n",
              "      <td>8812a490cedbb81509a2dea9dc907865</td>\n",
              "      <td>Kau takkan pernah berjalan sendiri\\nBerdiri te...</td>\n",
              "      <td>Semangat Kami</td>\n",
              "      <td>EN</td>\n",
              "      <td>IDA141802109</td>\n",
              "      <td>ROCK, ALLROCK</td>\n",
              "      <td>190280.0</td>\n",
              "      <td>2018-10-25 21:00:00</td>\n",
              "      <td>ID</td>\n",
              "    </tr>\n",
              "    <tr>\n",
              "      <th>64</th>\n",
              "      <td>None</td>\n",
              "      <td>b3833fc96793980030c13735f60653c4</td>\n",
              "      <td>COVER</td>\n",
              "      <td>22599fc40febac551feea7e6d18b3f34</td>\n",
              "      <td>Di sini kuberpijak menatap langit\\nBerdiri teg...</td>\n",
              "      <td>Terus Bersama</td>\n",
              "      <td>EN</td>\n",
              "      <td>IDA141802119</td>\n",
              "      <td>ROCK, ALLROCK</td>\n",
              "      <td>224540.0</td>\n",
              "      <td>2018-10-25 21:00:00</td>\n",
              "      <td>ID</td>\n",
              "    </tr>\n",
              "    <tr>\n",
              "      <th>65</th>\n",
              "      <td>None</td>\n",
              "      <td>1928cdf710b700448d526ccc93febc24</td>\n",
              "      <td>COVER</td>\n",
              "      <td>b7d5f94fa3cf05c7fb7b4bb9f53b0335</td>\n",
              "      <td>Sejenak tenangkan jiwaku yang penuh dilema\\nTe...</td>\n",
              "      <td>Buktikan Sekali Lagi</td>\n",
              "      <td>EN</td>\n",
              "      <td>IDA141802113</td>\n",
              "      <td>ROCK, ALLROCK</td>\n",
              "      <td>186000.0</td>\n",
              "      <td>2018-10-25 21:00:00</td>\n",
              "      <td>ID</td>\n",
              "    </tr>\n",
              "    <tr>\n",
              "      <th>66</th>\n",
              "      <td>None</td>\n",
              "      <td>764a3d051fdee2b2a72c2730d946b014</td>\n",
              "      <td>COVER</td>\n",
              "      <td>6679f81ef0aa7453cf43409407eb6405</td>\n",
              "      <td>Walaupun berganti hari\\nSiang malam datang per...</td>\n",
              "      <td>Rasa Ini Takkan Pernah Mati</td>\n",
              "      <td>EN</td>\n",
              "      <td>IDA141802112</td>\n",
              "      <td>ROCK, ALLROCK</td>\n",
              "      <td>254080.0</td>\n",
              "      <td>2018-10-25 21:00:00</td>\n",
              "      <td>ID</td>\n",
              "    </tr>\n",
              "    <tr>\n",
              "      <th>...</th>\n",
              "      <td>...</td>\n",
              "      <td>...</td>\n",
              "      <td>...</td>\n",
              "      <td>...</td>\n",
              "      <td>...</td>\n",
              "      <td>...</td>\n",
              "      <td>...</td>\n",
              "      <td>...</td>\n",
              "      <td>...</td>\n",
              "      <td>...</td>\n",
              "      <td>...</td>\n",
              "      <td>...</td>\n",
              "    </tr>\n",
              "    <tr>\n",
              "      <th>11336</th>\n",
              "      <td>None</td>\n",
              "      <td>40c9d38838fb8513656a22db6c13630e</td>\n",
              "      <td>COVER</td>\n",
              "      <td>766c4e38e9b49e0479bda9ec1b45ecf4</td>\n",
              "      <td>Tatoe\\nArashi ga futou tomo\\nTatoe oonami arer...</td>\n",
              "      <td>Voltes V no Uta (from \"Chodenji Machine Voltes...</td>\n",
              "      <td>JA</td>\n",
              "      <td>QZGWX2208194</td>\n",
              "      <td>SOUNDTRACK</td>\n",
              "      <td>182640.0</td>\n",
              "      <td>2021-06-10 18:27:39</td>\n",
              "      <td>SW</td>\n",
              "    </tr>\n",
              "    <tr>\n",
              "      <th>11337</th>\n",
              "      <td>None</td>\n",
              "      <td>2e07f3305760377d28c8b182a98b71ea</td>\n",
              "      <td>COVER</td>\n",
              "      <td>b1072c2a3c39831cf1a70b873956b1a2</td>\n",
              "      <td>No se si es casualidad\\nEncontrarte a ti\\nA so...</td>\n",
              "      <td>Centimeter (From \"Kanojo Okarishimasu / Rent a...</td>\n",
              "      <td>EN</td>\n",
              "      <td>QZGWX2196163</td>\n",
              "      <td>POP</td>\n",
              "      <td>226310.0</td>\n",
              "      <td>2021-06-01 20:29:06</td>\n",
              "      <td>ES</td>\n",
              "    </tr>\n",
              "    <tr>\n",
              "      <th>11338</th>\n",
              "      <td>None</td>\n",
              "      <td>2d9d01b06ac479098345266fa2e30bdd</td>\n",
              "      <td>COVER</td>\n",
              "      <td>7c593a8aeaf02fa419c91f67fbef2cf4</td>\n",
              "      <td>Azizim ko'k ichra hiloling bo'lib\\nKelsang – y...</td>\n",
              "      <td>Azizam</td>\n",
              "      <td>UZ</td>\n",
              "      <td>NLRD52053060</td>\n",
              "      <td>POP</td>\n",
              "      <td>157500.0</td>\n",
              "      <td>2021-11-25 19:00:00</td>\n",
              "      <td>TL</td>\n",
              "    </tr>\n",
              "    <tr>\n",
              "      <th>11345</th>\n",
              "      <td>a47e96a3b16a06af3e25571b3781d90e</td>\n",
              "      <td>a47e96a3b16a06af3e25571b3781d90e</td>\n",
              "      <td>ORIGINAL</td>\n",
              "      <td>3326b4e4c9c9d179b03935791d5953b9</td>\n",
              "      <td>Let's don't talk about my soul\\nI just really ...</td>\n",
              "      <td>Touch the Sky</td>\n",
              "      <td>EN</td>\n",
              "      <td>FR2X42072029</td>\n",
              "      <td>DANCE</td>\n",
              "      <td>170340.0</td>\n",
              "      <td>2020-04-28 21:00:00</td>\n",
              "      <td>RU</td>\n",
              "    </tr>\n",
              "    <tr>\n",
              "      <th>11390</th>\n",
              "      <td>NaN</td>\n",
              "      <td>a33e4b17ce2c355fb3e65ee042509803</td>\n",
              "      <td>COVER</td>\n",
              "      <td>bc9d77c8771c3d81aa848adc339f1fb5</td>\n",
              "      <td>Нас не догонят\\nНас не догонят, нас не догонят...</td>\n",
              "      <td>Нас не догонят</td>\n",
              "      <td>EN</td>\n",
              "      <td>RUA110100045</td>\n",
              "      <td>POP, RUSPOP</td>\n",
              "      <td>261330.0</td>\n",
              "      <td>2009-09-17 20:00:00</td>\n",
              "      <td>RU</td>\n",
              "    </tr>\n",
              "  </tbody>\n",
              "</table>\n",
              "<p>372 rows × 12 columns</p>\n",
              "</div>"
            ],
            "text/plain": [
              "                      original_track_id                          track_id  \\\n",
              "19                                 None  a1732982eb0f3980c01dc4d1178becbe   \n",
              "63                                 None  3ff929b65942590d576ceda8310c54d5   \n",
              "64                                 None  b3833fc96793980030c13735f60653c4   \n",
              "65                                 None  1928cdf710b700448d526ccc93febc24   \n",
              "66                                 None  764a3d051fdee2b2a72c2730d946b014   \n",
              "...                                 ...                               ...   \n",
              "11336                              None  40c9d38838fb8513656a22db6c13630e   \n",
              "11337                              None  2e07f3305760377d28c8b182a98b71ea   \n",
              "11338                              None  2d9d01b06ac479098345266fa2e30bdd   \n",
              "11345  a47e96a3b16a06af3e25571b3781d90e  a47e96a3b16a06af3e25571b3781d90e   \n",
              "11390                               NaN  a33e4b17ce2c355fb3e65ee042509803   \n",
              "\n",
              "      track_remake_type                          lyric_id  \\\n",
              "19                COVER  d641878195682b2338b2788769ba3f26   \n",
              "63                COVER  8812a490cedbb81509a2dea9dc907865   \n",
              "64                COVER  22599fc40febac551feea7e6d18b3f34   \n",
              "65                COVER  b7d5f94fa3cf05c7fb7b4bb9f53b0335   \n",
              "66                COVER  6679f81ef0aa7453cf43409407eb6405   \n",
              "...                 ...                               ...   \n",
              "11336             COVER  766c4e38e9b49e0479bda9ec1b45ecf4   \n",
              "11337             COVER  b1072c2a3c39831cf1a70b873956b1a2   \n",
              "11338             COVER  7c593a8aeaf02fa419c91f67fbef2cf4   \n",
              "11345          ORIGINAL  3326b4e4c9c9d179b03935791d5953b9   \n",
              "11390             COVER  bc9d77c8771c3d81aa848adc339f1fb5   \n",
              "\n",
              "                                                    text  \\\n",
              "19     I found a love for me\\nDarling just dive right...   \n",
              "63     Kau takkan pernah berjalan sendiri\\nBerdiri te...   \n",
              "64     Di sini kuberpijak menatap langit\\nBerdiri teg...   \n",
              "65     Sejenak tenangkan jiwaku yang penuh dilema\\nTe...   \n",
              "66     Walaupun berganti hari\\nSiang malam datang per...   \n",
              "...                                                  ...   \n",
              "11336  Tatoe\\nArashi ga futou tomo\\nTatoe oonami arer...   \n",
              "11337  No se si es casualidad\\nEncontrarte a ti\\nA so...   \n",
              "11338  Azizim ko'k ichra hiloling bo'lib\\nKelsang – y...   \n",
              "11345  Let's don't talk about my soul\\nI just really ...   \n",
              "11390  Нас не догонят\\nНас не догонят, нас не догонят...   \n",
              "\n",
              "                                                   title language  \\\n",
              "19                                               Perfect       ES   \n",
              "63                                         Semangat Kami       EN   \n",
              "64                                         Terus Bersama       EN   \n",
              "65                                  Buktikan Sekali Lagi       EN   \n",
              "66                           Rasa Ini Takkan Pernah Mati       EN   \n",
              "...                                                  ...      ...   \n",
              "11336  Voltes V no Uta (from \"Chodenji Machine Voltes...       JA   \n",
              "11337  Centimeter (From \"Kanojo Okarishimasu / Rent a...       EN   \n",
              "11338                                             Azizam       UZ   \n",
              "11345                                      Touch the Sky       EN   \n",
              "11390                                     Нас не догонят       EN   \n",
              "\n",
              "               isrc         genres  duration           data_time lang  \n",
              "19     QZ22B2007881            POP   99940.0 2019-04-01 17:54:32   EN  \n",
              "63     IDA141802109  ROCK, ALLROCK  190280.0 2018-10-25 21:00:00   ID  \n",
              "64     IDA141802119  ROCK, ALLROCK  224540.0 2018-10-25 21:00:00   ID  \n",
              "65     IDA141802113  ROCK, ALLROCK  186000.0 2018-10-25 21:00:00   ID  \n",
              "66     IDA141802112  ROCK, ALLROCK  254080.0 2018-10-25 21:00:00   ID  \n",
              "...             ...            ...       ...                 ...  ...  \n",
              "11336  QZGWX2208194     SOUNDTRACK  182640.0 2021-06-10 18:27:39   SW  \n",
              "11337  QZGWX2196163            POP  226310.0 2021-06-01 20:29:06   ES  \n",
              "11338  NLRD52053060            POP  157500.0 2021-11-25 19:00:00   TL  \n",
              "11345  FR2X42072029          DANCE  170340.0 2020-04-28 21:00:00   RU  \n",
              "11390  RUA110100045    POP, RUSPOP  261330.0 2009-09-17 20:00:00   RU  \n",
              "\n",
              "[372 rows x 12 columns]"
            ]
          },
          "execution_count": 69,
          "metadata": {},
          "output_type": "execute_result"
        }
      ],
      "source": [
        "mer_d.loc[(mer_d['language'] != mer_d['lang']) & (mer_d['language'].notnull())]"
      ]
    },
    {
      "cell_type": "markdown",
      "id": "0d39af98-82b2-4e6b-9891-a06d4c76e27b",
      "metadata": {
        "id": "0d39af98-82b2-4e6b-9891-a06d4c76e27b"
      },
      "source": [
        "Удалим столцы с языком от заказчика, поскольку есть новый без пропусков, а также как можно увидеть по шапке датасета, нам больше полезен язык текста песни"
      ]
    },
    {
      "cell_type": "code",
      "execution_count": null,
      "id": "0858cb80-7641-40fe-ae5f-98b6628a23b7",
      "metadata": {
        "id": "0858cb80-7641-40fe-ae5f-98b6628a23b7"
      },
      "outputs": [],
      "source": [
        "mer_d = mer_d.drop(columns = ['language'],axis = 1)"
      ]
    },
    {
      "cell_type": "code",
      "execution_count": null,
      "id": "c145abc7-ca4c-4048-a6b7-9c26b723a512",
      "metadata": {
        "id": "c145abc7-ca4c-4048-a6b7-9c26b723a512"
      },
      "outputs": [],
      "source": [
        "mer_d = mer_d.drop(columns = ['original_track_id'],axis = 1)"
      ]
    },
    {
      "cell_type": "code",
      "execution_count": null,
      "id": "f7012f69-52cc-43c3-9206-e5b932b89a5f",
      "metadata": {
        "id": "f7012f69-52cc-43c3-9206-e5b932b89a5f",
        "outputId": "697ca1bb-2f31-4332-d0fa-9bdbf3196090"
      },
      "outputs": [
        {
          "name": "stdout",
          "output_type": "stream",
          "text": [
            "<class 'pandas.core.frame.DataFrame'>\n",
            "Index: 11410 entries, 0 to 11413\n",
            "Data columns (total 10 columns):\n",
            " #   Column             Non-Null Count  Dtype         \n",
            "---  ------             --------------  -----         \n",
            " 0   track_id           11410 non-null  object        \n",
            " 1   track_remake_type  11410 non-null  object        \n",
            " 2   lyric_id           11410 non-null  object        \n",
            " 3   text               11410 non-null  object        \n",
            " 4   title              11410 non-null  object        \n",
            " 5   isrc               11322 non-null  object        \n",
            " 6   genres             11410 non-null  object        \n",
            " 7   duration           11410 non-null  float64       \n",
            " 8   data_time          11410 non-null  datetime64[ns]\n",
            " 9   lang               11410 non-null  object        \n",
            "dtypes: datetime64[ns](1), float64(1), object(8)\n",
            "memory usage: 980.5+ KB\n"
          ]
        }
      ],
      "source": [
        "mer_d.info()"
      ]
    },
    {
      "cell_type": "code",
      "execution_count": null,
      "id": "7b624557-6952-46f0-9c96-713c5e0089ff",
      "metadata": {
        "id": "7b624557-6952-46f0-9c96-713c5e0089ff"
      },
      "outputs": [],
      "source": [
        "mer_d = mer_d.dropna()"
      ]
    },
    {
      "cell_type": "code",
      "execution_count": null,
      "id": "b7a466cb-8da6-49d9-806e-f024313e5233",
      "metadata": {
        "id": "b7a466cb-8da6-49d9-806e-f024313e5233",
        "outputId": "8dbcd8b0-a10d-4291-efdc-fb9110ed7eb3"
      },
      "outputs": [
        {
          "data": {
            "text/plain": [
              "track_id             0\n",
              "track_remake_type    0\n",
              "lyric_id             0\n",
              "text                 0\n",
              "title                0\n",
              "isrc                 0\n",
              "genres               0\n",
              "duration             0\n",
              "data_time            0\n",
              "lang                 0\n",
              "dtype: int64"
            ]
          },
          "execution_count": 74,
          "metadata": {},
          "output_type": "execute_result"
        }
      ],
      "source": [
        "mer_d.isna().sum()"
      ]
    },
    {
      "cell_type": "markdown",
      "id": "e11bc7fd-97d7-4833-876c-c7b104b34c1b",
      "metadata": {
        "id": "e11bc7fd-97d7-4833-876c-c7b104b34c1b"
      },
      "source": [
        "Теперь следует рассмотреть более-менее преобразованные данные в целом"
      ]
    },
    {
      "cell_type": "code",
      "execution_count": null,
      "id": "e040e6d1-9341-491d-8d57-4056b0418a68",
      "metadata": {
        "id": "e040e6d1-9341-491d-8d57-4056b0418a68",
        "outputId": "83964b7a-0a65-469c-a22d-404f344a4458"
      },
      "outputs": [
        {
          "data": {
            "text/html": [
              "<div>\n",
              "<style scoped>\n",
              "    .dataframe tbody tr th:only-of-type {\n",
              "        vertical-align: middle;\n",
              "    }\n",
              "\n",
              "    .dataframe tbody tr th {\n",
              "        vertical-align: top;\n",
              "    }\n",
              "\n",
              "    .dataframe thead th {\n",
              "        text-align: right;\n",
              "    }\n",
              "</style>\n",
              "<table border=\"1\" class=\"dataframe\">\n",
              "  <thead>\n",
              "    <tr style=\"text-align: right;\">\n",
              "      <th></th>\n",
              "      <th>track_id</th>\n",
              "      <th>track_remake_type</th>\n",
              "      <th>lyric_id</th>\n",
              "      <th>text</th>\n",
              "      <th>title</th>\n",
              "      <th>isrc</th>\n",
              "      <th>genres</th>\n",
              "      <th>duration</th>\n",
              "      <th>data_time</th>\n",
              "      <th>lang</th>\n",
              "    </tr>\n",
              "  </thead>\n",
              "  <tbody>\n",
              "    <tr>\n",
              "      <th>0</th>\n",
              "      <td>1c4b1230f937e4c548ff732523214dcd</td>\n",
              "      <td>ORIGINAL</td>\n",
              "      <td>a951f9504e89759e9d23039b7b17ec14</td>\n",
              "      <td>Живу сейчас обломами, обломками не той любви\\n...</td>\n",
              "      <td>Сарафан</td>\n",
              "      <td>AEA0D1860569</td>\n",
              "      <td>FOREIGNBARD, BARD</td>\n",
              "      <td>140000.0</td>\n",
              "      <td>2018-09-26 02:24:21</td>\n",
              "      <td>RU</td>\n",
              "    </tr>\n",
              "    <tr>\n",
              "      <th>1</th>\n",
              "      <td>0faea89b0d7d6235b5b74def72511bd8</td>\n",
              "      <td>COVER</td>\n",
              "      <td>0c749bc3f01eb8e6cf986fa14ccfc585</td>\n",
              "      <td>Tell me your fable\\nA fable\\nTell me your fabl...</td>\n",
              "      <td>Children</td>\n",
              "      <td>QZS672199805</td>\n",
              "      <td>ELECTRONICS</td>\n",
              "      <td>214590.0</td>\n",
              "      <td>2021-08-04 13:08:25</td>\n",
              "      <td>EN</td>\n",
              "    </tr>\n",
              "    <tr>\n",
              "      <th>2</th>\n",
              "      <td>9c6dc41d5ccd9968d07f055da5d8f741</td>\n",
              "      <td>ORIGINAL</td>\n",
              "      <td>e2c8830fbc86e5964478243099eec23a</td>\n",
              "      <td>You're ashamed about all your fears and doubts...</td>\n",
              "      <td>Briane</td>\n",
              "      <td>USUM71006645</td>\n",
              "      <td>ROCK, ALLROCK</td>\n",
              "      <td>317910.0</td>\n",
              "      <td>2010-05-20 05:00:14</td>\n",
              "      <td>EN</td>\n",
              "    </tr>\n",
              "    <tr>\n",
              "      <th>3</th>\n",
              "      <td>bfd04a73e9cffdf0e282c92219a86ea1</td>\n",
              "      <td>ORIGINAL</td>\n",
              "      <td>e2c8830fbc86e5964478243099eec23a</td>\n",
              "      <td>You're ashamed about all your fears and doubts...</td>\n",
              "      <td>Briane</td>\n",
              "      <td>USM951100211</td>\n",
              "      <td>ROCK, ALLROCK</td>\n",
              "      <td>317860.0</td>\n",
              "      <td>2014-09-23 12:07:56</td>\n",
              "      <td>EN</td>\n",
              "    </tr>\n",
              "    <tr>\n",
              "      <th>4</th>\n",
              "      <td>8d70930d09cd239c948408d1317d8659</td>\n",
              "      <td>ORIGINAL</td>\n",
              "      <td>7624653ca8522ba93470843c74961b7d</td>\n",
              "      <td>You showed him all the best of you,\\nBut I'm a...</td>\n",
              "      <td>Broken Angel</td>\n",
              "      <td>USUM71006638</td>\n",
              "      <td>ROCK, ALLROCK</td>\n",
              "      <td>321280.0</td>\n",
              "      <td>2010-05-20 05:00:14</td>\n",
              "      <td>EN</td>\n",
              "    </tr>\n",
              "    <tr>\n",
              "      <th>...</th>\n",
              "      <td>...</td>\n",
              "      <td>...</td>\n",
              "      <td>...</td>\n",
              "      <td>...</td>\n",
              "      <td>...</td>\n",
              "      <td>...</td>\n",
              "      <td>...</td>\n",
              "      <td>...</td>\n",
              "      <td>...</td>\n",
              "      <td>...</td>\n",
              "    </tr>\n",
              "    <tr>\n",
              "      <th>11409</th>\n",
              "      <td>b734225e54122798535b40666e6e361e</td>\n",
              "      <td>COVER</td>\n",
              "      <td>90522f12df92da5d585f8f6ec9bb34b5</td>\n",
              "      <td>All my little plans and schemes\\nLost like som...</td>\n",
              "      <td>Real Love</td>\n",
              "      <td>US7VG2133350</td>\n",
              "      <td>POP</td>\n",
              "      <td>276130.0</td>\n",
              "      <td>2021-03-17 10:18:44</td>\n",
              "      <td>EN</td>\n",
              "    </tr>\n",
              "    <tr>\n",
              "      <th>11410</th>\n",
              "      <td>b3cbb82e4ef67e75b1e47054a681db86</td>\n",
              "      <td>ORIGINAL</td>\n",
              "      <td>b82bd468c888ae17d2e976c8cf3b9d4c</td>\n",
              "      <td>I will make my way\\nI'm trying to survive anot...</td>\n",
              "      <td>My Way</td>\n",
              "      <td>ITL012100021</td>\n",
              "      <td>POP</td>\n",
              "      <td>201790.0</td>\n",
              "      <td>2021-05-06 21:00:00</td>\n",
              "      <td>EN</td>\n",
              "    </tr>\n",
              "    <tr>\n",
              "      <th>11411</th>\n",
              "      <td>d5c149b59a800a6f9f61adda6d3e1b1d</td>\n",
              "      <td>COVER</td>\n",
              "      <td>22bae9d3185254ea34072c692a2cd63d</td>\n",
              "      <td>Left a good job in the city\\nWorking for the m...</td>\n",
              "      <td>Proud Mary</td>\n",
              "      <td>UK6ZW1403686</td>\n",
              "      <td>DANCE</td>\n",
              "      <td>213660.0</td>\n",
              "      <td>2019-07-21 21:00:00</td>\n",
              "      <td>EN</td>\n",
              "    </tr>\n",
              "    <tr>\n",
              "      <th>11412</th>\n",
              "      <td>d5c149b59a800a6f9f61adda6d3e1b1d</td>\n",
              "      <td>COVER</td>\n",
              "      <td>0979b4049635e1c0fc161573f75ab23a</td>\n",
              "      <td>Left a good job in the city\\nWorking for the m...</td>\n",
              "      <td>Proud Mary</td>\n",
              "      <td>UK6ZW1403686</td>\n",
              "      <td>DANCE</td>\n",
              "      <td>213660.0</td>\n",
              "      <td>2019-07-21 21:00:00</td>\n",
              "      <td>EN</td>\n",
              "    </tr>\n",
              "    <tr>\n",
              "      <th>11413</th>\n",
              "      <td>c860754a50dac664d847bca85e6897f4</td>\n",
              "      <td>ORIGINAL</td>\n",
              "      <td>4c07f8d17222f821114790241f816431</td>\n",
              "      <td>Этой ночью чьё-то сердце от любви горит\\nВсё в...</td>\n",
              "      <td>ночь</td>\n",
              "      <td>FR59R2161423</td>\n",
              "      <td>POP, RUSPOP</td>\n",
              "      <td>149330.0</td>\n",
              "      <td>2021-04-22 21:00:00</td>\n",
              "      <td>RU</td>\n",
              "    </tr>\n",
              "  </tbody>\n",
              "</table>\n",
              "<p>11322 rows × 10 columns</p>\n",
              "</div>"
            ],
            "text/plain": [
              "                               track_id track_remake_type  \\\n",
              "0      1c4b1230f937e4c548ff732523214dcd          ORIGINAL   \n",
              "1      0faea89b0d7d6235b5b74def72511bd8             COVER   \n",
              "2      9c6dc41d5ccd9968d07f055da5d8f741          ORIGINAL   \n",
              "3      bfd04a73e9cffdf0e282c92219a86ea1          ORIGINAL   \n",
              "4      8d70930d09cd239c948408d1317d8659          ORIGINAL   \n",
              "...                                 ...               ...   \n",
              "11409  b734225e54122798535b40666e6e361e             COVER   \n",
              "11410  b3cbb82e4ef67e75b1e47054a681db86          ORIGINAL   \n",
              "11411  d5c149b59a800a6f9f61adda6d3e1b1d             COVER   \n",
              "11412  d5c149b59a800a6f9f61adda6d3e1b1d             COVER   \n",
              "11413  c860754a50dac664d847bca85e6897f4          ORIGINAL   \n",
              "\n",
              "                               lyric_id  \\\n",
              "0      a951f9504e89759e9d23039b7b17ec14   \n",
              "1      0c749bc3f01eb8e6cf986fa14ccfc585   \n",
              "2      e2c8830fbc86e5964478243099eec23a   \n",
              "3      e2c8830fbc86e5964478243099eec23a   \n",
              "4      7624653ca8522ba93470843c74961b7d   \n",
              "...                                 ...   \n",
              "11409  90522f12df92da5d585f8f6ec9bb34b5   \n",
              "11410  b82bd468c888ae17d2e976c8cf3b9d4c   \n",
              "11411  22bae9d3185254ea34072c692a2cd63d   \n",
              "11412  0979b4049635e1c0fc161573f75ab23a   \n",
              "11413  4c07f8d17222f821114790241f816431   \n",
              "\n",
              "                                                    text         title  \\\n",
              "0      Живу сейчас обломами, обломками не той любви\\n...       Сарафан   \n",
              "1      Tell me your fable\\nA fable\\nTell me your fabl...      Children   \n",
              "2      You're ashamed about all your fears and doubts...        Briane   \n",
              "3      You're ashamed about all your fears and doubts...        Briane   \n",
              "4      You showed him all the best of you,\\nBut I'm a...  Broken Angel   \n",
              "...                                                  ...           ...   \n",
              "11409  All my little plans and schemes\\nLost like som...     Real Love   \n",
              "11410  I will make my way\\nI'm trying to survive anot...        My Way   \n",
              "11411  Left a good job in the city\\nWorking for the m...    Proud Mary   \n",
              "11412  Left a good job in the city\\nWorking for the m...    Proud Mary   \n",
              "11413  Этой ночью чьё-то сердце от любви горит\\nВсё в...          ночь   \n",
              "\n",
              "               isrc             genres  duration           data_time lang  \n",
              "0      AEA0D1860569  FOREIGNBARD, BARD  140000.0 2018-09-26 02:24:21   RU  \n",
              "1      QZS672199805        ELECTRONICS  214590.0 2021-08-04 13:08:25   EN  \n",
              "2      USUM71006645      ROCK, ALLROCK  317910.0 2010-05-20 05:00:14   EN  \n",
              "3      USM951100211      ROCK, ALLROCK  317860.0 2014-09-23 12:07:56   EN  \n",
              "4      USUM71006638      ROCK, ALLROCK  321280.0 2010-05-20 05:00:14   EN  \n",
              "...             ...                ...       ...                 ...  ...  \n",
              "11409  US7VG2133350                POP  276130.0 2021-03-17 10:18:44   EN  \n",
              "11410  ITL012100021                POP  201790.0 2021-05-06 21:00:00   EN  \n",
              "11411  UK6ZW1403686              DANCE  213660.0 2019-07-21 21:00:00   EN  \n",
              "11412  UK6ZW1403686              DANCE  213660.0 2019-07-21 21:00:00   EN  \n",
              "11413  FR59R2161423        POP, RUSPOP  149330.0 2021-04-22 21:00:00   RU  \n",
              "\n",
              "[11322 rows x 10 columns]"
            ]
          },
          "execution_count": 75,
          "metadata": {},
          "output_type": "execute_result"
        }
      ],
      "source": [
        "mer_d"
      ]
    },
    {
      "cell_type": "markdown",
      "id": "27599fed-e83b-4bef-8673-3ce369f4e0ed",
      "metadata": {
        "id": "27599fed-e83b-4bef-8673-3ce369f4e0ed"
      },
      "source": [
        "Закодируем целевой признак"
      ]
    },
    {
      "cell_type": "code",
      "execution_count": null,
      "id": "e87740c4-ea58-4bf8-8669-e2d766b61334",
      "metadata": {
        "id": "e87740c4-ea58-4bf8-8669-e2d766b61334"
      },
      "outputs": [],
      "source": [
        "mer_d['exit'] = 1\n",
        "mer_d.loc[mer_d['track_remake_type'] == 'ORIGINAL', 'exit'] = 0"
      ]
    },
    {
      "cell_type": "code",
      "execution_count": null,
      "id": "fc3e0a59-7dca-49f8-b3c0-35e9cca20998",
      "metadata": {
        "id": "fc3e0a59-7dca-49f8-b3c0-35e9cca20998",
        "outputId": "3c22057b-209a-471f-df6d-abc925d127cc"
      },
      "outputs": [
        {
          "data": {
            "text/plain": [
              "exit\n",
              "1    8155\n",
              "0    3167\n",
              "Name: count, dtype: int64"
            ]
          },
          "execution_count": 77,
          "metadata": {},
          "output_type": "execute_result"
        }
      ],
      "source": [
        "mer_d['exit'].value_counts()"
      ]
    },
    {
      "cell_type": "code",
      "execution_count": null,
      "id": "940d8608-4388-41bf-90bd-db20b5a81882",
      "metadata": {
        "id": "940d8608-4388-41bf-90bd-db20b5a81882",
        "outputId": "f63b955e-6034-4f2a-d64d-e73885c5e7fa"
      },
      "outputs": [
        {
          "data": {
            "text/plain": [
              "track_remake_type\n",
              "COVER       8155\n",
              "ORIGINAL    3167\n",
              "Name: count, dtype: int64"
            ]
          },
          "execution_count": 78,
          "metadata": {},
          "output_type": "execute_result"
        }
      ],
      "source": [
        "mer_d['track_remake_type'].value_counts()"
      ]
    },
    {
      "cell_type": "code",
      "execution_count": null,
      "id": "4474954f-16a1-4c05-919c-93fe9d6c7982",
      "metadata": {
        "id": "4474954f-16a1-4c05-919c-93fe9d6c7982"
      },
      "outputs": [],
      "source": [
        "mer_d = mer_d.drop('track_remake_type', axis = 1)"
      ]
    },
    {
      "cell_type": "markdown",
      "source": [
        "# Проверим аномалии в длительности треков"
      ],
      "metadata": {
        "id": "gWOU_NQc76DC"
      },
      "id": "gWOU_NQc76DC"
    },
    {
      "cell_type": "code",
      "execution_count": null,
      "id": "cab7ddba-869a-4ac7-806d-e3d5f34eea7a",
      "metadata": {
        "id": "cab7ddba-869a-4ac7-806d-e3d5f34eea7a",
        "outputId": "0b6711d8-1f32-4251-d8d4-329bd53dbcce"
      },
      "outputs": [
        {
          "data": {
            "text/plain": [
              "37"
            ]
          },
          "execution_count": 80,
          "metadata": {},
          "output_type": "execute_result"
        }
      ],
      "source": [
        "mer_d.loc[mer_d['duration']<=0, 'duration'].count()"
      ]
    },
    {
      "cell_type": "code",
      "execution_count": null,
      "id": "56a6b328-c210-458a-af88-f2a6ab6adc10",
      "metadata": {
        "id": "56a6b328-c210-458a-af88-f2a6ab6adc10"
      },
      "outputs": [],
      "source": [
        "mer_d = mer_d[mer_d['duration']>0]"
      ]
    },
    {
      "cell_type": "markdown",
      "source": [
        "# Проверим распределение значений в комбинации жанров"
      ],
      "metadata": {
        "id": "j8t5T5DW7_El"
      },
      "id": "j8t5T5DW7_El"
    },
    {
      "cell_type": "code",
      "execution_count": null,
      "id": "ef4ebe7d-af14-4cf5-af07-492a6925f309",
      "metadata": {
        "id": "ef4ebe7d-af14-4cf5-af07-492a6925f309",
        "outputId": "ce09f250-a496-403a-d0eb-e148271179c9"
      },
      "outputs": [
        {
          "data": {
            "text/plain": [
              "array(['FOREIGNBARD, BARD', 'ELECTRONICS', 'ROCK, ALLROCK', 'DANCE',\n",
              "       'CHILDREN', 'CLASSICMETAL, METAL', 'HARDROCK, ALLROCK',\n",
              "       'FILMS, SOUNDTRACK', 'POP', 'METAL, METALCOREGENRE', 'RAP',\n",
              "       'RUSRAP, RAP', 'POP, RUSPOP', 'SOUL, RNB', 'INDIE',\n",
              "       'DANCE, EDMGENRE', 'FOLK, LATINFOLK', 'PUNK, POSTPUNK',\n",
              "       'ALTERNATIVE, POSTHARDCORE', 'ELECTRONICS, TRANCE',\n",
              "       'LOCAL-INDIE, INDIE', 'EPICMETAL, METAL', 'ALTERNATIVE, INDIE',\n",
              "       'DANCE, ELECTRONICS, HOUSE', 'POP, HYPERPOPGENRE', 'ALTERNATIVE',\n",
              "       'JAZZ, VOCALJAZZ', 'ALLROCK, RNR', '', 'POP, RNB',\n",
              "       'NEWAGE, ELECTRONICS', 'METAL, ALTERNATIVEMETAL', 'NUMETAL, METAL',\n",
              "       'UKRROCK, ALLROCK', 'POP, ASIAPOP', 'FOLK, CAUCASIAN',\n",
              "       'METAL, GOTHICMETAL', 'FOLK', 'ELECTRONICS, RAP',\n",
              "       'ALTERNATIVE, ROCK, ALLROCK',\n",
              "       'ALTERNATIVE, ROCK, FILMS, SOUNDTRACK, ALLROCK', 'METAL',\n",
              "       'DANCE, ELECTRONICS', 'ELECTRONICS, LOUNGE', 'DANCE, PHONKGENRE',\n",
              "       'POP, JAPANESEPOP', 'REGGAE, REGGAETON', 'PUNK',\n",
              "       'DANCE, ELECTRONICS, TRANCE', 'SPIRITUAL', 'ELECTRONICS, HOUSE',\n",
              "       'RNB', 'FOREIGNRAP, RAP', 'RUSROCK, ALLROCK',\n",
              "       'RUSESTRADA, ESTRADA', 'RUSRAP, POP, RUSPOP, RAP', 'COUNTRY',\n",
              "       'FOLK, AFRICAN', 'METAL, DOOMMETAL', 'POP, ROCK, ALLROCK',\n",
              "       'SOUNDTRACK', 'FORCHILDREN', 'METAL, DEATHMETAL',\n",
              "       'ROCK, BLUES, ALLROCK', 'ANIMATED, SOUNDTRACK',\n",
              "       'VIDEOGAME, SOUNDTRACK', 'METAL, BLACKMETAL',\n",
              "       'CLASSICAL, CLASSICALMUSIC', 'METAL, INDUSTRIAL', 'JAZZ, RELAX',\n",
              "       'POP, DANCE', 'SOUNDTRACK, ANIMEMUSIC', 'ELECTRONICS, BASSGENRE',\n",
              "       'ALLROCK', 'FOLKGENRE', 'POP, ALTERNATIVE', 'FORCHILDREN, LULLABY',\n",
              "       'POP, RAP', 'EASTERN, FOLK', 'RELAX', 'JAZZ', 'PROGMETAL, METAL',\n",
              "       'FOLKMETAL, METAL', 'METAL, THRASHMETAL', 'SPOKEN', 'SHANSON',\n",
              "       'ROCK, HARDROCK, ALLROCK', 'POP, COUNTRY',\n",
              "       'ALTERNATIVE, NUMETAL, METAL', 'ELECTRONICS, AMBIENTGENRE',\n",
              "       'CLASSICALMUSIC, VOCAL', 'ROCK, FOREIGNBARD, ALLROCK, BARD',\n",
              "       'ALTERNATIVE, HARDCORE', 'ELECTRONICS, TECHNO', 'POP, ELECTRONICS',\n",
              "       'POP, AZERBAIJANPOP', 'POP, FOLK, LATINFOLK',\n",
              "       'ALTERNATIVE, METAL, GOTHICMETAL', 'REGGAE', 'POP, DISCO', 'SKA',\n",
              "       'COUNTRY, RELAX', 'METAL, EXTREMEMETAL', 'ESTRADA',\n",
              "       'FOREIGNBARD, RNB, BARD', 'POP, SOUL, JAZZ, RNB, RELAX',\n",
              "       'POP, SOUNDTRACK', 'CLASSICMETAL, EPICMETAL, METAL',\n",
              "       'JAZZ, TRADJAZZ', 'POP, FOLK', 'JAZZ, SMOOTHJAZZ',\n",
              "       'ELECTRONICS, DUBSTEP', 'TURKISHROCK, ALLROCK', 'JAZZ, CONJAZZ',\n",
              "       'ELECTRONICS, BREAKBEATGENRE', 'POP, RELAX',\n",
              "       'POP, FOLKROCK, ALLROCK', 'ROCK, ALLROCK, RNR',\n",
              "       'FOLKROCK, ALLROCK', 'ROCK, PUNK, ALLROCK',\n",
              "       'FOREIGNRAP, METAL, RAP', 'ROCK, ALLROCK, RELAX',\n",
              "       'CLASSICALMUSIC, MODERN', 'POP, REGGAE, REGGAETON',\n",
              "       'FOLK, ESTRADA, EUROFOLK', 'BLUES', 'ROCK, ELECTRONICS, ALLROCK',\n",
              "       'POP, DANCE, RUSPOP, RNB', 'ALTERNATIVE, SOUNDTRACK',\n",
              "       'POP, SOUL, RNB', 'ROCK, SPIRITUAL, ALLROCK',\n",
              "       'POP, RUSESTRADA, ESTRADA', 'POP, ELECTRONICS, DNB',\n",
              "       'FOLK, BALKAN', 'FOLK, JAZZ, EUROFOLK', 'METAL, POSTMETAL',\n",
              "       'FUNK, RNB', 'POP, ALTERNATIVE, FOREIGNBARD, BARD',\n",
              "       'FOLK, AMERFOLK', 'POP, ROCK, PUNK, ALLROCK',\n",
              "       'TVSERIES, SOUNDTRACK', 'POP, ISRAELIPOP', 'POP, DANCE, DISCO',\n",
              "       'POP, MIZRAHI', 'ALLROCK, NEWWAVE', 'FOLK, EUROFOLK',\n",
              "       'ROCK, FILMS, SOUNDTRACK, ALLROCK',\n",
              "       'POP, DANCE, ELECTRONICS, HOUSE', 'POP, UZBEKPOP',\n",
              "       'POP, JAZZ, VOCALJAZZ', 'POP, ALLROCK, RNR',\n",
              "       'POP, FILMS, SOUNDTRACK', 'ELECTRONICS, TRIPHOPGENRE',\n",
              "       'FAIRYTALES', 'POP, DANCE, RUSPOP, PHONKGENRE',\n",
              "       'FOLK, FOREIGNBARD, BARD', 'ALTERNATIVE, ELECTRONICS',\n",
              "       'SOUNDTRACK, MUSICAL, ESTRADA', 'STONERROCK, ALLROCK',\n",
              "       'POP, REGGAE', 'POP, ESTRADA', 'POP, DANCE, DISCO, ELECTRONICS',\n",
              "       'FOLK, RUSFOLK', 'ALLROCK, ISRAELIROCK',\n",
              "       'ALTERNATIVE, ROCK, NUMETAL, METAL, ALLROCK',\n",
              "       'METAL, ELECTRONICS, INDUSTRIAL',\n",
              "       'ROCK, CLASSICMETAL, METAL, HARDROCK, ALLROCK',\n",
              "       'ELECTRONICS, LOUNGE, RELAX', 'POP, DISCO, ESTRADA',\n",
              "       'ALTERNATIVE, FOLK', 'RUSBARDS, BARD', 'ELECTRONICS, IDMGENRE',\n",
              "       'CLASSICMETAL, METAL, THRASHMETAL', 'DANCE, JAZZ',\n",
              "       'FOLK, ELECTRONICS', 'SOUNDTRACK, BOLLYWOOD', 'POP, DANCE, RUSPOP',\n",
              "       'ALLROCK, PROG'], dtype=object)"
            ]
          },
          "execution_count": 82,
          "metadata": {},
          "output_type": "execute_result"
        }
      ],
      "source": [
        "mer_d['genres'].unique()"
      ]
    },
    {
      "cell_type": "code",
      "execution_count": null,
      "id": "0dcf579f-48d5-478a-a18f-ed0c05fa7950",
      "metadata": {
        "id": "0dcf579f-48d5-478a-a18f-ed0c05fa7950",
        "outputId": "79cbecdf-9b56-4b18-96f7-19b65cad3174"
      },
      "outputs": [
        {
          "name": "stdout",
          "output_type": "stream",
          "text": [
            "Количество уникальных жанров: 28\n"
          ]
        }
      ],
      "source": [
        "unique_genres = set(item for sublist in mer_d[\"genres\"].dropna() for item in sublist)\n",
        "print(f\"Количество уникальных жанров: {len(unique_genres)}\")"
      ]
    },
    {
      "cell_type": "markdown",
      "source": [
        "# Исследуем корреляцию признаков"
      ],
      "metadata": {
        "id": "eqPxSttE8FJB"
      },
      "id": "eqPxSttE8FJB"
    },
    {
      "cell_type": "markdown",
      "id": "4d48e696-16f7-4bd1-9dcb-f6cc0d9439c3",
      "metadata": {
        "id": "4d48e696-16f7-4bd1-9dcb-f6cc0d9439c3"
      },
      "source": [
        "Проверим корреляцию с целевым признаком"
      ]
    },
    {
      "cell_type": "code",
      "execution_count": null,
      "id": "9c295f47-0380-437c-ad7d-8581babcdb8e",
      "metadata": {
        "id": "9c295f47-0380-437c-ad7d-8581babcdb8e",
        "outputId": "5d652890-e637-461a-c935-6549f099372f"
      },
      "outputs": [
        {
          "data": {
            "text/plain": [
              "0.24856769584427088"
            ]
          },
          "execution_count": 84,
          "metadata": {},
          "output_type": "execute_result"
        }
      ],
      "source": [
        "mer_d['duration'].corr(mer_d['exit'])"
      ]
    },
    {
      "cell_type": "markdown",
      "id": "55550a46-264b-4fcf-a37d-d5aac9e0107a",
      "metadata": {
        "id": "55550a46-264b-4fcf-a37d-d5aac9e0107a"
      },
      "source": [
        "Проверим корреляцию с категориальными признаками"
      ]
    },
    {
      "cell_type": "code",
      "execution_count": null,
      "id": "120da02e-b8aa-4c9d-a169-3648428a1431",
      "metadata": {
        "id": "120da02e-b8aa-4c9d-a169-3648428a1431"
      },
      "outputs": [],
      "source": [
        "cat = ['title', 'genres', 'lang']"
      ]
    },
    {
      "cell_type": "code",
      "execution_count": null,
      "id": "5cb8f386-e464-4227-83d1-89e8aef7ed49",
      "metadata": {
        "id": "5cb8f386-e464-4227-83d1-89e8aef7ed49"
      },
      "outputs": [],
      "source": [
        "def cramers_V(var1,var2) :\n",
        "    crosstab =np.array(pd.crosstab(var1,var2, rownames=None, colnames=None))\n",
        "    stat = chi2_contingency(crosstab)[0]\n",
        "    obs = np.sum(crosstab)\n",
        "    mini = min(crosstab.shape)-1\n",
        "    return (stat/(obs*mini))"
      ]
    },
    {
      "cell_type": "code",
      "execution_count": null,
      "id": "84831a68-1447-4503-8135-4104568aff39",
      "metadata": {
        "id": "84831a68-1447-4503-8135-4104568aff39",
        "outputId": "9806383f-7c91-4d67-a3bb-b38be81f528c"
      },
      "outputs": [
        {
          "data": {
            "text/html": [
              "<div>\n",
              "<style scoped>\n",
              "    .dataframe tbody tr th:only-of-type {\n",
              "        vertical-align: middle;\n",
              "    }\n",
              "\n",
              "    .dataframe tbody tr th {\n",
              "        vertical-align: top;\n",
              "    }\n",
              "\n",
              "    .dataframe thead th {\n",
              "        text-align: right;\n",
              "    }\n",
              "</style>\n",
              "<table border=\"1\" class=\"dataframe\">\n",
              "  <thead>\n",
              "    <tr style=\"text-align: right;\">\n",
              "      <th></th>\n",
              "      <th>title</th>\n",
              "      <th>genres</th>\n",
              "      <th>lang</th>\n",
              "    </tr>\n",
              "  </thead>\n",
              "  <tbody>\n",
              "    <tr>\n",
              "      <th>title</th>\n",
              "      <td>1.00</td>\n",
              "      <td>0.77</td>\n",
              "      <td>0.92</td>\n",
              "    </tr>\n",
              "    <tr>\n",
              "      <th>genres</th>\n",
              "      <td>0.77</td>\n",
              "      <td>1.00</td>\n",
              "      <td>0.11</td>\n",
              "    </tr>\n",
              "    <tr>\n",
              "      <th>lang</th>\n",
              "      <td>0.92</td>\n",
              "      <td>0.11</td>\n",
              "      <td>1.00</td>\n",
              "    </tr>\n",
              "  </tbody>\n",
              "</table>\n",
              "</div>"
            ],
            "text/plain": [
              "        title  genres  lang\n",
              "title    1.00    0.77  0.92\n",
              "genres   0.77    1.00  0.11\n",
              "lang     0.92    0.11  1.00"
            ]
          },
          "execution_count": 87,
          "metadata": {},
          "output_type": "execute_result"
        }
      ],
      "source": [
        "rows= []\n",
        "\n",
        "for var1 in mer_d[cat]:\n",
        "    col = []\n",
        "    for var2 in mer_d[cat]:\n",
        "        cramers =cramers_V(mer_d[cat][var1], mer_d[cat][var2])\n",
        "        col.append(round(cramers,2))\n",
        "    rows.append(col)\n",
        "\n",
        "cramers_results = np.array(rows)\n",
        "df = pd.DataFrame(cramers_results, columns =mer_d[cat].columns, index =mer_d[cat].columns)\n",
        "\n",
        "df"
      ]
    },
    {
      "cell_type": "markdown",
      "source": [
        "# Проверка содержания версии трека в названии трека"
      ],
      "metadata": {
        "id": "H8_mLHq97fic"
      },
      "id": "H8_mLHq97fic"
    },
    {
      "cell_type": "markdown",
      "id": "96db38d7-37cc-4faf-8d1d-39c58b7fbd62",
      "metadata": {
        "id": "96db38d7-37cc-4faf-8d1d-39c58b7fbd62"
      },
      "source": [
        "Проверим, есть ли в названии подсказки"
      ]
    },
    {
      "cell_type": "code",
      "execution_count": null,
      "id": "df89190a-58c7-4ebc-af36-4c4b3b4ab186",
      "metadata": {
        "id": "df89190a-58c7-4ebc-af36-4c4b3b4ab186",
        "outputId": "171bd782-4e68-4e24-f9b3-17b0e7dfd68e"
      },
      "outputs": [
        {
          "name": "stdout",
          "output_type": "stream",
          "text": [
            "[]\n"
          ]
        }
      ],
      "source": [
        "live_list = []\n",
        "for aaa in mer_d['title']:\n",
        "    if '(Live' in aaa:\n",
        "        live_list.append(aaa)\n",
        "    elif 'Live)' in aaa:\n",
        "        live_list.append(aaa)\n",
        "    elif '[Live' in aaa:\n",
        "        live_list.append(aaa)\n",
        "    elif 'Live]' in aaa:\n",
        "        live_list.append(aaa)\n",
        "    elif '- Live' in aaa:\n",
        "        live_list.append(aaa)\n",
        "    elif 'LIVE' in aaa:\n",
        "        live_list.append(aaa)\n",
        "print(live_list)"
      ]
    },
    {
      "cell_type": "code",
      "execution_count": null,
      "id": "5075c279-74bc-4fba-9dc4-ab91995a8175",
      "metadata": {
        "id": "5075c279-74bc-4fba-9dc4-ab91995a8175",
        "outputId": "bd403247-5a39-43a8-ced1-fd99b3dff524"
      },
      "outputs": [
        {
          "name": "stdout",
          "output_type": "stream",
          "text": [
            "['Too Much Of Heaven Luis Rodriguez Remix', 'Ameno Amapiano Remix (You Wanna Bamba)']\n"
          ]
        }
      ],
      "source": [
        "remix_list = []\n",
        "for aaa in mer_d['title']:\n",
        "    if 'remix' in aaa:\n",
        "        remix_list.append(aaa)\n",
        "    elif 'Remix' in aaa:\n",
        "        remix_list.append(aaa)\n",
        "print(remix_list)"
      ]
    },
    {
      "cell_type": "code",
      "execution_count": null,
      "id": "4dfc7f3a-0f82-429d-8ec6-73fc27723c81",
      "metadata": {
        "id": "4dfc7f3a-0f82-429d-8ec6-73fc27723c81",
        "outputId": "78f03e30-9804-4a2d-d92e-42ecafbf9d11"
      },
      "outputs": [
        {
          "name": "stdout",
          "output_type": "stream",
          "text": [
            "['Xo Spanish Version']\n"
          ]
        }
      ],
      "source": [
        "version_list = []\n",
        "for aaa in mer_d['title']:\n",
        "    if 'version' in aaa:\n",
        "        version_list.append(aaa)\n",
        "    elif 'Version' in aaa:\n",
        "        version_list.append(aaa)\n",
        "    elif 'VERSION' in aaa:\n",
        "        version_list.append(aaa)\n",
        "print(version_list)"
      ]
    },
    {
      "cell_type": "code",
      "execution_count": null,
      "id": "f65ef2ee-2e76-4347-ae69-ff2120beedfe",
      "metadata": {
        "id": "f65ef2ee-2e76-4347-ae69-ff2120beedfe",
        "outputId": "fbbfebad-080b-49dc-dc0f-3e7c92384e04"
      },
      "outputs": [
        {
          "name": "stdout",
          "output_type": "stream",
          "text": [
            "[]\n"
          ]
        }
      ],
      "source": [
        "remaster_list = []\n",
        "for aaa in mer_d['title']:\n",
        "    if 'remaster' in aaa:\n",
        "        remaster_list.append(aaa)\n",
        "    elif 'Remaster' in aaa:\n",
        "        remaster_list.append(aaa)\n",
        "    elif 'REMASTER' in aaa:\n",
        "        remaster_list.append(aaa)\n",
        "print(remaster_list)"
      ]
    },
    {
      "cell_type": "code",
      "execution_count": null,
      "id": "bdb513a8-47ae-4c1e-a7f0-250b738837ff",
      "metadata": {
        "id": "bdb513a8-47ae-4c1e-a7f0-250b738837ff",
        "outputId": "e68af500-ca9a-497f-c19d-ea590714db4b"
      },
      "outputs": [
        {
          "name": "stdout",
          "output_type": "stream",
          "text": [
            "[]\n"
          ]
        }
      ],
      "source": [
        "inst_list = []\n",
        "for aaa in mer_d['title']:\n",
        "    if 'Instrumental' in aaa:\n",
        "        inst_list.append(aaa)\n",
        "    elif 'instrumental' in aaa:\n",
        "        inst_list.append(aaa)\n",
        "    elif 'INSTRUMENTAL' in aaa:\n",
        "        inst_list.append(aaa)\n",
        "print(inst_list)"
      ]
    },
    {
      "cell_type": "markdown",
      "id": "330ba2e4-66f1-447e-b555-6d24ee197d62",
      "metadata": {
        "id": "330ba2e4-66f1-447e-b555-6d24ee197d62"
      },
      "source": [
        "Вывод: нам не удалось получить новые признаки с помощью названий"
      ]
    },
    {
      "cell_type": "markdown",
      "id": "1a8c154d-cd77-402b-b8c6-3a8d7a508b51",
      "metadata": {
        "id": "1a8c154d-cd77-402b-b8c6-3a8d7a508b51"
      },
      "source": [
        "# Лемматизация"
      ]
    },
    {
      "cell_type": "markdown",
      "source": [
        "## На данном этапе мы производим лемматизацию текста песен для генерации нового признака"
      ],
      "metadata": {
        "id": "NqR-psp58NqE"
      },
      "id": "NqR-psp58NqE"
    },
    {
      "cell_type": "code",
      "execution_count": null,
      "id": "db10035a-f7d9-4d9b-a4b4-1f27ad54fc04",
      "metadata": {
        "id": "db10035a-f7d9-4d9b-a4b4-1f27ad54fc04",
        "outputId": "a5327407-d099-4968-86f1-24e748db54d1"
      },
      "outputs": [
        {
          "name": "stderr",
          "output_type": "stream",
          "text": [
            "[nltk_data] Downloading package wordnet to\n",
            "[nltk_data]     /Users/anastasiaklubkova/nltk_data...\n",
            "[nltk_data]   Package wordnet is already up-to-date!\n",
            "[nltk_data] Downloading package omw-1.4 to\n",
            "[nltk_data]     /Users/anastasiaklubkova/nltk_data...\n",
            "[nltk_data]   Package omw-1.4 is already up-to-date!\n"
          ]
        },
        {
          "data": {
            "text/plain": [
              "True"
            ]
          },
          "execution_count": 93,
          "metadata": {},
          "output_type": "execute_result"
        }
      ],
      "source": [
        "nltk.download('wordnet')\n",
        "nltk.download('omw-1.4')"
      ]
    },
    {
      "cell_type": "code",
      "execution_count": null,
      "id": "aeb3c1db-8601-4b06-8043-52cbc74ae0c6",
      "metadata": {
        "id": "aeb3c1db-8601-4b06-8043-52cbc74ae0c6"
      },
      "outputs": [],
      "source": [
        "en = mer_d.loc[mer_d['lang'] != 'RU']"
      ]
    },
    {
      "cell_type": "code",
      "execution_count": null,
      "id": "ea57677c-1bf6-4603-8d96-45da868241c8",
      "metadata": {
        "id": "ea57677c-1bf6-4603-8d96-45da868241c8",
        "outputId": "53e7516f-2a5b-4b70-e347-2d20c0959b41"
      },
      "outputs": [
        {
          "data": {
            "text/html": [
              "<div>\n",
              "<style scoped>\n",
              "    .dataframe tbody tr th:only-of-type {\n",
              "        vertical-align: middle;\n",
              "    }\n",
              "\n",
              "    .dataframe tbody tr th {\n",
              "        vertical-align: top;\n",
              "    }\n",
              "\n",
              "    .dataframe thead th {\n",
              "        text-align: right;\n",
              "    }\n",
              "</style>\n",
              "<table border=\"1\" class=\"dataframe\">\n",
              "  <thead>\n",
              "    <tr style=\"text-align: right;\">\n",
              "      <th></th>\n",
              "      <th>track_id</th>\n",
              "      <th>lyric_id</th>\n",
              "      <th>text</th>\n",
              "      <th>title</th>\n",
              "      <th>isrc</th>\n",
              "      <th>genres</th>\n",
              "      <th>duration</th>\n",
              "      <th>data_time</th>\n",
              "      <th>lang</th>\n",
              "      <th>exit</th>\n",
              "    </tr>\n",
              "  </thead>\n",
              "  <tbody>\n",
              "    <tr>\n",
              "      <th>1</th>\n",
              "      <td>0faea89b0d7d6235b5b74def72511bd8</td>\n",
              "      <td>0c749bc3f01eb8e6cf986fa14ccfc585</td>\n",
              "      <td>Tell me your fable\\nA fable\\nTell me your fabl...</td>\n",
              "      <td>Children</td>\n",
              "      <td>QZS672199805</td>\n",
              "      <td>ELECTRONICS</td>\n",
              "      <td>214590.0</td>\n",
              "      <td>2021-08-04 13:08:25</td>\n",
              "      <td>EN</td>\n",
              "      <td>1</td>\n",
              "    </tr>\n",
              "    <tr>\n",
              "      <th>2</th>\n",
              "      <td>9c6dc41d5ccd9968d07f055da5d8f741</td>\n",
              "      <td>e2c8830fbc86e5964478243099eec23a</td>\n",
              "      <td>You're ashamed about all your fears and doubts...</td>\n",
              "      <td>Briane</td>\n",
              "      <td>USUM71006645</td>\n",
              "      <td>ROCK, ALLROCK</td>\n",
              "      <td>317910.0</td>\n",
              "      <td>2010-05-20 05:00:14</td>\n",
              "      <td>EN</td>\n",
              "      <td>0</td>\n",
              "    </tr>\n",
              "    <tr>\n",
              "      <th>3</th>\n",
              "      <td>bfd04a73e9cffdf0e282c92219a86ea1</td>\n",
              "      <td>e2c8830fbc86e5964478243099eec23a</td>\n",
              "      <td>You're ashamed about all your fears and doubts...</td>\n",
              "      <td>Briane</td>\n",
              "      <td>USM951100211</td>\n",
              "      <td>ROCK, ALLROCK</td>\n",
              "      <td>317860.0</td>\n",
              "      <td>2014-09-23 12:07:56</td>\n",
              "      <td>EN</td>\n",
              "      <td>0</td>\n",
              "    </tr>\n",
              "    <tr>\n",
              "      <th>4</th>\n",
              "      <td>8d70930d09cd239c948408d1317d8659</td>\n",
              "      <td>7624653ca8522ba93470843c74961b7d</td>\n",
              "      <td>You showed him all the best of you,\\nBut I'm a...</td>\n",
              "      <td>Broken Angel</td>\n",
              "      <td>USUM71006638</td>\n",
              "      <td>ROCK, ALLROCK</td>\n",
              "      <td>321280.0</td>\n",
              "      <td>2010-05-20 05:00:14</td>\n",
              "      <td>EN</td>\n",
              "      <td>0</td>\n",
              "    </tr>\n",
              "    <tr>\n",
              "      <th>5</th>\n",
              "      <td>b12ecdeac6ac42e1ecac96f9f15b1159</td>\n",
              "      <td>7624653ca8522ba93470843c74961b7d</td>\n",
              "      <td>You showed him all the best of you,\\nBut I'm a...</td>\n",
              "      <td>Broken Angel</td>\n",
              "      <td>USM951100203</td>\n",
              "      <td>ROCK, ALLROCK</td>\n",
              "      <td>321220.0</td>\n",
              "      <td>2014-09-23 12:07:56</td>\n",
              "      <td>EN</td>\n",
              "      <td>0</td>\n",
              "    </tr>\n",
              "  </tbody>\n",
              "</table>\n",
              "</div>"
            ],
            "text/plain": [
              "                           track_id                          lyric_id  \\\n",
              "1  0faea89b0d7d6235b5b74def72511bd8  0c749bc3f01eb8e6cf986fa14ccfc585   \n",
              "2  9c6dc41d5ccd9968d07f055da5d8f741  e2c8830fbc86e5964478243099eec23a   \n",
              "3  bfd04a73e9cffdf0e282c92219a86ea1  e2c8830fbc86e5964478243099eec23a   \n",
              "4  8d70930d09cd239c948408d1317d8659  7624653ca8522ba93470843c74961b7d   \n",
              "5  b12ecdeac6ac42e1ecac96f9f15b1159  7624653ca8522ba93470843c74961b7d   \n",
              "\n",
              "                                                text         title  \\\n",
              "1  Tell me your fable\\nA fable\\nTell me your fabl...      Children   \n",
              "2  You're ashamed about all your fears and doubts...        Briane   \n",
              "3  You're ashamed about all your fears and doubts...        Briane   \n",
              "4  You showed him all the best of you,\\nBut I'm a...  Broken Angel   \n",
              "5  You showed him all the best of you,\\nBut I'm a...  Broken Angel   \n",
              "\n",
              "           isrc         genres  duration           data_time lang  exit  \n",
              "1  QZS672199805    ELECTRONICS  214590.0 2021-08-04 13:08:25   EN     1  \n",
              "2  USUM71006645  ROCK, ALLROCK  317910.0 2010-05-20 05:00:14   EN     0  \n",
              "3  USM951100211  ROCK, ALLROCK  317860.0 2014-09-23 12:07:56   EN     0  \n",
              "4  USUM71006638  ROCK, ALLROCK  321280.0 2010-05-20 05:00:14   EN     0  \n",
              "5  USM951100203  ROCK, ALLROCK  321220.0 2014-09-23 12:07:56   EN     0  "
            ]
          },
          "execution_count": 95,
          "metadata": {},
          "output_type": "execute_result"
        }
      ],
      "source": [
        "en.head()"
      ]
    },
    {
      "cell_type": "code",
      "execution_count": null,
      "id": "89924806-50e4-4453-88b9-e76566dd742e",
      "metadata": {
        "id": "89924806-50e4-4453-88b9-e76566dd742e"
      },
      "outputs": [],
      "source": [
        "ru = mer_d.loc[mer_d['lang'] == 'RU']"
      ]
    },
    {
      "cell_type": "code",
      "execution_count": null,
      "id": "7f9b963c-509a-40a7-94a5-07775c96ac25",
      "metadata": {
        "id": "7f9b963c-509a-40a7-94a5-07775c96ac25",
        "outputId": "dbcf8a9c-9bda-4256-f9bc-e9d6b224010c"
      },
      "outputs": [
        {
          "data": {
            "text/html": [
              "<div>\n",
              "<style scoped>\n",
              "    .dataframe tbody tr th:only-of-type {\n",
              "        vertical-align: middle;\n",
              "    }\n",
              "\n",
              "    .dataframe tbody tr th {\n",
              "        vertical-align: top;\n",
              "    }\n",
              "\n",
              "    .dataframe thead th {\n",
              "        text-align: right;\n",
              "    }\n",
              "</style>\n",
              "<table border=\"1\" class=\"dataframe\">\n",
              "  <thead>\n",
              "    <tr style=\"text-align: right;\">\n",
              "      <th></th>\n",
              "      <th>track_id</th>\n",
              "      <th>lyric_id</th>\n",
              "      <th>text</th>\n",
              "      <th>title</th>\n",
              "      <th>isrc</th>\n",
              "      <th>genres</th>\n",
              "      <th>duration</th>\n",
              "      <th>data_time</th>\n",
              "      <th>lang</th>\n",
              "      <th>exit</th>\n",
              "    </tr>\n",
              "  </thead>\n",
              "  <tbody>\n",
              "    <tr>\n",
              "      <th>0</th>\n",
              "      <td>1c4b1230f937e4c548ff732523214dcd</td>\n",
              "      <td>a951f9504e89759e9d23039b7b17ec14</td>\n",
              "      <td>Живу сейчас обломами, обломками не той любви\\n...</td>\n",
              "      <td>Сарафан</td>\n",
              "      <td>AEA0D1860569</td>\n",
              "      <td>FOREIGNBARD, BARD</td>\n",
              "      <td>140000.0</td>\n",
              "      <td>2018-09-26 02:24:21</td>\n",
              "      <td>RU</td>\n",
              "      <td>0</td>\n",
              "    </tr>\n",
              "    <tr>\n",
              "      <th>31</th>\n",
              "      <td>77b6c9cc4fa8e707576933c461915dd9</td>\n",
              "      <td>971d8511d1d8d1f9b0fb130aa0f07116</td>\n",
              "      <td>Знаешь, это меня не покидает\\nТы именно та, не...</td>\n",
              "      <td>Голоса</td>\n",
              "      <td>RUA591801313</td>\n",
              "      <td>RUSRAP, RAP</td>\n",
              "      <td>206400.0</td>\n",
              "      <td>2019-10-07 21:00:00</td>\n",
              "      <td>RU</td>\n",
              "      <td>0</td>\n",
              "    </tr>\n",
              "    <tr>\n",
              "      <th>32</th>\n",
              "      <td>f201675520b61e81c51ec2ae9bafe969</td>\n",
              "      <td>c3a8663459ebaead53ec40faa0737b17</td>\n",
              "      <td>Пристегни ремни, нам пора взлетать\\nЗнаешь, эт...</td>\n",
              "      <td>Самолёты</td>\n",
              "      <td>RUA591800991</td>\n",
              "      <td>POP, RUSPOP</td>\n",
              "      <td>188560.0</td>\n",
              "      <td>2018-10-11 21:00:00</td>\n",
              "      <td>RU</td>\n",
              "      <td>0</td>\n",
              "    </tr>\n",
              "    <tr>\n",
              "      <th>35</th>\n",
              "      <td>b25df48f6f4d7ee15ae434a987e2005e</td>\n",
              "      <td>7d8aa064320d8b53e2704099e825f9a5</td>\n",
              "      <td>Eldar-Q\\nЯ так тебя ждал\\nТы меня опять-опять ...</td>\n",
              "      <td>Обманула</td>\n",
              "      <td>RUA1D1820660</td>\n",
              "      <td>POP, RUSPOP</td>\n",
              "      <td>165250.0</td>\n",
              "      <td>2023-09-03 21:00:00</td>\n",
              "      <td>RU</td>\n",
              "      <td>0</td>\n",
              "    </tr>\n",
              "    <tr>\n",
              "      <th>40</th>\n",
              "      <td>95021f4cca449d08adc2b722cb580095</td>\n",
              "      <td>40c9579e51fd9bbb9d43d3cdb8fe6cbb</td>\n",
              "      <td>Помню как быстро закрывались двери\\n(А еще пом...</td>\n",
              "      <td>Серпантин</td>\n",
              "      <td>TCADX1829554</td>\n",
              "      <td>RUSRAP, RAP</td>\n",
              "      <td>186650.0</td>\n",
              "      <td>2022-08-10 21:00:00</td>\n",
              "      <td>RU</td>\n",
              "      <td>0</td>\n",
              "    </tr>\n",
              "  </tbody>\n",
              "</table>\n",
              "</div>"
            ],
            "text/plain": [
              "                            track_id                          lyric_id  \\\n",
              "0   1c4b1230f937e4c548ff732523214dcd  a951f9504e89759e9d23039b7b17ec14   \n",
              "31  77b6c9cc4fa8e707576933c461915dd9  971d8511d1d8d1f9b0fb130aa0f07116   \n",
              "32  f201675520b61e81c51ec2ae9bafe969  c3a8663459ebaead53ec40faa0737b17   \n",
              "35  b25df48f6f4d7ee15ae434a987e2005e  7d8aa064320d8b53e2704099e825f9a5   \n",
              "40  95021f4cca449d08adc2b722cb580095  40c9579e51fd9bbb9d43d3cdb8fe6cbb   \n",
              "\n",
              "                                                 text      title  \\\n",
              "0   Живу сейчас обломами, обломками не той любви\\n...    Сарафан   \n",
              "31  Знаешь, это меня не покидает\\nТы именно та, не...     Голоса   \n",
              "32  Пристегни ремни, нам пора взлетать\\nЗнаешь, эт...   Самолёты   \n",
              "35  Eldar-Q\\nЯ так тебя ждал\\nТы меня опять-опять ...   Обманула   \n",
              "40  Помню как быстро закрывались двери\\n(А еще пом...  Серпантин   \n",
              "\n",
              "            isrc             genres  duration           data_time lang  exit  \n",
              "0   AEA0D1860569  FOREIGNBARD, BARD  140000.0 2018-09-26 02:24:21   RU     0  \n",
              "31  RUA591801313        RUSRAP, RAP  206400.0 2019-10-07 21:00:00   RU     0  \n",
              "32  RUA591800991        POP, RUSPOP  188560.0 2018-10-11 21:00:00   RU     0  \n",
              "35  RUA1D1820660        POP, RUSPOP  165250.0 2023-09-03 21:00:00   RU     0  \n",
              "40  TCADX1829554        RUSRAP, RAP  186650.0 2022-08-10 21:00:00   RU     0  "
            ]
          },
          "execution_count": 97,
          "metadata": {},
          "output_type": "execute_result"
        }
      ],
      "source": [
        "ru.head()"
      ]
    },
    {
      "cell_type": "code",
      "execution_count": null,
      "id": "9843b154-c311-4152-9c00-3b82ea9ccb5e",
      "metadata": {
        "id": "9843b154-c311-4152-9c00-3b82ea9ccb5e"
      },
      "outputs": [],
      "source": [
        "def clear_text_en(text):\n",
        "    clear_text = re.sub(r'[^a-zA-Z]+', ' ', text).lower()\n",
        "    return \" \".join(clear_text.split())\n",
        "\n",
        "\n",
        "def clean_stop_words_en(text, stopwords):\n",
        "    text = [word for word in text.split() if word not in stopwords]\n",
        "    return \" \".join(text)"
      ]
    },
    {
      "cell_type": "code",
      "execution_count": null,
      "id": "23bad7c3-d306-4932-aa69-78c722e28df4",
      "metadata": {
        "id": "23bad7c3-d306-4932-aa69-78c722e28df4"
      },
      "outputs": [],
      "source": [
        "def clear_text_ru(text):\n",
        "    clear_text = re.sub(r'[^а-яА-Я]+', ' ', text).lower()\n",
        "    return \" \".join(clear_text.split())\n",
        "\n",
        "\n",
        "def clean_stop_words_ru(text, stopwords):\n",
        "    text = [word for word in text.split() if word not in stopwords]\n",
        "    return \" \".join(text)"
      ]
    },
    {
      "cell_type": "code",
      "execution_count": null,
      "id": "e3598932-aaae-4b44-83c4-3d3aa3fa4054",
      "metadata": {
        "id": "e3598932-aaae-4b44-83c4-3d3aa3fa4054",
        "outputId": "2626467b-679d-48f9-fa84-19c8864d56c6"
      },
      "outputs": [
        {
          "name": "stdout",
          "output_type": "stream",
          "text": [
            "{'before', 'isn', 'than', 'yourself', 'haven', \"you'll\", 'hasn', 'shouldn', 'was', 'further', \"weren't\", \"haven't\", 'yours', 'of', 'just', \"you'd\", 'my', 'again', 'so', 'you', 'ourselves', 'been', 'weren', \"shouldn't\", 'for', 'we', \"you're\", \"won't\", 'couldn', 'mightn', \"mightn't\", 'as', 'has', 'who', 'above', 'how', 'will', 'our', 'they', 'there', 'mustn', 'over', 'she', \"that'll\", 'why', 'won', 'themselves', 'had', 's', \"she's\", 'that', 'hadn', 'd', 'where', 'these', 'about', 'some', 've', 'him', 't', 'which', 'have', \"hadn't\", 'ours', 'with', 'me', 'don', 'because', 'while', 'her', 'what', 'being', 'into', 're', 'be', \"hasn't\", \"didn't\", 'didn', 'he', 'same', 'under', 'or', 'if', 'are', 'your', 'his', 'too', 'yourselves', 'do', 'from', 'o', 'did', 'most', 'myself', 'through', \"needn't\", 'until', \"you've\", 'but', 'its', 'an', 'once', 'between', 'doesn', 'own', 'll', 'on', 'few', 'more', 'is', 'each', 'himself', 'needn', 'any', 'such', \"don't\", 'i', 'whom', 'now', 'wasn', 'herself', 'not', 'and', 'only', 'in', 'out', \"aren't\", 'am', \"should've\", 'it', 'those', 'were', 'very', 'to', 'ma', 'during', 'theirs', \"it's\", 'should', 'having', 'their', 'off', 'aren', 'down', 'at', 'all', 'a', 'both', 'y', 'no', 'shan', 'below', 'after', 'ain', 'doing', 'the', \"wasn't\", 'this', 'them', 'up', 'can', 'hers', 'does', 'against', 'nor', 'then', 'here', \"couldn't\", 'wouldn', 'other', \"wouldn't\", 'm', \"mustn't\", 'itself', 'when', \"doesn't\", \"isn't\", \"shan't\", 'by'}\n"
          ]
        }
      ],
      "source": [
        "stopwords_1 = set(nltk_stopwords.words('english'))\n",
        "print(np.array(stopwords_1))"
      ]
    },
    {
      "cell_type": "code",
      "execution_count": null,
      "id": "83399cfb-c678-48f8-8f8d-902278352839",
      "metadata": {
        "id": "83399cfb-c678-48f8-8f8d-902278352839",
        "outputId": "37675b3e-c9fa-4843-e260-393aa15e2420"
      },
      "outputs": [
        {
          "name": "stdout",
          "output_type": "stream",
          "text": [
            "{'меня', 'быть', 'нас', 'всех', 'вот', 'я', 'были', 'над', 'можно', 'у', 'так', 'по', 'чего', 'себе', 'же', 'он', 'его', 'тебя', 'теперь', 'раз', 'никогда', 'ее', 'со', 'их', 'только', 'будто', 'нет', 'ведь', 'том', 'с', 'совсем', 'во', 'чуть', 'ней', 'а', 'уже', 'до', 'здесь', 'зачем', 'к', 'о', 'этой', 'без', 'почти', 'про', 'как', 'будет', 'всего', 'нее', 'сам', 'него', 'этом', 'через', 'ему', 'для', 'такой', 'в', 'об', 'потом', 'между', 'вам', 'было', 'впрочем', 'всегда', 'нибудь', 'из', 'им', 'она', 'тот', 'иногда', 'этого', 'при', 'от', 'конечно', 'да', 'ни', 'наконец', 'ну', 'чтоб', 'вы', 'опять', 'не', 'мы', 'более', 'эти', 'чтобы', 'лучше', 'другой', 'может', 'то', 'надо', 'мне', 'тем', 'за', 'где', 'эту', 'если', 'тоже', 'этот', 'три', 'есть', 'еще', 'вас', 'бы', 'тогда', 'был', 'там', 'нельзя', 'или', 'ж', 'какая', 'себя', 'они', 'того', 'сейчас', 'но', 'ты', 'после', 'даже', 'ей', 'много', 'хорошо', 'них', 'ничего', 'перед', 'мой', 'разве', 'чем', 'свою', 'вдруг', 'была', 'куда', 'один', 'ним', 'и', 'когда', 'хоть', 'два', 'моя', 'на', 'больше', 'уж', 'что', 'какой', 'потому', 'кто', 'все', 'всю', 'тут', 'ли', 'под'}\n"
          ]
        }
      ],
      "source": [
        "stopwords_2 = set(nltk_stopwords.words('russian'))\n",
        "print(np.array(stopwords_2))"
      ]
    },
    {
      "cell_type": "code",
      "execution_count": null,
      "id": "7d643c17-20cc-4264-8802-fc5f804b45fb",
      "metadata": {
        "id": "7d643c17-20cc-4264-8802-fc5f804b45fb",
        "outputId": "1223c34a-38cc-42cb-c374-128404f87edd"
      },
      "outputs": [
        {
          "name": "stderr",
          "output_type": "stream",
          "text": [
            "/var/folders/m0/wj_cjqvj2q1g_gn5y_gpxlch0000gn/T/ipykernel_44059/578118293.py:1: SettingWithCopyWarning: \n",
            "A value is trying to be set on a copy of a slice from a DataFrame.\n",
            "Try using .loc[row_indexer,col_indexer] = value instead\n",
            "\n",
            "See the caveats in the documentation: https://pandas.pydata.org/pandas-docs/stable/user_guide/indexing.html#returning-a-view-versus-a-copy\n",
            "  en['text_clear'] = 'aaa'\n"
          ]
        }
      ],
      "source": [
        "en['text_clear'] = 'aaa'"
      ]
    },
    {
      "cell_type": "code",
      "execution_count": null,
      "id": "d81be79a-3325-4f1b-85f0-172a367b95a5",
      "metadata": {
        "id": "d81be79a-3325-4f1b-85f0-172a367b95a5",
        "outputId": "871febb7-7ed5-402d-8a17-1b6f7e19257c"
      },
      "outputs": [
        {
          "name": "stderr",
          "output_type": "stream",
          "text": [
            "/var/folders/m0/wj_cjqvj2q1g_gn5y_gpxlch0000gn/T/ipykernel_44059/3223073604.py:1: SettingWithCopyWarning: \n",
            "A value is trying to be set on a copy of a slice from a DataFrame.\n",
            "Try using .loc[row_indexer,col_indexer] = value instead\n",
            "\n",
            "See the caveats in the documentation: https://pandas.pydata.org/pandas-docs/stable/user_guide/indexing.html#returning-a-view-versus-a-copy\n",
            "  ru['text_clear'] = 'aaa'\n"
          ]
        }
      ],
      "source": [
        "ru['text_clear'] = 'aaa'"
      ]
    },
    {
      "cell_type": "code",
      "execution_count": null,
      "id": "71af98fa-174c-4001-a9b6-21bde981f564",
      "metadata": {
        "id": "71af98fa-174c-4001-a9b6-21bde981f564",
        "outputId": "afb01099-aa76-44ef-c1f5-39bc980f21aa"
      },
      "outputs": [
        {
          "name": "stdout",
          "output_type": "stream",
          "text": [
            "Обработка текстов заняла: 0.95 секунд\n"
          ]
        },
        {
          "name": "stderr",
          "output_type": "stream",
          "text": [
            "/var/folders/m0/wj_cjqvj2q1g_gn5y_gpxlch0000gn/T/ipykernel_44059/1607455763.py:3: SettingWithCopyWarning: \n",
            "A value is trying to be set on a copy of a slice from a DataFrame.\n",
            "Try using .loc[row_indexer,col_indexer] = value instead\n",
            "\n",
            "See the caveats in the documentation: https://pandas.pydata.org/pandas-docs/stable/user_guide/indexing.html#returning-a-view-versus-a-copy\n",
            "  en['text_clear'] = en['text'].apply(lambda x: clean_stop_words_en(clear_text_en(str(x)), stopwords_1))\n"
          ]
        }
      ],
      "source": [
        "start_clean = time()\n",
        "\n",
        "en['text_clear'] = en['text'].apply(lambda x: clean_stop_words_en(clear_text_en(str(x)), stopwords_1))\n",
        "\n",
        "print('Обработка текстов заняла: '+str(round(time() - start_clean, 2))+' секунд')"
      ]
    },
    {
      "cell_type": "code",
      "execution_count": null,
      "id": "e09fc572-3461-4bf0-b243-e4b4d0d3c889",
      "metadata": {
        "id": "e09fc572-3461-4bf0-b243-e4b4d0d3c889",
        "outputId": "4136edad-278d-4b6e-9018-e0de501cdf48"
      },
      "outputs": [
        {
          "name": "stdout",
          "output_type": "stream",
          "text": [
            "Обработка текстов заняла: 0.25 секунд\n"
          ]
        },
        {
          "name": "stderr",
          "output_type": "stream",
          "text": [
            "/var/folders/m0/wj_cjqvj2q1g_gn5y_gpxlch0000gn/T/ipykernel_44059/2677153150.py:3: SettingWithCopyWarning: \n",
            "A value is trying to be set on a copy of a slice from a DataFrame.\n",
            "Try using .loc[row_indexer,col_indexer] = value instead\n",
            "\n",
            "See the caveats in the documentation: https://pandas.pydata.org/pandas-docs/stable/user_guide/indexing.html#returning-a-view-versus-a-copy\n",
            "  ru['text_clear'] = ru['text'].apply(lambda x: clean_stop_words_ru(clear_text_ru(str(x)), stopwords_2))\n"
          ]
        }
      ],
      "source": [
        "start_clean = time()\n",
        "\n",
        "ru['text_clear'] = ru['text'].apply(lambda x: clean_stop_words_ru(clear_text_ru(str(x)), stopwords_2))\n",
        "\n",
        "print('Обработка текстов заняла: '+str(round(time() - start_clean, 2))+' секунд')"
      ]
    },
    {
      "cell_type": "code",
      "execution_count": null,
      "id": "34734d33-9fa4-4e3e-a97d-b520aaa7b485",
      "metadata": {
        "id": "34734d33-9fa4-4e3e-a97d-b520aaa7b485",
        "outputId": "574ec227-7525-494e-d045-dbbf87441511"
      },
      "outputs": [
        {
          "data": {
            "text/plain": [
              "1        tell fable fable tell fable tell fable tell fa...\n",
              "2        ashamed fears doubts hurt make back aftermath ...\n",
              "3        ashamed fears doubts hurt make back aftermath ...\n",
              "4        showed best afraid best good enough know never...\n",
              "5        showed best afraid best good enough know never...\n",
              "                               ...                        \n",
              "11408    came window sound crescendo ah came apartment ...\n",
              "11409    little plans schemes lost like forgotten dream...\n",
              "11410    make way trying survive another day day day da...\n",
              "11411    left good job city working man ev ry night day...\n",
              "11412    left good job city working man ev ry night day...\n",
              "Name: text_clear, Length: 9074, dtype: object"
            ]
          },
          "execution_count": 106,
          "metadata": {},
          "output_type": "execute_result"
        }
      ],
      "source": [
        "en['text_clear']"
      ]
    },
    {
      "cell_type": "code",
      "execution_count": null,
      "id": "64d0122d-ec0c-4005-918b-57e3d9221379",
      "metadata": {
        "id": "64d0122d-ec0c-4005-918b-57e3d9221379",
        "outputId": "3ea5b6b0-b9aa-4194-e2de-c396c71dcf5d"
      },
      "outputs": [
        {
          "data": {
            "text/plain": [
              "0        живу обломами обломками той любви попытками лю...\n",
              "31       знаешь это покидает именно та подделка китая к...\n",
              "32       пристегни ремни нам пора взлетать знаешь это л...\n",
              "35       ждал обманула ищу фонтан тобой договорились эт...\n",
              "40       помню быстро закрывались двери помню звук силь...\n",
              "                               ...                        \n",
              "11391    беспощадна нарядна горишь огн м горишь огн м г...\n",
              "11400    маяк возможно захочешь найти маяк покажет путь...\n",
              "11402    хочешь узнать оу знаю выда т твой недопитый бо...\n",
              "11405    ой девчонки хана ой влюбилась пацана ой девчон...\n",
              "11413    ночью чь сердце любви горит вс внутри это ч м ...\n",
              "Name: text_clear, Length: 2211, dtype: object"
            ]
          },
          "execution_count": 107,
          "metadata": {},
          "output_type": "execute_result"
        }
      ],
      "source": [
        "ru['text_clear']"
      ]
    },
    {
      "cell_type": "code",
      "execution_count": null,
      "id": "417a7515-645e-42d8-b527-8be42a72270e",
      "metadata": {
        "id": "417a7515-645e-42d8-b527-8be42a72270e",
        "outputId": "cbe04a08-1815-456f-da6f-d19609b0e83b"
      },
      "outputs": [
        {
          "name": "stderr",
          "output_type": "stream",
          "text": [
            "/Applications/Anaconda3/anaconda3/lib/python3.9/site-packages/spacy/util.py:910: UserWarning: [W095] Model 'en_core_web_sm' (3.6.0) was trained with spaCy v3.6.0 and may not be 100% compatible with the current version (3.7.2). If you see errors or degraded performance, download a newer compatible model or retrain your custom model with the current spaCy version. For more details and available updates, run: python -m spacy validate\n",
            "  warnings.warn(warn_msg)\n"
          ]
        }
      ],
      "source": [
        "nlp_en = spacy.load('en_core_web_sm', disable=['parser', 'ner'])"
      ]
    },
    {
      "cell_type": "code",
      "execution_count": null,
      "id": "172b7fdb-828c-42af-9d38-0639a8a72b1b",
      "metadata": {
        "id": "172b7fdb-828c-42af-9d38-0639a8a72b1b"
      },
      "outputs": [],
      "source": [
        "def lemmatize_en(doc):\n",
        "    doc = nlp_en(doc)\n",
        "    return \" \".join([token.lemma_ for token in doc])"
      ]
    },
    {
      "cell_type": "code",
      "execution_count": null,
      "id": "1ae07445-750f-41cf-99e2-c24624764453",
      "metadata": {
        "id": "1ae07445-750f-41cf-99e2-c24624764453",
        "outputId": "495585f3-c388-4cf6-8027-ce14634404c2"
      },
      "outputs": [
        {
          "data": {
            "text/plain": [
              "'tell fable fable tell fable tell fable tell fable fable tell fable talk tenderly show reality fantasy bind together win one feat talk tenderly show reality fantasy bind together win one feat fable fable ah fable fable tell fable tell fable fable fable fable never end dream dream dream'"
            ]
          },
          "execution_count": 110,
          "metadata": {},
          "output_type": "execute_result"
        }
      ],
      "source": [
        "lemmatize_en(en['text_clear'].iloc[0])"
      ]
    },
    {
      "cell_type": "code",
      "execution_count": null,
      "id": "f788210d-572a-43b1-95db-871252266c4e",
      "metadata": {
        "id": "f788210d-572a-43b1-95db-871252266c4e",
        "outputId": "441ba128-5b8e-4368-eafb-32a0308f817e"
      },
      "outputs": [
        {
          "name": "stdout",
          "output_type": "stream",
          "text": [
            "CPU times: user 1min 10s, sys: 183 ms, total: 1min 10s\n",
            "Wall time: 1min 10s\n"
          ]
        },
        {
          "name": "stderr",
          "output_type": "stream",
          "text": [
            "<timed exec>:1: SettingWithCopyWarning: \n",
            "A value is trying to be set on a copy of a slice from a DataFrame.\n",
            "Try using .loc[row_indexer,col_indexer] = value instead\n",
            "\n",
            "See the caveats in the documentation: https://pandas.pydata.org/pandas-docs/stable/user_guide/indexing.html#returning-a-view-versus-a-copy\n"
          ]
        }
      ],
      "source": [
        "%time en['lemm'] = en['text_clear'].apply(lemmatize_en)"
      ]
    },
    {
      "cell_type": "code",
      "execution_count": null,
      "id": "6acc921e-80ff-499d-89cb-c07c72ad97ff",
      "metadata": {
        "id": "6acc921e-80ff-499d-89cb-c07c72ad97ff",
        "outputId": "1be7fec1-0326-4ac0-eb51-4878fe07fb65"
      },
      "outputs": [
        {
          "name": "stdout",
          "output_type": "stream",
          "text": [
            "Collecting ru-core-news-sm==3.7.0\n",
            "  Downloading https://github.com/explosion/spacy-models/releases/download/ru_core_news_sm-3.7.0/ru_core_news_sm-3.7.0-py3-none-any.whl (15.3 MB)\n",
            "\u001b[2K     \u001b[90m━━━━━━━━━━━━━━━━━━━━━━━━━━━━━━━━━━━━━━━━\u001b[0m \u001b[32m15.3/15.3 MB\u001b[0m \u001b[31m1.1 MB/s\u001b[0m eta \u001b[36m0:00:00\u001b[0m00:01\u001b[0m00:01\u001b[0mm\n",
            "\u001b[?25hRequirement already satisfied: spacy<3.8.0,>=3.7.0 in /Applications/Anaconda3/anaconda3/lib/python3.9/site-packages (from ru-core-news-sm==3.7.0) (3.7.2)\n",
            "Requirement already satisfied: pymorphy3>=1.0.0 in /Applications/Anaconda3/anaconda3/lib/python3.9/site-packages (from ru-core-news-sm==3.7.0) (1.2.1)\n",
            "Requirement already satisfied: dawg-python>=0.7.1 in /Applications/Anaconda3/anaconda3/lib/python3.9/site-packages (from pymorphy3>=1.0.0->ru-core-news-sm==3.7.0) (0.7.2)\n",
            "Requirement already satisfied: docopt-ng>=0.6 in /Applications/Anaconda3/anaconda3/lib/python3.9/site-packages (from pymorphy3>=1.0.0->ru-core-news-sm==3.7.0) (0.9.0)\n",
            "Requirement already satisfied: pymorphy3-dicts-ru in /Applications/Anaconda3/anaconda3/lib/python3.9/site-packages (from pymorphy3>=1.0.0->ru-core-news-sm==3.7.0) (2.4.417150.4580142)\n",
            "Requirement already satisfied: spacy-legacy<3.1.0,>=3.0.11 in /Applications/Anaconda3/anaconda3/lib/python3.9/site-packages (from spacy<3.8.0,>=3.7.0->ru-core-news-sm==3.7.0) (3.0.12)\n",
            "Requirement already satisfied: spacy-loggers<2.0.0,>=1.0.0 in /Applications/Anaconda3/anaconda3/lib/python3.9/site-packages (from spacy<3.8.0,>=3.7.0->ru-core-news-sm==3.7.0) (1.0.5)\n",
            "Requirement already satisfied: murmurhash<1.1.0,>=0.28.0 in /Applications/Anaconda3/anaconda3/lib/python3.9/site-packages (from spacy<3.8.0,>=3.7.0->ru-core-news-sm==3.7.0) (1.0.10)\n",
            "Requirement already satisfied: cymem<2.1.0,>=2.0.2 in /Applications/Anaconda3/anaconda3/lib/python3.9/site-packages (from spacy<3.8.0,>=3.7.0->ru-core-news-sm==3.7.0) (2.0.8)\n",
            "Requirement already satisfied: preshed<3.1.0,>=3.0.2 in /Applications/Anaconda3/anaconda3/lib/python3.9/site-packages (from spacy<3.8.0,>=3.7.0->ru-core-news-sm==3.7.0) (3.0.9)\n",
            "Requirement already satisfied: thinc<8.3.0,>=8.1.8 in /Applications/Anaconda3/anaconda3/lib/python3.9/site-packages (from spacy<3.8.0,>=3.7.0->ru-core-news-sm==3.7.0) (8.2.1)\n",
            "Requirement already satisfied: wasabi<1.2.0,>=0.9.1 in /Applications/Anaconda3/anaconda3/lib/python3.9/site-packages (from spacy<3.8.0,>=3.7.0->ru-core-news-sm==3.7.0) (1.1.2)\n",
            "Requirement already satisfied: srsly<3.0.0,>=2.4.3 in /Applications/Anaconda3/anaconda3/lib/python3.9/site-packages (from spacy<3.8.0,>=3.7.0->ru-core-news-sm==3.7.0) (2.4.8)\n",
            "Requirement already satisfied: catalogue<2.1.0,>=2.0.6 in /Applications/Anaconda3/anaconda3/lib/python3.9/site-packages (from spacy<3.8.0,>=3.7.0->ru-core-news-sm==3.7.0) (2.0.10)\n",
            "Requirement already satisfied: weasel<0.4.0,>=0.1.0 in /Applications/Anaconda3/anaconda3/lib/python3.9/site-packages (from spacy<3.8.0,>=3.7.0->ru-core-news-sm==3.7.0) (0.3.3)\n",
            "Requirement already satisfied: typer<0.10.0,>=0.3.0 in /Applications/Anaconda3/anaconda3/lib/python3.9/site-packages (from spacy<3.8.0,>=3.7.0->ru-core-news-sm==3.7.0) (0.9.0)\n",
            "Requirement already satisfied: smart-open<7.0.0,>=5.2.1 in /Applications/Anaconda3/anaconda3/lib/python3.9/site-packages (from spacy<3.8.0,>=3.7.0->ru-core-news-sm==3.7.0) (6.4.0)\n",
            "Requirement already satisfied: tqdm<5.0.0,>=4.38.0 in /Applications/Anaconda3/anaconda3/lib/python3.9/site-packages (from spacy<3.8.0,>=3.7.0->ru-core-news-sm==3.7.0) (4.66.1)\n",
            "Requirement already satisfied: requests<3.0.0,>=2.13.0 in /Applications/Anaconda3/anaconda3/lib/python3.9/site-packages (from spacy<3.8.0,>=3.7.0->ru-core-news-sm==3.7.0) (2.31.0)\n",
            "Requirement already satisfied: pydantic!=1.8,!=1.8.1,<3.0.0,>=1.7.4 in /Applications/Anaconda3/anaconda3/lib/python3.9/site-packages (from spacy<3.8.0,>=3.7.0->ru-core-news-sm==3.7.0) (2.4.2)\n",
            "Requirement already satisfied: jinja2 in /Users/anastasiaklubkova/.local/lib/python3.9/site-packages (from spacy<3.8.0,>=3.7.0->ru-core-news-sm==3.7.0) (3.1.2)\n",
            "Requirement already satisfied: setuptools in /Applications/Anaconda3/anaconda3/lib/python3.9/site-packages (from spacy<3.8.0,>=3.7.0->ru-core-news-sm==3.7.0) (68.2.2)\n",
            "Requirement already satisfied: packaging>=20.0 in /Applications/Anaconda3/anaconda3/lib/python3.9/site-packages (from spacy<3.8.0,>=3.7.0->ru-core-news-sm==3.7.0) (23.2)\n",
            "Requirement already satisfied: langcodes<4.0.0,>=3.2.0 in /Applications/Anaconda3/anaconda3/lib/python3.9/site-packages (from spacy<3.8.0,>=3.7.0->ru-core-news-sm==3.7.0) (3.3.0)\n",
            "Requirement already satisfied: numpy>=1.19.0 in /Applications/Anaconda3/anaconda3/lib/python3.9/site-packages (from spacy<3.8.0,>=3.7.0->ru-core-news-sm==3.7.0) (1.23.5)\n",
            "Requirement already satisfied: annotated-types>=0.4.0 in /Applications/Anaconda3/anaconda3/lib/python3.9/site-packages (from pydantic!=1.8,!=1.8.1,<3.0.0,>=1.7.4->spacy<3.8.0,>=3.7.0->ru-core-news-sm==3.7.0) (0.6.0)\n",
            "Requirement already satisfied: pydantic-core==2.10.1 in /Applications/Anaconda3/anaconda3/lib/python3.9/site-packages (from pydantic!=1.8,!=1.8.1,<3.0.0,>=1.7.4->spacy<3.8.0,>=3.7.0->ru-core-news-sm==3.7.0) (2.10.1)\n",
            "Requirement already satisfied: typing-extensions>=4.6.1 in /Applications/Anaconda3/anaconda3/lib/python3.9/site-packages (from pydantic!=1.8,!=1.8.1,<3.0.0,>=1.7.4->spacy<3.8.0,>=3.7.0->ru-core-news-sm==3.7.0) (4.8.0)\n",
            "Requirement already satisfied: charset-normalizer<4,>=2 in /Applications/Anaconda3/anaconda3/lib/python3.9/site-packages (from requests<3.0.0,>=2.13.0->spacy<3.8.0,>=3.7.0->ru-core-news-sm==3.7.0) (2.1.1)\n",
            "Requirement already satisfied: idna<4,>=2.5 in /Applications/Anaconda3/anaconda3/lib/python3.9/site-packages (from requests<3.0.0,>=2.13.0->spacy<3.8.0,>=3.7.0->ru-core-news-sm==3.7.0) (3.4)\n",
            "Requirement already satisfied: urllib3<3,>=1.21.1 in /Applications/Anaconda3/anaconda3/lib/python3.9/site-packages (from requests<3.0.0,>=2.13.0->spacy<3.8.0,>=3.7.0->ru-core-news-sm==3.7.0) (2.0.7)\n",
            "Requirement already satisfied: certifi>=2017.4.17 in /Applications/Anaconda3/anaconda3/lib/python3.9/site-packages (from requests<3.0.0,>=2.13.0->spacy<3.8.0,>=3.7.0->ru-core-news-sm==3.7.0) (2023.7.22)\n",
            "Requirement already satisfied: blis<0.8.0,>=0.7.8 in /Applications/Anaconda3/anaconda3/lib/python3.9/site-packages (from thinc<8.3.0,>=8.1.8->spacy<3.8.0,>=3.7.0->ru-core-news-sm==3.7.0) (0.7.11)\n",
            "Requirement already satisfied: confection<1.0.0,>=0.0.1 in /Applications/Anaconda3/anaconda3/lib/python3.9/site-packages (from thinc<8.3.0,>=8.1.8->spacy<3.8.0,>=3.7.0->ru-core-news-sm==3.7.0) (0.1.3)\n",
            "Requirement already satisfied: click<9.0.0,>=7.1.1 in /Applications/Anaconda3/anaconda3/lib/python3.9/site-packages (from typer<0.10.0,>=0.3.0->spacy<3.8.0,>=3.7.0->ru-core-news-sm==3.7.0) (8.1.7)\n",
            "Requirement already satisfied: cloudpathlib<0.17.0,>=0.7.0 in /Applications/Anaconda3/anaconda3/lib/python3.9/site-packages (from weasel<0.4.0,>=0.1.0->spacy<3.8.0,>=3.7.0->ru-core-news-sm==3.7.0) (0.16.0)\n",
            "Requirement already satisfied: MarkupSafe>=2.0 in /Applications/Anaconda3/anaconda3/lib/python3.9/site-packages (from jinja2->spacy<3.8.0,>=3.7.0->ru-core-news-sm==3.7.0) (2.1.3)\n",
            "\u001b[38;5;2m✔ Download and installation successful\u001b[0m\n",
            "You can now load the package via spacy.load('ru_core_news_sm')\n"
          ]
        }
      ],
      "source": [
        "!python3 -m spacy download ru_core_news_sm"
      ]
    },
    {
      "cell_type": "code",
      "execution_count": null,
      "id": "2c43b658-07cc-4d6f-b0aa-fd2862259e4e",
      "metadata": {
        "id": "2c43b658-07cc-4d6f-b0aa-fd2862259e4e"
      },
      "outputs": [],
      "source": [
        "nlp_ru = spacy.load('ru_core_news_sm', disable=['parser', 'ner'])"
      ]
    },
    {
      "cell_type": "code",
      "execution_count": null,
      "id": "7c09cb69-da0a-4b3a-80fc-ecc965800325",
      "metadata": {
        "id": "7c09cb69-da0a-4b3a-80fc-ecc965800325"
      },
      "outputs": [],
      "source": [
        "def lemmatize_ru(doc):\n",
        "    doc = nlp_ru(doc)\n",
        "    return \" \".join([token.lemma_ for token in doc])"
      ]
    },
    {
      "cell_type": "code",
      "execution_count": null,
      "id": "2a60c87e-a981-46ae-b4d1-3f425432e9ec",
      "metadata": {
        "id": "2a60c87e-a981-46ae-b4d1-3f425432e9ec",
        "outputId": "354f50f4-cab9-4f46-c78d-a681b9277bbf"
      },
      "outputs": [
        {
          "data": {
            "text/plain": [
              "'жить облом обломок тот любовь попытка любить нужный теряю смысл пусть невыносимый стать грусть комната потолок чужда б уплыть океан сшить б красный сарафан б забыть б лезть сеть волос пропахнуть дым вечер довольно длинный жить попытка попытка пытками найти родное ищу пью ч рный кофе утрам понять это такой б уплыть океан сшить б красный сарафан б забыть б лезть сеть б уплыть океан сшить б красный сарафан б забыть б лезть сеть волос пропахнуть дым вечер довольно длинный'"
            ]
          },
          "execution_count": 115,
          "metadata": {},
          "output_type": "execute_result"
        }
      ],
      "source": [
        "lemmatize_ru(ru['text_clear'].iloc[0])"
      ]
    },
    {
      "cell_type": "code",
      "execution_count": null,
      "id": "af23b108-ea3c-495b-a3eb-0d933044b506",
      "metadata": {
        "id": "af23b108-ea3c-495b-a3eb-0d933044b506",
        "outputId": "228ce570-73b9-4597-ccfa-cb4b8a8a3575"
      },
      "outputs": [
        {
          "name": "stdout",
          "output_type": "stream",
          "text": [
            "CPU times: user 1min 22s, sys: 411 ms, total: 1min 22s\n",
            "Wall time: 1min 23s\n"
          ]
        },
        {
          "name": "stderr",
          "output_type": "stream",
          "text": [
            "<timed exec>:1: SettingWithCopyWarning: \n",
            "A value is trying to be set on a copy of a slice from a DataFrame.\n",
            "Try using .loc[row_indexer,col_indexer] = value instead\n",
            "\n",
            "See the caveats in the documentation: https://pandas.pydata.org/pandas-docs/stable/user_guide/indexing.html#returning-a-view-versus-a-copy\n"
          ]
        }
      ],
      "source": [
        "%time ru['lemm'] = ru['text_clear'].apply(lemmatize_ru)"
      ]
    },
    {
      "cell_type": "code",
      "execution_count": null,
      "id": "a4652af4-f492-4191-aae4-8cb8223a79ef",
      "metadata": {
        "id": "a4652af4-f492-4191-aae4-8cb8223a79ef",
        "outputId": "50bec406-01ea-4605-976d-8cb159fcef84"
      },
      "outputs": [
        {
          "data": {
            "text/plain": [
              "1        tell fable fable tell fable tell fable tell fa...\n",
              "2        ashamed fear doubt hurt make back aftermath le...\n",
              "3        ashamed fear doubt hurt make back aftermath le...\n",
              "4        show well afraid well good enough know never w...\n",
              "5        show well afraid well good enough know never w...\n",
              "                               ...                        \n",
              "11408    come window sound crescendo ah come apartment ...\n",
              "11409    little plan scheme lose like forget dream seem...\n",
              "11410    make way try survive another day day day day w...\n",
              "11411    leave good job city work man ev ry night day n...\n",
              "11412    leave good job city work man ev ry night day n...\n",
              "Name: lemm, Length: 9074, dtype: object"
            ]
          },
          "execution_count": 117,
          "metadata": {},
          "output_type": "execute_result"
        }
      ],
      "source": [
        "en['lemm']"
      ]
    },
    {
      "cell_type": "code",
      "execution_count": null,
      "id": "ed4c25e1-bd52-45d2-9f95-9f10e23a6c6c",
      "metadata": {
        "id": "ed4c25e1-bd52-45d2-9f95-9f10e23a6c6c",
        "outputId": "4681fdd5-3170-4de1-9ccd-e148f1f7eb77"
      },
      "outputs": [
        {
          "data": {
            "text/plain": [
              "0        жить облом обломок тот любовь попытка любить н...\n",
              "31       знать это покидать именно тот подделка китай к...\n",
              "32       пристегни ремни нам пора взлетать знать это ле...\n",
              "35       ждать обмануть ищу фонтан тобой договориться э...\n",
              "40       помнить быстро закрываться дверь помнить звук ...\n",
              "                               ...                        \n",
              "11391    беспощадный нарядный гореть огн м гореть огн м...\n",
              "11400    маяк возможный захочешь найти маяк показать пу...\n",
              "11402    хотеть узнать оу знать выда т твой недопитый б...\n",
              "11405    ой девчонка хан ой влюбиться пацана ой девчонк...\n",
              "11413    ночь чь сердце любовь гореть вс внутри это ч м...\n",
              "Name: lemm, Length: 2211, dtype: object"
            ]
          },
          "execution_count": 118,
          "metadata": {},
          "output_type": "execute_result"
        }
      ],
      "source": [
        "ru['lemm']"
      ]
    },
    {
      "cell_type": "code",
      "execution_count": null,
      "id": "244d88a5-9ede-460e-9cb1-13720674c587",
      "metadata": {
        "id": "244d88a5-9ede-460e-9cb1-13720674c587"
      },
      "outputs": [],
      "source": [
        "en = en.drop('text_clear', axis = 1)"
      ]
    },
    {
      "cell_type": "code",
      "execution_count": null,
      "id": "d0743774-b728-4c6a-8003-1eb5d87508f2",
      "metadata": {
        "id": "d0743774-b728-4c6a-8003-1eb5d87508f2"
      },
      "outputs": [],
      "source": [
        "ru = ru.drop('text_clear', axis = 1)"
      ]
    },
    {
      "cell_type": "code",
      "execution_count": null,
      "id": "6ff29c37-f773-4df9-a10a-8759c4217e5d",
      "metadata": {
        "id": "6ff29c37-f773-4df9-a10a-8759c4217e5d"
      },
      "outputs": [],
      "source": [
        "ru.to_csv(r'/Users/anastasiaklubkova/Downloads/ru.csv',  index=False)"
      ]
    },
    {
      "cell_type": "code",
      "execution_count": null,
      "id": "18949c23-f17d-4128-9bd3-bdebe569b1cb",
      "metadata": {
        "id": "18949c23-f17d-4128-9bd3-bdebe569b1cb"
      },
      "outputs": [],
      "source": [
        "en.to_csv(r'/Users/anastasiaklubkova/Downloads/en.csv',  index=False)"
      ]
    },
    {
      "cell_type": "markdown",
      "source": [
        "Далее стоит обратно вернуть лемматизированные признаки в исходные данные"
      ],
      "metadata": {
        "id": "HDMGxbLt8g7O"
      },
      "id": "HDMGxbLt8g7O"
    },
    {
      "cell_type": "code",
      "execution_count": null,
      "id": "9c8c7929-4542-480d-8916-529566780c2d",
      "metadata": {
        "id": "9c8c7929-4542-480d-8916-529566780c2d",
        "outputId": "1cc28c25-285b-42f2-f3f0-c3923dd8ec2b"
      },
      "outputs": [
        {
          "name": "stdout",
          "output_type": "stream",
          "text": [
            "<class 'pandas.core.frame.DataFrame'>\n",
            "Index: 9074 entries, 1 to 11412\n",
            "Data columns (total 11 columns):\n",
            " #   Column     Non-Null Count  Dtype         \n",
            "---  ------     --------------  -----         \n",
            " 0   track_id   9074 non-null   object        \n",
            " 1   lyric_id   9074 non-null   object        \n",
            " 2   text       9074 non-null   object        \n",
            " 3   title      9074 non-null   object        \n",
            " 4   isrc       9074 non-null   object        \n",
            " 5   genres     9074 non-null   object        \n",
            " 6   duration   9074 non-null   float64       \n",
            " 7   data_time  9074 non-null   datetime64[ns]\n",
            " 8   lang       9074 non-null   object        \n",
            " 9   exit       9074 non-null   int64         \n",
            " 10  lemm       9074 non-null   object        \n",
            "dtypes: datetime64[ns](1), float64(1), int64(1), object(8)\n",
            "memory usage: 850.7+ KB\n"
          ]
        }
      ],
      "source": [
        "en.info()"
      ]
    },
    {
      "cell_type": "code",
      "execution_count": null,
      "id": "3770361b-d07a-4491-92a8-5fa722ef8592",
      "metadata": {
        "id": "3770361b-d07a-4491-92a8-5fa722ef8592",
        "outputId": "c0b1969c-03e4-49c1-bcf6-a3c3093069f4"
      },
      "outputs": [
        {
          "name": "stdout",
          "output_type": "stream",
          "text": [
            "<class 'pandas.core.frame.DataFrame'>\n",
            "Index: 2211 entries, 0 to 11413\n",
            "Data columns (total 11 columns):\n",
            " #   Column     Non-Null Count  Dtype         \n",
            "---  ------     --------------  -----         \n",
            " 0   track_id   2211 non-null   object        \n",
            " 1   lyric_id   2211 non-null   object        \n",
            " 2   text       2211 non-null   object        \n",
            " 3   title      2211 non-null   object        \n",
            " 4   isrc       2211 non-null   object        \n",
            " 5   genres     2211 non-null   object        \n",
            " 6   duration   2211 non-null   float64       \n",
            " 7   data_time  2211 non-null   datetime64[ns]\n",
            " 8   lang       2211 non-null   object        \n",
            " 9   exit       2211 non-null   int64         \n",
            " 10  lemm       2211 non-null   object        \n",
            "dtypes: datetime64[ns](1), float64(1), int64(1), object(8)\n",
            "memory usage: 207.3+ KB\n"
          ]
        }
      ],
      "source": [
        "ru.info()"
      ]
    },
    {
      "cell_type": "code",
      "execution_count": null,
      "id": "348d0008-5603-4d16-ac68-bec18ba32d3c",
      "metadata": {
        "id": "348d0008-5603-4d16-ac68-bec18ba32d3c",
        "outputId": "a9ff22d3-51f7-4d69-c518-9d87dbbe606c"
      },
      "outputs": [
        {
          "data": {
            "text/plain": [
              "990"
            ]
          },
          "execution_count": 125,
          "metadata": {},
          "output_type": "execute_result"
        }
      ],
      "source": [
        "en['track_id'].duplicated().sum()"
      ]
    },
    {
      "cell_type": "code",
      "execution_count": null,
      "id": "83605771-eb42-4e8d-9369-f2934bbad015",
      "metadata": {
        "id": "83605771-eb42-4e8d-9369-f2934bbad015",
        "outputId": "02c50c90-8bed-42c8-c823-d1a354d84029"
      },
      "outputs": [
        {
          "data": {
            "text/plain": [
              "118"
            ]
          },
          "execution_count": 126,
          "metadata": {},
          "output_type": "execute_result"
        }
      ],
      "source": [
        "ru['track_id'].duplicated().sum()"
      ]
    },
    {
      "cell_type": "code",
      "execution_count": null,
      "id": "514a9a4d-f860-4ce6-9f48-ded977ffab4d",
      "metadata": {
        "id": "514a9a4d-f860-4ce6-9f48-ded977ffab4d"
      },
      "outputs": [],
      "source": [
        "en['track_id'] = en['track_id'].drop_duplicates()"
      ]
    },
    {
      "cell_type": "code",
      "execution_count": null,
      "id": "c2284f5c-bd35-4be4-a6a4-caba6feaf93d",
      "metadata": {
        "id": "c2284f5c-bd35-4be4-a6a4-caba6feaf93d"
      },
      "outputs": [],
      "source": [
        "ru['track_id'] = ru['track_id'].drop_duplicates()"
      ]
    },
    {
      "cell_type": "code",
      "execution_count": null,
      "id": "b49b0f48-5362-4bc5-b407-52e9d4f42598",
      "metadata": {
        "id": "b49b0f48-5362-4bc5-b407-52e9d4f42598"
      },
      "outputs": [],
      "source": [
        "en = en.dropna()"
      ]
    },
    {
      "cell_type": "code",
      "execution_count": null,
      "id": "0ec7e797-1ad6-499d-80a5-5340d3b071b1",
      "metadata": {
        "id": "0ec7e797-1ad6-499d-80a5-5340d3b071b1"
      },
      "outputs": [],
      "source": [
        "ru = ru.dropna()"
      ]
    },
    {
      "cell_type": "code",
      "execution_count": null,
      "id": "19ebdaa8-1c63-4b41-8be2-5bd2371e007d",
      "metadata": {
        "id": "19ebdaa8-1c63-4b41-8be2-5bd2371e007d",
        "outputId": "c4973204-bb30-4bc5-f772-c8a100e8c14b"
      },
      "outputs": [
        {
          "name": "stdout",
          "output_type": "stream",
          "text": [
            "<class 'pandas.core.frame.DataFrame'>\n",
            "Index: 11285 entries, 0 to 11413\n",
            "Data columns (total 10 columns):\n",
            " #   Column     Non-Null Count  Dtype         \n",
            "---  ------     --------------  -----         \n",
            " 0   track_id   11285 non-null  object        \n",
            " 1   lyric_id   11285 non-null  object        \n",
            " 2   text       11285 non-null  object        \n",
            " 3   title      11285 non-null  object        \n",
            " 4   isrc       11285 non-null  object        \n",
            " 5   genres     11285 non-null  object        \n",
            " 6   duration   11285 non-null  float64       \n",
            " 7   data_time  11285 non-null  datetime64[ns]\n",
            " 8   lang       11285 non-null  object        \n",
            " 9   exit       11285 non-null  int64         \n",
            "dtypes: datetime64[ns](1), float64(1), int64(1), object(7)\n",
            "memory usage: 969.8+ KB\n"
          ]
        }
      ],
      "source": [
        "mer_d.info()"
      ]
    },
    {
      "cell_type": "code",
      "execution_count": null,
      "id": "dc1b3c55-0491-4d86-bb94-f390f8d705f4",
      "metadata": {
        "id": "dc1b3c55-0491-4d86-bb94-f390f8d705f4",
        "outputId": "d0dcfebe-ea7a-4c15-d0d5-6834af9f2861"
      },
      "outputs": [
        {
          "data": {
            "text/plain": [
              "1109"
            ]
          },
          "execution_count": 132,
          "metadata": {},
          "output_type": "execute_result"
        }
      ],
      "source": [
        "mer_d['track_id'].duplicated().sum()"
      ]
    },
    {
      "cell_type": "code",
      "execution_count": null,
      "id": "699e5a28-32ab-4191-a86a-376f81bf7f55",
      "metadata": {
        "id": "699e5a28-32ab-4191-a86a-376f81bf7f55"
      },
      "outputs": [],
      "source": [
        "mer_d['track_id'] = mer_d['track_id'].drop_duplicates()"
      ]
    },
    {
      "cell_type": "code",
      "execution_count": null,
      "id": "52ea7d91-a8a6-4209-97ef-7f2369259508",
      "metadata": {
        "id": "52ea7d91-a8a6-4209-97ef-7f2369259508"
      },
      "outputs": [],
      "source": [
        "mer_d = mer_d.dropna()"
      ]
    },
    {
      "cell_type": "code",
      "execution_count": null,
      "id": "f8b74799-e1d9-4387-8a8b-67fac424f769",
      "metadata": {
        "id": "f8b74799-e1d9-4387-8a8b-67fac424f769"
      },
      "outputs": [],
      "source": [
        "lemm = pd.merge(mer_d, ru[['track_id','lemm']], on='track_id', how='left')"
      ]
    },
    {
      "cell_type": "code",
      "execution_count": null,
      "id": "d536fd63-ac09-4f32-87b1-0557c54d0381",
      "metadata": {
        "id": "d536fd63-ac09-4f32-87b1-0557c54d0381",
        "outputId": "d95f7b4c-766a-45c8-9fd7-036fa1531237"
      },
      "outputs": [
        {
          "name": "stdout",
          "output_type": "stream",
          "text": [
            "<class 'pandas.core.frame.DataFrame'>\n",
            "RangeIndex: 10176 entries, 0 to 10175\n",
            "Data columns (total 11 columns):\n",
            " #   Column     Non-Null Count  Dtype         \n",
            "---  ------     --------------  -----         \n",
            " 0   track_id   10176 non-null  object        \n",
            " 1   lyric_id   10176 non-null  object        \n",
            " 2   text       10176 non-null  object        \n",
            " 3   title      10176 non-null  object        \n",
            " 4   isrc       10176 non-null  object        \n",
            " 5   genres     10176 non-null  object        \n",
            " 6   duration   10176 non-null  float64       \n",
            " 7   data_time  10176 non-null  datetime64[ns]\n",
            " 8   lang       10176 non-null  object        \n",
            " 9   exit       10176 non-null  int64         \n",
            " 10  lemm       2093 non-null   object        \n",
            "dtypes: datetime64[ns](1), float64(1), int64(1), object(8)\n",
            "memory usage: 874.6+ KB\n"
          ]
        }
      ],
      "source": [
        "lemm.info()"
      ]
    },
    {
      "cell_type": "code",
      "execution_count": null,
      "id": "72587505-b6c6-4e34-be1f-6ede417211d9",
      "metadata": {
        "id": "72587505-b6c6-4e34-be1f-6ede417211d9"
      },
      "outputs": [],
      "source": [
        "lemm = pd.merge(lemm, en[['track_id','lemm']], on='track_id', how='left')"
      ]
    },
    {
      "cell_type": "code",
      "execution_count": null,
      "id": "78764248-fa38-4e2d-97c8-202798c2b936",
      "metadata": {
        "id": "78764248-fa38-4e2d-97c8-202798c2b936",
        "outputId": "383c1c69-ee63-493c-ff87-5abb8a41ad07"
      },
      "outputs": [
        {
          "name": "stdout",
          "output_type": "stream",
          "text": [
            "<class 'pandas.core.frame.DataFrame'>\n",
            "RangeIndex: 10176 entries, 0 to 10175\n",
            "Data columns (total 12 columns):\n",
            " #   Column     Non-Null Count  Dtype         \n",
            "---  ------     --------------  -----         \n",
            " 0   track_id   10176 non-null  object        \n",
            " 1   lyric_id   10176 non-null  object        \n",
            " 2   text       10176 non-null  object        \n",
            " 3   title      10176 non-null  object        \n",
            " 4   isrc       10176 non-null  object        \n",
            " 5   genres     10176 non-null  object        \n",
            " 6   duration   10176 non-null  float64       \n",
            " 7   data_time  10176 non-null  datetime64[ns]\n",
            " 8   lang       10176 non-null  object        \n",
            " 9   exit       10176 non-null  int64         \n",
            " 10  lemm_x     2093 non-null   object        \n",
            " 11  lemm_y     8084 non-null   object        \n",
            "dtypes: datetime64[ns](1), float64(1), int64(1), object(9)\n",
            "memory usage: 954.1+ KB\n"
          ]
        }
      ],
      "source": [
        "lemm.info()"
      ]
    },
    {
      "cell_type": "code",
      "execution_count": null,
      "id": "b5177254-8169-49ba-a1fb-1b5ee506634c",
      "metadata": {
        "id": "b5177254-8169-49ba-a1fb-1b5ee506634c"
      },
      "outputs": [],
      "source": [
        "lemm['lemm_x'] = lemm['lemm_x'].fillna(lemm['lemm_y'])"
      ]
    },
    {
      "cell_type": "code",
      "execution_count": null,
      "id": "38eb644e-9feb-494e-93da-569b819f94f2",
      "metadata": {
        "id": "38eb644e-9feb-494e-93da-569b819f94f2"
      },
      "outputs": [],
      "source": [
        "lemm = lemm.drop('lemm_y', axis = 1)"
      ]
    },
    {
      "cell_type": "code",
      "execution_count": null,
      "id": "9bbfa137-b79d-44d5-aa43-0b135e9265eb",
      "metadata": {
        "id": "9bbfa137-b79d-44d5-aa43-0b135e9265eb"
      },
      "outputs": [],
      "source": [
        "lemm = lemm.dropna()"
      ]
    },
    {
      "cell_type": "code",
      "execution_count": null,
      "id": "0416a50d-29c1-49ab-b468-69f52ea6bc4d",
      "metadata": {
        "id": "0416a50d-29c1-49ab-b468-69f52ea6bc4d"
      },
      "outputs": [],
      "source": [
        "lemm.to_csv(r'/Users/anastasiaklubkova/Downloads/super_lemm.csv',  index=False)"
      ]
    },
    {
      "cell_type": "code",
      "execution_count": null,
      "id": "284981b5-d213-42b4-a504-d6a5beff5656",
      "metadata": {
        "id": "284981b5-d213-42b4-a504-d6a5beff5656",
        "outputId": "a1d6d9e0-ac18-42cf-b811-1e3af38ea000"
      },
      "outputs": [
        {
          "name": "stdout",
          "output_type": "stream",
          "text": [
            "<class 'pandas.core.frame.DataFrame'>\n",
            "RangeIndex: 10176 entries, 0 to 10175\n",
            "Data columns (total 11 columns):\n",
            " #   Column     Non-Null Count  Dtype         \n",
            "---  ------     --------------  -----         \n",
            " 0   track_id   10176 non-null  object        \n",
            " 1   lyric_id   10176 non-null  object        \n",
            " 2   text       10176 non-null  object        \n",
            " 3   title      10176 non-null  object        \n",
            " 4   isrc       10176 non-null  object        \n",
            " 5   genres     10176 non-null  object        \n",
            " 6   duration   10176 non-null  float64       \n",
            " 7   data_time  10176 non-null  datetime64[ns]\n",
            " 8   lang       10176 non-null  object        \n",
            " 9   exit       10176 non-null  int64         \n",
            " 10  lemm_x     10176 non-null  object        \n",
            "dtypes: datetime64[ns](1), float64(1), int64(1), object(8)\n",
            "memory usage: 874.6+ KB\n"
          ]
        }
      ],
      "source": [
        "lemm.info()"
      ]
    },
    {
      "cell_type": "code",
      "execution_count": null,
      "id": "135e9924-22b2-47b3-a7c3-98db075407a2",
      "metadata": {
        "id": "135e9924-22b2-47b3-a7c3-98db075407a2",
        "outputId": "9096f5de-4a40-4510-87d9-41ecfd312660"
      },
      "outputs": [
        {
          "data": {
            "text/html": [
              "<div>\n",
              "<style scoped>\n",
              "    .dataframe tbody tr th:only-of-type {\n",
              "        vertical-align: middle;\n",
              "    }\n",
              "\n",
              "    .dataframe tbody tr th {\n",
              "        vertical-align: top;\n",
              "    }\n",
              "\n",
              "    .dataframe thead th {\n",
              "        text-align: right;\n",
              "    }\n",
              "</style>\n",
              "<table border=\"1\" class=\"dataframe\">\n",
              "  <thead>\n",
              "    <tr style=\"text-align: right;\">\n",
              "      <th></th>\n",
              "      <th>track_id</th>\n",
              "      <th>lyric_id</th>\n",
              "      <th>text</th>\n",
              "      <th>title</th>\n",
              "      <th>isrc</th>\n",
              "      <th>genres</th>\n",
              "      <th>duration</th>\n",
              "      <th>data_time</th>\n",
              "      <th>lang</th>\n",
              "      <th>exit</th>\n",
              "      <th>lemm_x</th>\n",
              "    </tr>\n",
              "  </thead>\n",
              "  <tbody>\n",
              "    <tr>\n",
              "      <th>0</th>\n",
              "      <td>1c4b1230f937e4c548ff732523214dcd</td>\n",
              "      <td>a951f9504e89759e9d23039b7b17ec14</td>\n",
              "      <td>Живу сейчас обломами, обломками не той любви\\n...</td>\n",
              "      <td>Сарафан</td>\n",
              "      <td>AEA0D1860569</td>\n",
              "      <td>FOREIGNBARD, BARD</td>\n",
              "      <td>140000.0</td>\n",
              "      <td>2018-09-26 02:24:21</td>\n",
              "      <td>RU</td>\n",
              "      <td>0</td>\n",
              "      <td>жить облом обломок тот любовь попытка любить н...</td>\n",
              "    </tr>\n",
              "    <tr>\n",
              "      <th>1</th>\n",
              "      <td>0faea89b0d7d6235b5b74def72511bd8</td>\n",
              "      <td>0c749bc3f01eb8e6cf986fa14ccfc585</td>\n",
              "      <td>Tell me your fable\\nA fable\\nTell me your fabl...</td>\n",
              "      <td>Children</td>\n",
              "      <td>QZS672199805</td>\n",
              "      <td>ELECTRONICS</td>\n",
              "      <td>214590.0</td>\n",
              "      <td>2021-08-04 13:08:25</td>\n",
              "      <td>EN</td>\n",
              "      <td>1</td>\n",
              "      <td>tell fable fable tell fable tell fable tell fa...</td>\n",
              "    </tr>\n",
              "    <tr>\n",
              "      <th>2</th>\n",
              "      <td>9c6dc41d5ccd9968d07f055da5d8f741</td>\n",
              "      <td>e2c8830fbc86e5964478243099eec23a</td>\n",
              "      <td>You're ashamed about all your fears and doubts...</td>\n",
              "      <td>Briane</td>\n",
              "      <td>USUM71006645</td>\n",
              "      <td>ROCK, ALLROCK</td>\n",
              "      <td>317910.0</td>\n",
              "      <td>2010-05-20 05:00:14</td>\n",
              "      <td>EN</td>\n",
              "      <td>0</td>\n",
              "      <td>ashamed fear doubt hurt make back aftermath le...</td>\n",
              "    </tr>\n",
              "    <tr>\n",
              "      <th>3</th>\n",
              "      <td>bfd04a73e9cffdf0e282c92219a86ea1</td>\n",
              "      <td>e2c8830fbc86e5964478243099eec23a</td>\n",
              "      <td>You're ashamed about all your fears and doubts...</td>\n",
              "      <td>Briane</td>\n",
              "      <td>USM951100211</td>\n",
              "      <td>ROCK, ALLROCK</td>\n",
              "      <td>317860.0</td>\n",
              "      <td>2014-09-23 12:07:56</td>\n",
              "      <td>EN</td>\n",
              "      <td>0</td>\n",
              "      <td>ashamed fear doubt hurt make back aftermath le...</td>\n",
              "    </tr>\n",
              "    <tr>\n",
              "      <th>4</th>\n",
              "      <td>8d70930d09cd239c948408d1317d8659</td>\n",
              "      <td>7624653ca8522ba93470843c74961b7d</td>\n",
              "      <td>You showed him all the best of you,\\nBut I'm a...</td>\n",
              "      <td>Broken Angel</td>\n",
              "      <td>USUM71006638</td>\n",
              "      <td>ROCK, ALLROCK</td>\n",
              "      <td>321280.0</td>\n",
              "      <td>2010-05-20 05:00:14</td>\n",
              "      <td>EN</td>\n",
              "      <td>0</td>\n",
              "      <td>show well afraid well good enough know never w...</td>\n",
              "    </tr>\n",
              "  </tbody>\n",
              "</table>\n",
              "</div>"
            ],
            "text/plain": [
              "                           track_id                          lyric_id  \\\n",
              "0  1c4b1230f937e4c548ff732523214dcd  a951f9504e89759e9d23039b7b17ec14   \n",
              "1  0faea89b0d7d6235b5b74def72511bd8  0c749bc3f01eb8e6cf986fa14ccfc585   \n",
              "2  9c6dc41d5ccd9968d07f055da5d8f741  e2c8830fbc86e5964478243099eec23a   \n",
              "3  bfd04a73e9cffdf0e282c92219a86ea1  e2c8830fbc86e5964478243099eec23a   \n",
              "4  8d70930d09cd239c948408d1317d8659  7624653ca8522ba93470843c74961b7d   \n",
              "\n",
              "                                                text         title  \\\n",
              "0  Живу сейчас обломами, обломками не той любви\\n...       Сарафан   \n",
              "1  Tell me your fable\\nA fable\\nTell me your fabl...      Children   \n",
              "2  You're ashamed about all your fears and doubts...        Briane   \n",
              "3  You're ashamed about all your fears and doubts...        Briane   \n",
              "4  You showed him all the best of you,\\nBut I'm a...  Broken Angel   \n",
              "\n",
              "           isrc             genres  duration           data_time lang  exit  \\\n",
              "0  AEA0D1860569  FOREIGNBARD, BARD  140000.0 2018-09-26 02:24:21   RU     0   \n",
              "1  QZS672199805        ELECTRONICS  214590.0 2021-08-04 13:08:25   EN     1   \n",
              "2  USUM71006645      ROCK, ALLROCK  317910.0 2010-05-20 05:00:14   EN     0   \n",
              "3  USM951100211      ROCK, ALLROCK  317860.0 2014-09-23 12:07:56   EN     0   \n",
              "4  USUM71006638      ROCK, ALLROCK  321280.0 2010-05-20 05:00:14   EN     0   \n",
              "\n",
              "                                              lemm_x  \n",
              "0  жить облом обломок тот любовь попытка любить н...  \n",
              "1  tell fable fable tell fable tell fable tell fa...  \n",
              "2  ashamed fear doubt hurt make back aftermath le...  \n",
              "3  ashamed fear doubt hurt make back aftermath le...  \n",
              "4  show well afraid well good enough know never w...  "
            ]
          },
          "execution_count": 144,
          "metadata": {},
          "output_type": "execute_result"
        }
      ],
      "source": [
        "lemm.head()"
      ]
    },
    {
      "cell_type": "markdown",
      "id": "591aa7b3-74df-4753-acf1-649b8c150902",
      "metadata": {
        "id": "591aa7b3-74df-4753-acf1-649b8c150902"
      },
      "source": [
        "# Поиск автора трека и года релиза путем выполнения парсинга"
      ]
    },
    {
      "cell_type": "code",
      "execution_count": null,
      "id": "c4b6d3e0-9abb-4016-8367-a60b45b967bd",
      "metadata": {
        "id": "c4b6d3e0-9abb-4016-8367-a60b45b967bd",
        "outputId": "63b37ab7-e144-4795-e4d9-115e2c5a3e71"
      },
      "outputs": [
        {
          "data": {
            "text/plain": [
              "\"\\nУстановка MusicMetaLinke\\n\\n# Клонирование репозитория MusicMetaLinker с GitHub\\n!git clone https://github.com/andreamust/MusicMetaLinker.git\\n\\n# Смена рабочей директории на директорию проекта MusicMetaLinker\\n%cd MusicMetaLinker\\n\\n!pip install -r requirements.txt\\n\\nfrom MusicMetaLinker.linking import linking\\nfrom MusicMetaLinker.linking.linking import Align\\n\\nДобавим колонку artist\\n\\n# Функция, которая будет получать имя артиста по isrc\\ndef get_artist_name(isrc):\\n    align = Align(isrc=isrc)\\n    artist_name = align.get_artist()\\n    return artist_name\\n\\n# Применим функцию к каждой строке в колонке 'isrc' и создадим новую колонку 'artist'\\ndf['artist'] = df['isrc'].apply(get_artist_name)\\n\\ndf['artist'].unique()\\n\\n#Очень похоже, что полученные исполнители на самом деле используются как 'заглушка', не будем использовать этот столбец.\\n\\nДобавим колонку release_date\\n\\n# Функция, которая будет получать имя артиста по isrc\\n\\ndef get_release_dates(isrc):\\n    align = Align(isrc=isrc)\\n    release_date = align.get_release_date()\\n    return release_date\\n\\n# Применим функцию к каждой строке в колонке 'isrc' и создадим новую колонку 'artist'\\n\\ndf['release_date'] = df['isrc'].apply(get_artist_name)\\n\\n\""
            ]
          },
          "execution_count": 145,
          "metadata": {},
          "output_type": "execute_result"
        }
      ],
      "source": [
        "'''\n",
        "Установка MusicMetaLinke\n",
        "\n",
        "# Клонирование репозитория MusicMetaLinker с GitHub\n",
        "!git clone https://github.com/andreamust/MusicMetaLinker.git\n",
        "\n",
        "# Смена рабочей директории на директорию проекта MusicMetaLinker\n",
        "%cd MusicMetaLinker\n",
        "\n",
        "!pip install -r requirements.txt\n",
        "\n",
        "from MusicMetaLinker.linking import linking\n",
        "from MusicMetaLinker.linking.linking import Align\n",
        "\n",
        "Добавим колонку artist\n",
        "\n",
        "# Функция, которая будет получать имя артиста по isrc\n",
        "def get_artist_name(isrc):\n",
        "    align = Align(isrc=isrc)\n",
        "    artist_name = align.get_artist()\n",
        "    return artist_name\n",
        "\n",
        "# Применим функцию к каждой строке в колонке 'isrc' и создадим новую колонку 'artist'\n",
        "df['artist'] = df['isrc'].apply(get_artist_name)\n",
        "\n",
        "df['artist'].unique()\n",
        "\n",
        "#Очень похоже, что полученные исполнители на самом деле используются как 'заглушка', не будем использовать этот столбец.\n",
        "\n",
        "Добавим колонку release_date\n",
        "\n",
        "# Функция, которая будет получать имя артиста по isrc\n",
        "\n",
        "def get_release_dates(isrc):\n",
        "    align = Align(isrc=isrc)\n",
        "    release_date = align.get_release_date()\n",
        "    return release_date\n",
        "\n",
        "# Применим функцию к каждой строке в колонке 'isrc' и создадим новую колонку 'artist'\n",
        "\n",
        "df['release_date'] = df['isrc'].apply(get_artist_name)\n",
        "\n",
        "'''"
      ]
    },
    {
      "cell_type": "markdown",
      "source": [
        "Результат выполнения ячнйки выше:"
      ],
      "metadata": {
        "id": "8x562rUw8z1m"
      },
      "id": "8x562rUw8z1m"
    },
    {
      "cell_type": "code",
      "execution_count": null,
      "id": "8053f1d1-b8b2-45e2-9eef-1bbfce00fb0d",
      "metadata": {
        "id": "8053f1d1-b8b2-45e2-9eef-1bbfce00fb0d"
      },
      "outputs": [],
      "source": [
        "nat_data = pd.read_csv('/Users/anastasiaklubkova/Downloads/date_full (1).csv')"
      ]
    },
    {
      "cell_type": "code",
      "execution_count": null,
      "id": "53018043-dd7e-4f30-8601-5a6ed2ca6250",
      "metadata": {
        "id": "53018043-dd7e-4f30-8601-5a6ed2ca6250",
        "outputId": "258447cb-c916-410f-fd0f-d82efc44ddab"
      },
      "outputs": [
        {
          "name": "stdout",
          "output_type": "stream",
          "text": [
            "<class 'pandas.core.frame.DataFrame'>\n",
            "RangeIndex: 11000 entries, 0 to 10999\n",
            "Data columns (total 13 columns):\n",
            " #   Column        Non-Null Count  Dtype  \n",
            "---  ------        --------------  -----  \n",
            " 0   Unnamed: 0.1  11000 non-null  int64  \n",
            " 1   Unnamed: 0    11000 non-null  int64  \n",
            " 2   track_id      11000 non-null  object \n",
            " 3   lyric_id      11000 non-null  object \n",
            " 4   text          11000 non-null  object \n",
            " 5   title         11000 non-null  object \n",
            " 6   isrc          11000 non-null  object \n",
            " 7   genres        10942 non-null  object \n",
            " 8   duration      11000 non-null  float64\n",
            " 9   lang          11000 non-null  object \n",
            " 10  data_time     11000 non-null  object \n",
            " 11  exit          11000 non-null  int64  \n",
            " 12  release_date  9840 non-null   float64\n",
            "dtypes: float64(2), int64(3), object(8)\n",
            "memory usage: 1.1+ MB\n"
          ]
        }
      ],
      "source": [
        "nat_data.info()"
      ]
    },
    {
      "cell_type": "code",
      "execution_count": null,
      "id": "b8995906-6564-4559-9487-5ff13724a885",
      "metadata": {
        "id": "b8995906-6564-4559-9487-5ff13724a885",
        "outputId": "76e2cadb-f6da-4c48-fc48-08e0b69c4daa"
      },
      "outputs": [
        {
          "data": {
            "text/plain": [
              "1090"
            ]
          },
          "execution_count": 148,
          "metadata": {},
          "output_type": "execute_result"
        }
      ],
      "source": [
        "nat_data['track_id'].duplicated().sum()"
      ]
    },
    {
      "cell_type": "code",
      "execution_count": null,
      "id": "4a51bb46-8db6-495c-b538-5b2feae6208f",
      "metadata": {
        "id": "4a51bb46-8db6-495c-b538-5b2feae6208f"
      },
      "outputs": [],
      "source": [
        "nat_data['track_id'] = nat_data['track_id'].drop_duplicates()"
      ]
    },
    {
      "cell_type": "code",
      "execution_count": null,
      "id": "7841fa17-fe1f-40ae-b8c2-cf206807ced3",
      "metadata": {
        "id": "7841fa17-fe1f-40ae-b8c2-cf206807ced3"
      },
      "outputs": [],
      "source": [
        "nat_data = nat_data.dropna()"
      ]
    },
    {
      "cell_type": "code",
      "execution_count": null,
      "id": "03250f7a-23d9-4515-a937-ffdbef548144",
      "metadata": {
        "id": "03250f7a-23d9-4515-a937-ffdbef548144"
      },
      "outputs": [],
      "source": [
        "lemm = pd.merge(lemm, nat_data[['track_id','release_date']], on='track_id', how='left')"
      ]
    },
    {
      "cell_type": "code",
      "execution_count": null,
      "id": "44a27d2b-ff1f-4d12-9de6-3e0671166a1e",
      "metadata": {
        "id": "44a27d2b-ff1f-4d12-9de6-3e0671166a1e",
        "outputId": "4569471a-a948-497f-be6c-23891044eaa2"
      },
      "outputs": [
        {
          "name": "stdout",
          "output_type": "stream",
          "text": [
            "<class 'pandas.core.frame.DataFrame'>\n",
            "RangeIndex: 10176 entries, 0 to 10175\n",
            "Data columns (total 12 columns):\n",
            " #   Column        Non-Null Count  Dtype         \n",
            "---  ------        --------------  -----         \n",
            " 0   track_id      10176 non-null  object        \n",
            " 1   lyric_id      10176 non-null  object        \n",
            " 2   text          10176 non-null  object        \n",
            " 3   title         10176 non-null  object        \n",
            " 4   isrc          10176 non-null  object        \n",
            " 5   genres        10176 non-null  object        \n",
            " 6   duration      10176 non-null  float64       \n",
            " 7   data_time     10176 non-null  datetime64[ns]\n",
            " 8   lang          10176 non-null  object        \n",
            " 9   exit          10176 non-null  int64         \n",
            " 10  lemm_x        10176 non-null  object        \n",
            " 11  release_date  8847 non-null   float64       \n",
            "dtypes: datetime64[ns](1), float64(2), int64(1), object(8)\n",
            "memory usage: 954.1+ KB\n"
          ]
        }
      ],
      "source": [
        "lemm.info()"
      ]
    },
    {
      "cell_type": "code",
      "execution_count": null,
      "id": "f7d354a7-c9b0-4d57-a89b-a302f900ae1d",
      "metadata": {
        "id": "f7d354a7-c9b0-4d57-a89b-a302f900ae1d"
      },
      "outputs": [],
      "source": [
        "lemm = lemm.dropna()"
      ]
    },
    {
      "cell_type": "code",
      "execution_count": null,
      "id": "8f53375a-bcde-4bbd-a88e-bfb539f76ab2",
      "metadata": {
        "id": "8f53375a-bcde-4bbd-a88e-bfb539f76ab2",
        "outputId": "55a1d3f7-b2e9-4dd7-f4af-78337fea207f"
      },
      "outputs": [
        {
          "name": "stdout",
          "output_type": "stream",
          "text": [
            "<class 'pandas.core.frame.DataFrame'>\n",
            "Index: 8847 entries, 0 to 9909\n",
            "Data columns (total 12 columns):\n",
            " #   Column        Non-Null Count  Dtype         \n",
            "---  ------        --------------  -----         \n",
            " 0   track_id      8847 non-null   object        \n",
            " 1   lyric_id      8847 non-null   object        \n",
            " 2   text          8847 non-null   object        \n",
            " 3   title         8847 non-null   object        \n",
            " 4   isrc          8847 non-null   object        \n",
            " 5   genres        8847 non-null   object        \n",
            " 6   duration      8847 non-null   float64       \n",
            " 7   data_time     8847 non-null   datetime64[ns]\n",
            " 8   lang          8847 non-null   object        \n",
            " 9   exit          8847 non-null   int64         \n",
            " 10  lemm_x        8847 non-null   object        \n",
            " 11  release_date  8847 non-null   float64       \n",
            "dtypes: datetime64[ns](1), float64(2), int64(1), object(8)\n",
            "memory usage: 898.5+ KB\n"
          ]
        }
      ],
      "source": [
        "lemm.info()"
      ]
    },
    {
      "cell_type": "code",
      "execution_count": null,
      "id": "b44fe868-c21b-4f9a-81f3-148511b90dd8",
      "metadata": {
        "id": "b44fe868-c21b-4f9a-81f3-148511b90dd8"
      },
      "outputs": [],
      "source": [
        "new_data = lemm"
      ]
    },
    {
      "cell_type": "markdown",
      "source": [
        "Таким образом мы собрали новые признаки и готовы обучать модели"
      ],
      "metadata": {
        "id": "4Y4E6lpu85Y6"
      },
      "id": "4Y4E6lpu85Y6"
    },
    {
      "cell_type": "code",
      "execution_count": null,
      "id": "5e7309e2-423b-4fde-aec1-ba684339da55",
      "metadata": {
        "id": "5e7309e2-423b-4fde-aec1-ba684339da55",
        "outputId": "c3108a64-2ab6-4885-d4c0-4016a7cfaf95"
      },
      "outputs": [
        {
          "data": {
            "text/plain": [
              "True"
            ]
          },
          "execution_count": 156,
          "metadata": {},
          "output_type": "execute_result"
        }
      ],
      "source": [
        "data_copy = new_data\n",
        "data_copy.shape == new_data.shape"
      ]
    },
    {
      "cell_type": "code",
      "execution_count": null,
      "id": "S9NUFZQvJPGF",
      "metadata": {
        "id": "S9NUFZQvJPGF"
      },
      "outputs": [],
      "source": [
        "data_train, data_test = train_test_split(data_copy, test_size=0.25, random_state=12345)"
      ]
    },
    {
      "cell_type": "code",
      "execution_count": null,
      "id": "02384bf0-0c8e-4457-ad4c-05bc536a4d74",
      "metadata": {
        "id": "02384bf0-0c8e-4457-ad4c-05bc536a4d74"
      },
      "outputs": [],
      "source": [
        "from sklearn.utils import shuffle"
      ]
    },
    {
      "cell_type": "markdown",
      "source": [
        "Удалим нерелевантные задаче классификации признаки"
      ],
      "metadata": {
        "id": "56Nkauj18_mu"
      },
      "id": "56Nkauj18_mu"
    },
    {
      "cell_type": "code",
      "execution_count": null,
      "id": "4fea8215-fb90-40ac-8116-177e959da5e9",
      "metadata": {
        "id": "4fea8215-fb90-40ac-8116-177e959da5e9"
      },
      "outputs": [],
      "source": [
        "features_train = data_train.drop(columns = ['exit', 'track_id', 'lyric_id', 'text', 'title', 'isrc', 'lang', 'data_time'])\n",
        "target_train = data_train['exit']\n",
        "\n",
        "features_test = data_test.drop(columns = ['exit', 'track_id', 'lyric_id', 'text', 'title', 'isrc', 'lang', 'data_time'])\n",
        "target_test = data_test['exit']"
      ]
    },
    {
      "cell_type": "code",
      "execution_count": null,
      "id": "cd84a35c-9d02-494a-ab6a-27879c0d6547",
      "metadata": {
        "id": "cd84a35c-9d02-494a-ab6a-27879c0d6547",
        "outputId": "c5e82def-7382-4738-90a7-5887090a3f7e"
      },
      "outputs": [
        {
          "name": "stderr",
          "output_type": "stream",
          "text": [
            "/Applications/Anaconda3/anaconda3/lib/python3.9/site-packages/sklearn/preprocessing/_label.py:97: DataConversionWarning: A column-vector y was passed when a 1d array was expected. Please change the shape of y to (n_samples, ), for example using ravel().\n",
            "  y = column_or_1d(y, warn=True)\n",
            "/Applications/Anaconda3/anaconda3/lib/python3.9/site-packages/sklearn/preprocessing/_label.py:132: DataConversionWarning: A column-vector y was passed when a 1d array was expected. Please change the shape of y to (n_samples, ), for example using ravel().\n",
            "  y = column_or_1d(y, dtype=self.classes_.dtype, warn=True)\n"
          ]
        },
        {
          "data": {
            "text/html": [
              "<div>\n",
              "<style scoped>\n",
              "    .dataframe tbody tr th:only-of-type {\n",
              "        vertical-align: middle;\n",
              "    }\n",
              "\n",
              "    .dataframe tbody tr th {\n",
              "        vertical-align: top;\n",
              "    }\n",
              "\n",
              "    .dataframe thead th {\n",
              "        text-align: right;\n",
              "    }\n",
              "</style>\n",
              "<table border=\"1\" class=\"dataframe\">\n",
              "  <thead>\n",
              "    <tr style=\"text-align: right;\">\n",
              "      <th></th>\n",
              "      <th>genres</th>\n",
              "      <th>duration</th>\n",
              "      <th>lemm_x</th>\n",
              "      <th>release_date</th>\n",
              "    </tr>\n",
              "  </thead>\n",
              "  <tbody>\n",
              "    <tr>\n",
              "      <th>3170</th>\n",
              "      <td>85</td>\n",
              "      <td>256780.0</td>\n",
              "      <td>time use look father eye happy home king golde...</td>\n",
              "      <td>2014.0</td>\n",
              "    </tr>\n",
              "    <tr>\n",
              "      <th>52</th>\n",
              "      <td>128</td>\n",
              "      <td>239760.0</td>\n",
              "      <td>oh morning come burst cloud amen lift blindfol...</td>\n",
              "      <td>2011.0</td>\n",
              "    </tr>\n",
              "    <tr>\n",
              "      <th>1773</th>\n",
              "      <td>123</td>\n",
              "      <td>133720.0</td>\n",
              "      <td>bone juice man yuh uh huh yeah uhh yeah let ge...</td>\n",
              "      <td>2020.0</td>\n",
              "    </tr>\n",
              "    <tr>\n",
              "      <th>2025</th>\n",
              "      <td>85</td>\n",
              "      <td>206860.0</td>\n",
              "      <td>think hurt one ever leave quite sore word cut ...</td>\n",
              "      <td>2015.0</td>\n",
              "    </tr>\n",
              "    <tr>\n",
              "      <th>7343</th>\n",
              "      <td>49</td>\n",
              "      <td>219270.0</td>\n",
              "      <td>света бродить позабыв вс уходить подобно ветер...</td>\n",
              "      <td>2022.0</td>\n",
              "    </tr>\n",
              "  </tbody>\n",
              "</table>\n",
              "</div>"
            ],
            "text/plain": [
              "      genres  duration                                             lemm_x  \\\n",
              "3170      85  256780.0  time use look father eye happy home king golde...   \n",
              "52       128  239760.0  oh morning come burst cloud amen lift blindfol...   \n",
              "1773     123  133720.0  bone juice man yuh uh huh yeah uhh yeah let ge...   \n",
              "2025      85  206860.0  think hurt one ever leave quite sore word cut ...   \n",
              "7343      49  219270.0  света бродить позабыв вс уходить подобно ветер...   \n",
              "\n",
              "      release_date  \n",
              "3170        2014.0  \n",
              "52          2011.0  \n",
              "1773        2020.0  \n",
              "2025        2015.0  \n",
              "7343        2022.0  "
            ]
          },
          "execution_count": 160,
          "metadata": {},
          "output_type": "execute_result"
        }
      ],
      "source": [
        "features_categirical = ['genres']\n",
        "labelencoder = LabelEncoder()\n",
        "\n",
        "labelencoder.fit(features_train[features_categirical])\n",
        "features_train[\n",
        "    'genres'\n",
        "] = labelencoder.transform(features_train[features_categirical])\n",
        "\n",
        "\n",
        "features_train.head()"
      ]
    },
    {
      "cell_type": "code",
      "execution_count": null,
      "id": "6d37d5d4-bd7b-4df8-b9ea-b81062e43b2f",
      "metadata": {
        "id": "6d37d5d4-bd7b-4df8-b9ea-b81062e43b2f",
        "outputId": "709b5a47-9b41-42b1-f40d-fde6e2baff5b"
      },
      "outputs": [
        {
          "name": "stderr",
          "output_type": "stream",
          "text": [
            "/Applications/Anaconda3/anaconda3/lib/python3.9/site-packages/sklearn/preprocessing/_label.py:97: DataConversionWarning: A column-vector y was passed when a 1d array was expected. Please change the shape of y to (n_samples, ), for example using ravel().\n",
            "  y = column_or_1d(y, warn=True)\n",
            "/Applications/Anaconda3/anaconda3/lib/python3.9/site-packages/sklearn/preprocessing/_label.py:132: DataConversionWarning: A column-vector y was passed when a 1d array was expected. Please change the shape of y to (n_samples, ), for example using ravel().\n",
            "  y = column_or_1d(y, dtype=self.classes_.dtype, warn=True)\n"
          ]
        },
        {
          "data": {
            "text/html": [
              "<div>\n",
              "<style scoped>\n",
              "    .dataframe tbody tr th:only-of-type {\n",
              "        vertical-align: middle;\n",
              "    }\n",
              "\n",
              "    .dataframe tbody tr th {\n",
              "        vertical-align: top;\n",
              "    }\n",
              "\n",
              "    .dataframe thead th {\n",
              "        text-align: right;\n",
              "    }\n",
              "</style>\n",
              "<table border=\"1\" class=\"dataframe\">\n",
              "  <thead>\n",
              "    <tr style=\"text-align: right;\">\n",
              "      <th></th>\n",
              "      <th>genres</th>\n",
              "      <th>duration</th>\n",
              "      <th>lemm_x</th>\n",
              "      <th>release_date</th>\n",
              "    </tr>\n",
              "  </thead>\n",
              "  <tbody>\n",
              "    <tr>\n",
              "      <th>1871</th>\n",
              "      <td>83</td>\n",
              "      <td>151720.0</td>\n",
              "      <td>хотеть обнять уйти понять тот слово ч м вино л...</td>\n",
              "      <td>2019.0</td>\n",
              "    </tr>\n",
              "    <tr>\n",
              "      <th>5300</th>\n",
              "      <td>94</td>\n",
              "      <td>207020.0</td>\n",
              "      <td>partiste el coraz n ay mi coraz n pero mi amor...</td>\n",
              "      <td>2019.0</td>\n",
              "    </tr>\n",
              "    <tr>\n",
              "      <th>3691</th>\n",
              "      <td>15</td>\n",
              "      <td>109040.0</td>\n",
              "      <td>thinkin bout ooh ooh ooh ooh thinkin bout ooh ...</td>\n",
              "      <td>2021.0</td>\n",
              "    </tr>\n",
              "    <tr>\n",
              "      <th>7150</th>\n",
              "      <td>51</td>\n",
              "      <td>183320.0</td>\n",
              "      <td>boy girl wanna hear true story saturday night ...</td>\n",
              "      <td>2013.0</td>\n",
              "    </tr>\n",
              "    <tr>\n",
              "      <th>2676</th>\n",
              "      <td>70</td>\n",
              "      <td>211690.0</td>\n",
              "      <td>want nothing hear knock door cause could see f...</td>\n",
              "      <td>2021.0</td>\n",
              "    </tr>\n",
              "  </tbody>\n",
              "</table>\n",
              "</div>"
            ],
            "text/plain": [
              "      genres  duration                                             lemm_x  \\\n",
              "1871      83  151720.0  хотеть обнять уйти понять тот слово ч м вино л...   \n",
              "5300      94  207020.0  partiste el coraz n ay mi coraz n pero mi amor...   \n",
              "3691      15  109040.0  thinkin bout ooh ooh ooh ooh thinkin bout ooh ...   \n",
              "7150      51  183320.0  boy girl wanna hear true story saturday night ...   \n",
              "2676      70  211690.0  want nothing hear knock door cause could see f...   \n",
              "\n",
              "      release_date  \n",
              "1871        2019.0  \n",
              "5300        2019.0  \n",
              "3691        2021.0  \n",
              "7150        2013.0  \n",
              "2676        2021.0  "
            ]
          },
          "execution_count": 161,
          "metadata": {},
          "output_type": "execute_result"
        }
      ],
      "source": [
        "labelencoder.fit(features_test[features_categirical])\n",
        "features_test[\n",
        "    'genres'\n",
        "] = labelencoder.transform(features_test[features_categirical])\n",
        "\n",
        "\n",
        "features_test.head()"
      ]
    },
    {
      "cell_type": "code",
      "execution_count": null,
      "id": "103b4eb6-4a49-48c7-b0c7-488b142443a9",
      "metadata": {
        "id": "103b4eb6-4a49-48c7-b0c7-488b142443a9",
        "outputId": "2b4718f2-be8c-4bc7-e010-4dadff9b0bdf"
      },
      "outputs": [
        {
          "name": "stdout",
          "output_type": "stream",
          "text": [
            "<class 'pandas.core.frame.DataFrame'>\n",
            "Index: 6635 entries, 3170 to 4670\n",
            "Data columns (total 4 columns):\n",
            " #   Column        Non-Null Count  Dtype  \n",
            "---  ------        --------------  -----  \n",
            " 0   genres        6635 non-null   int64  \n",
            " 1   duration      6635 non-null   float64\n",
            " 2   lemm_x        6635 non-null   object \n",
            " 3   release_date  6635 non-null   float64\n",
            "dtypes: float64(2), int64(1), object(1)\n",
            "memory usage: 259.2+ KB\n"
          ]
        }
      ],
      "source": [
        "features_train.info()"
      ]
    },
    {
      "cell_type": "code",
      "execution_count": null,
      "id": "d6055fce-f4af-4989-b14b-ea602e762e71",
      "metadata": {
        "id": "d6055fce-f4af-4989-b14b-ea602e762e71",
        "outputId": "7021e8a3-ceb2-4752-c087-07f1c87188fd"
      },
      "outputs": [
        {
          "name": "stdout",
          "output_type": "stream",
          "text": [
            "<class 'pandas.core.frame.DataFrame'>\n",
            "Index: 2212 entries, 1871 to 256\n",
            "Data columns (total 4 columns):\n",
            " #   Column        Non-Null Count  Dtype  \n",
            "---  ------        --------------  -----  \n",
            " 0   genres        2212 non-null   int64  \n",
            " 1   duration      2212 non-null   float64\n",
            " 2   lemm_x        2212 non-null   object \n",
            " 3   release_date  2212 non-null   float64\n",
            "dtypes: float64(2), int64(1), object(1)\n",
            "memory usage: 86.4+ KB\n"
          ]
        }
      ],
      "source": [
        "features_test.info()"
      ]
    },
    {
      "cell_type": "code",
      "execution_count": null,
      "id": "a4f5e42d-ad9a-4716-a367-ef1b0f809f5e",
      "metadata": {
        "id": "a4f5e42d-ad9a-4716-a367-ef1b0f809f5e"
      },
      "outputs": [],
      "source": [
        "from sklearn.feature_extraction.text import TfidfVectorizer\n",
        "\n",
        "vectorizer = TfidfVectorizer()\n",
        "\n",
        "TfidfV_train = vectorizer.fit_transform(features_train['lemm_x'])\n",
        "TfidfV_test = vectorizer.transform(features_test['lemm_x'])"
      ]
    },
    {
      "cell_type": "code",
      "execution_count": null,
      "id": "f36f95ac-b218-4af4-a630-d527fa1669ad",
      "metadata": {
        "id": "f36f95ac-b218-4af4-a630-d527fa1669ad"
      },
      "outputs": [],
      "source": [
        "num = ['genres', 'duration', 'release_date']"
      ]
    },
    {
      "cell_type": "code",
      "execution_count": null,
      "id": "8ce3a023-ac06-4502-92fb-4b08d67b3f13",
      "metadata": {
        "id": "8ce3a023-ac06-4502-92fb-4b08d67b3f13"
      },
      "outputs": [],
      "source": [
        "num_data_train = features_train[num]"
      ]
    },
    {
      "cell_type": "code",
      "execution_count": null,
      "id": "e8163f93-631b-47df-ac7d-f19fcbe4fbb3",
      "metadata": {
        "id": "e8163f93-631b-47df-ac7d-f19fcbe4fbb3"
      },
      "outputs": [],
      "source": [
        "text_data_train = TfidfV_train"
      ]
    },
    {
      "cell_type": "code",
      "execution_count": null,
      "id": "3e117097-b875-4821-84df-af8524874a88",
      "metadata": {
        "id": "3e117097-b875-4821-84df-af8524874a88",
        "outputId": "d31ce2b3-fcf4-4e2d-febb-aae00be519bc"
      },
      "outputs": [
        {
          "name": "stdout",
          "output_type": "stream",
          "text": [
            "<class 'pandas.core.frame.DataFrame'>\n",
            "Index: 6635 entries, 3170 to 4670\n",
            "Data columns (total 3 columns):\n",
            " #   Column        Non-Null Count  Dtype  \n",
            "---  ------        --------------  -----  \n",
            " 0   genres        6635 non-null   int64  \n",
            " 1   duration      6635 non-null   float64\n",
            " 2   release_date  6635 non-null   float64\n",
            "dtypes: float64(2), int64(1)\n",
            "memory usage: 207.3 KB\n"
          ]
        }
      ],
      "source": [
        "num_data_train.info()"
      ]
    },
    {
      "cell_type": "code",
      "execution_count": null,
      "id": "6f73c861-a872-4b83-8aba-46022b7178a6",
      "metadata": {
        "id": "6f73c861-a872-4b83-8aba-46022b7178a6"
      },
      "outputs": [],
      "source": [
        "num_data_test = features_train[num]"
      ]
    },
    {
      "cell_type": "code",
      "execution_count": null,
      "id": "6ef5e209-8ebe-468b-a7c0-edb5e81d23f5",
      "metadata": {
        "id": "6ef5e209-8ebe-468b-a7c0-edb5e81d23f5"
      },
      "outputs": [],
      "source": [
        "text_data_test = TfidfV_test"
      ]
    },
    {
      "cell_type": "code",
      "execution_count": null,
      "id": "9cd34ec0-4f85-4f4d-9ff1-3baa9a9d301b",
      "metadata": {
        "id": "9cd34ec0-4f85-4f4d-9ff1-3baa9a9d301b"
      },
      "outputs": [],
      "source": [
        "scaler = StandardScaler()\n",
        "scaler.fit(num_data_train)\n",
        "num_data_train = scaler.transform(num_data_train)\n",
        "num_data_test = scaler.transform(num_data_test)"
      ]
    },
    {
      "cell_type": "markdown",
      "id": "6945d307-95f5-438d-9e61-7e91ec965e02",
      "metadata": {
        "id": "6945d307-95f5-438d-9e61-7e91ec965e02"
      },
      "source": [
        "# Тестируем обучение на численных признаках"
      ]
    },
    {
      "cell_type": "markdown",
      "source": [
        "Далее мы решили разделить способы обучения для численных и текстовых признаков в целях исследования различий показателей качества предсказания является ли трек оригиналом или кавером"
      ],
      "metadata": {
        "id": "0-Ad7eTp9Ibu"
      },
      "id": "0-Ad7eTp9Ibu"
    },
    {
      "cell_type": "code",
      "execution_count": null,
      "id": "add9ae33-8521-4ccb-8c9a-8597b16a82df",
      "metadata": {
        "id": "add9ae33-8521-4ccb-8c9a-8597b16a82df"
      },
      "outputs": [],
      "source": [
        "classifiers_1 = [DecisionTreeClassifier(random_state=SEED),\n",
        "               RandomForestClassifier(random_state=SEED),\n",
        "               LogisticRegression(random_state=SEED),\n",
        "               CatBoostClassifier(random_state=SEED, verbose=False)]"
      ]
    },
    {
      "cell_type": "code",
      "execution_count": null,
      "id": "8f9c6aca-a102-4189-bd54-beafa4595a17",
      "metadata": {
        "id": "8f9c6aca-a102-4189-bd54-beafa4595a17",
        "outputId": "24fd8f88-7fb7-4981-83b7-68ead4eb0697"
      },
      "outputs": [
        {
          "name": "stdout",
          "output_type": "stream",
          "text": [
            "DecisionTreeClassifier(random_state=12345)\n",
            "\tВремя обучения: 0.025s\n",
            "\tВремя предсказания+оценка: 0.080s\n",
            "Средняя оценка качества модели: 0.8813562430710921\n",
            "\n",
            "RandomForestClassifier(random_state=12345)\n",
            "\tВремя обучения: 0.454s\n",
            "\tВремя предсказания+оценка: 1.925s\n",
            "Средняя оценка качества модели: 0.9018176325514655\n",
            "\n",
            "LogisticRegression(random_state=12345)\n",
            "\tВремя обучения: 0.040s\n",
            "\tВремя предсказания+оценка: 0.025s\n",
            "Средняя оценка качества модели: 0.8587770543470628\n",
            "\n",
            "<catboost.core.CatBoostClassifier object at 0x7f7d751ff4c0>\n",
            "\tВремя обучения: 2.272s\n",
            "\tВремя предсказания+оценка: 9.299s\n",
            "Средняя оценка качества модели: 0.9196228500528638\n",
            "\n"
          ]
        }
      ],
      "source": [
        "head = 10\n",
        "for model in classifiers_1[:head]:\n",
        "    start = time()\n",
        "    model.fit(num_data_train, target_train)\n",
        "    train_time = time() - start\n",
        "    start = time()\n",
        "    pred_train = model.predict(num_data_train)\n",
        "    scores = cross_val_score(estimator = model, X=num_data_train, y=target_train, scoring='f1')\n",
        "    final_score = sum(scores) / len(scores)\n",
        "    predict_time = time()-start\n",
        "    print(model)\n",
        "    print(\"\\tВремя обучения: %0.3fs\" % train_time)\n",
        "    print(\"\\tВремя предсказания+оценка: %0.3fs\" % predict_time)\n",
        "    print('Средняя оценка качества модели:', final_score)\n",
        "    print()"
      ]
    },
    {
      "cell_type": "markdown",
      "id": "33117de4-9a80-464e-8721-ad4a87add122",
      "metadata": {
        "id": "33117de4-9a80-464e-8721-ad4a87add122"
      },
      "source": [
        "# Тестируем на текстовых признаках"
      ]
    },
    {
      "cell_type": "code",
      "execution_count": null,
      "id": "dfa11dec-fa2e-4183-a65f-0656e6b91513",
      "metadata": {
        "id": "dfa11dec-fa2e-4183-a65f-0656e6b91513"
      },
      "outputs": [],
      "source": [
        "classifiers_2 = [DecisionTreeClassifier(random_state=SEED),\n",
        "               RandomForestClassifier(random_state=SEED)]"
      ]
    },
    {
      "cell_type": "code",
      "execution_count": null,
      "id": "f8f7221c-6a94-41da-99db-9523e723d9de",
      "metadata": {
        "id": "f8f7221c-6a94-41da-99db-9523e723d9de",
        "outputId": "2d44845f-3dd0-434b-eecd-4e03be6cc96c"
      },
      "outputs": [
        {
          "name": "stdout",
          "output_type": "stream",
          "text": [
            "DecisionTreeClassifier(random_state=12345)\n",
            "\tВремя обучения: 3.649s\n",
            "\tВремя предсказания+оценка: 15.425s\n",
            "Средняя оценка качества модели: 0.8793661865012012\n",
            "\n",
            "RandomForestClassifier(random_state=12345)\n",
            "\tВремя обучения: 5.632s\n",
            "\tВремя предсказания+оценка: 47.143s\n",
            "Средняя оценка качества модели: 0.9135603463784898\n",
            "\n"
          ]
        }
      ],
      "source": [
        "head = 10\n",
        "for model in classifiers_2[:head]:\n",
        "    start = time()\n",
        "    model.fit(text_data_train, target_train)\n",
        "    train_time = time() - start\n",
        "    start = time()\n",
        "    pred_train = model.predict(text_data_train)\n",
        "    scores = cross_val_score(estimator = model, X=text_data_train, y=target_train, scoring='f1')\n",
        "    final_score = sum(scores) / len(scores)\n",
        "    predict_time = time()-start\n",
        "    print(model)\n",
        "    print(\"\\tВремя обучения: %0.3fs\" % train_time)\n",
        "    print(\"\\tВремя предсказания+оценка: %0.3fs\" % predict_time)\n",
        "    print('Средняя оценка качества модели:', final_score)\n",
        "    print()"
      ]
    },
    {
      "cell_type": "markdown",
      "id": "251d1917-8c80-4ac6-a4ef-ee5c5ba9c996",
      "metadata": {
        "id": "251d1917-8c80-4ac6-a4ef-ee5c5ba9c996"
      },
      "source": [
        "# Решение задачи группировки оригинала трека и каверов"
      ]
    },
    {
      "cell_type": "markdown",
      "id": "54c6da1c-d852-40e1-bd74-22b5b0f1d3cc",
      "metadata": {
        "id": "54c6da1c-d852-40e1-bd74-22b5b0f1d3cc"
      },
      "source": [
        "**Векторизация текстов:** Для анализа текстов мф использовали библиотеку gensim и модель Doc2Vec. Это позволило нам преобразовать тексты в числовые векторы, которые можно использовать для вычисления сходства между текстами.  \n",
        "**Расчет сходства:** Моя модель Doc2Vec позволила нам вычислить степень сходства между текстами песен на основе косинусной близости. Это помогло нам определить, насколько тексты песен похожи друг на друга.  \n",
        "**Идентификация оригинальных и кавер-версий:** Мы определили индексы оригинальных и кавер-версий песен в нашем датафрейме на основе информации о типе песни.  \n",
        "**Создание новых столбцов для результатов:** Для хранения результатов мы создали новые столбцы в нашем датафрейме, такие как похожие оригинальные песни, похожие кавер-версии и оценки сходства.  \n",
        "**Выявление похожих песен:** МЫ определили, какие песни оказались похожими на другие, на основе расчета сходства между текстами.  \n",
        "**Что мы получили:** Мы получили  датафрейм, который содержит информацию о сходстве между парами песен. Для каждой песни мы знаем, какие другие песни в моей базе данных похожи на нее. Также, мы знаем степень сходства между этими парами песен.  \n",
        "**Как мы можем использовать это дальше:**\n",
        "Рекомендации для пользователей: мы можем использовать эти данные для рекомендации пользователям похожих песен на основе их предпочтений.  \n",
        "**Анализ трендов:** Мы можем исследовать, какие песни чаще всего имеют кавер-версии, и какие песни чаще всего используются как основа для каверов.\n",
        "\n",
        "**Описание:**  \n",
        "**similar_originals (Похожие оригинальные песни):** Этот столбец позволяет мне узнать, какие другие оригинальные песни в моей коллекции похожи на данную оригинальную песню. Это может быть полезно, если я хочу найти и предложить слушателям песни с схожим стилем или темой.\n",
        "\n",
        "**similar_covers  (Похожие кавер-версии):** Этот столбец позволяет мне узнать, какие кавер-версии похожи на данную кавер-версию песни.\n",
        "Это может быть полезно, если я хочу найти и предложить слушателям песни с схожим стилем или темой.\n",
        "\n",
        "**similarity_scores (Оценки сходства):** Этот столбец содержит числовые оценки, которые отражают степень сходства между парами песен. Я могу использовать эти оценки, чтобы узнать, какие песни схожи больше всего. Например, я могу предоставить  слушателям песни с самой высокой оценкой сходства, чтобы помочь им найти интересный им контент."
      ]
    },
    {
      "cell_type": "code",
      "execution_count": null,
      "id": "c96e08e2-79e6-4068-aed1-b9e57e6ca0f3",
      "metadata": {
        "id": "c96e08e2-79e6-4068-aed1-b9e57e6ca0f3"
      },
      "outputs": [],
      "source": [
        "'''\n",
        "import pandas as pd\n",
        "import numpy as np\n",
        "from gensim.models.doc2vec import Doc2Vec, TaggedDocument\n",
        "from sklearn.metrics.pairwise import cosine_similarity\n",
        "\n",
        "# Преобразование текстов в формат, пригодный для обработки Doc2Vec\n",
        "documents = [TaggedDocument(words=doc.split(), tags=[str(i)]) for i, doc in enumerate(clear_data['text'])]\n",
        "\n",
        "# Создание модели Doc2Vec\n",
        "model = Doc2Vec(vector_size=50, window=2, min_count=1, workers=4)\n",
        "model.build_vocab(documents)\n",
        "model.train(documents, total_examples=model.corpus_count, epochs=10)\n",
        "\n",
        "# Векторизация текстов\n",
        "text_vectors = [model.infer_vector(doc.split()) for doc in clear_data['text']]\n",
        "\n",
        "# Вычисление матрицы сходства между текстами\n",
        "similarity_matrix = cosine_similarity(text_vectors, text_vectors)\n",
        "\n",
        "# Исключаем диагональные элементы, так как они представляют собой сравнение текста с самим собой\n",
        "np.fill_diagonal(similarity_matrix, 0)\n",
        "\n",
        "# Определение индексов оригинальных текстов\n",
        "original_indices = [i for i, track_remake_type in enumerate(clear_data['track_remake_type']) if track_remake_type == 'ORIGINAL']\n",
        "\n",
        "cover_indices = [i for i, track_remake_type in enumerate(clear_data['track_remake_type']) if track_remake_type == 'COVER']\n",
        "\n",
        "# Создайте пустые столбцы в датафрейме для хранения результатов\n",
        "clear_data['similar_originals'] = None\n",
        "clear_data['similar_covers'] = None\n",
        "clear_data['similarity_scores'] = None\n",
        "\n",
        "# Найдем для каждого оригинала каверы и их похожие песни\n",
        "for original_index in original_indices:\n",
        "    original_title = clear_data.at[original_index, 'title']\n",
        "    similarities = similarity_matrix[original_index]\n",
        "    similar_text_indices = [i for i, similarity in enumerate(similarities) if similarity > 0.5]\n",
        "    similar_text_indices = [i for i in similar_text_indices if i != original_index]\n",
        "\n",
        "    if similar_text_indices:\n",
        "        similar_titles = [clear_data.at[i, 'title'] for i in similar_text_indices]\n",
        "        similarity_scores = [similarities[i] for i in similar_text_indices]\n",
        "        is_cover = [clear_data.at[i, 'track_remake_type'] == 'COVER' for i in similar_text_indices]\n",
        "        similar_originals = [title for title, is_cover in zip(similar_titles, is_cover) if not is_cover]\n",
        "        similar_covers = [title for title, is_cover in zip(similar_titles, is_cover) if is_cover]\n",
        "\n",
        "        clear_data.at[original_index, 'similar_originals'] = \", \".join(similar_originals)\n",
        "        clear_data.at[original_index, 'similar_covers'] = \", \".join(similar_covers)\n",
        "        clear_data.at[original_index, 'similarity_scores'] = \", \".join(map(str, similarity_scores))\n",
        "\n",
        "# Найдем для каждого кавера оригиналы и другие каверы\n",
        "for cover_index in cover_indices:\n",
        "    cover_title = clear_data.at[cover_index, 'title']\n",
        "    similarities = similarity_matrix[cover_index]\n",
        "    similar_text_indices = [i for i, similarity in enumerate(similarities) if similarity > 0.5]\n",
        "    similar_text_indices = [i for i in similar_text_indices if i != cover_index]\n",
        "\n",
        "    if similar_text_indices:\n",
        "        similar_titles = [clear_data.at[i, 'title'] for i in similar_text_indices]\n",
        "        similarity_scores = [similarities[i] for i in similar_text_indices]\n",
        "        is_cover = [clear_data.at[i, 'track_remake_type'] == 'COVER' for i in similar_text_indices]\n",
        "        similar_originals = [title for title, is_cover in zip(similar_titles, is_cover) if not is_cover]\n",
        "        similar_covers = [title for title, is_cover in zip(similar_titles, is_cover) if is_cover]\n",
        "\n",
        "        clear_data.at[cover_index, 'similar_originals'] = \", \".join(similar_originals)\n",
        "        clear_data.at[cover_index, 'similar_covers'] = \", \".join(similar_covers)\n",
        "        clear_data.at[cover_index, 'similarity_scores'] = \", \".join(map(str, similarity_scores))\n",
        "'''"
      ]
    },
    {
      "cell_type": "code",
      "source": [
        "import pandas as pd\n",
        "aleks_data = pd.read_csv('/clear_data_3.csv')"
      ],
      "metadata": {
        "id": "W0oUymIJ-Zao"
      },
      "id": "W0oUymIJ-Zao",
      "execution_count": null,
      "outputs": []
    },
    {
      "cell_type": "code",
      "execution_count": null,
      "id": "68bcb6e1-9177-4be8-a120-f551e128e24a",
      "metadata": {
        "id": "68bcb6e1-9177-4be8-a120-f551e128e24a"
      },
      "outputs": [],
      "source": [
        "aleks_data.head()"
      ]
    },
    {
      "cell_type": "code",
      "source": [],
      "metadata": {
        "id": "KfWEv2hE-K1W"
      },
      "id": "KfWEv2hE-K1W",
      "execution_count": null,
      "outputs": []
    }
  ],
  "metadata": {
    "colab": {
      "collapsed_sections": [
        "cbab1c96-02dd-444e-ae88-8d0d545937e6",
        "a8634f79-f053-482e-9cc2-bf4ddc0ac50e",
        "UzSFatN8XIlV"
      ],
      "provenance": []
    },
    "kernelspec": {
      "display_name": "Python 3 (ipykernel)",
      "language": "python",
      "name": "python3"
    },
    "language_info": {
      "codemirror_mode": {
        "name": "ipython",
        "version": 3
      },
      "file_extension": ".py",
      "mimetype": "text/x-python",
      "name": "python",
      "nbconvert_exporter": "python",
      "pygments_lexer": "ipython3",
      "version": "3.9.13"
    }
  },
  "nbformat": 4,
  "nbformat_minor": 5
}